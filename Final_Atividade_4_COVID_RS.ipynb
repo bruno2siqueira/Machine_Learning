{
  "nbformat": 4,
  "nbformat_minor": 0,
  "metadata": {
    "colab": {
      "name": "v.3 Atividade 4 COVID/RS - Aprendizado de Máquina",
      "provenance": [],
      "collapsed_sections": [],
      "toc_visible": true,
      "include_colab_link": true
    },
    "kernelspec": {
      "name": "python3",
      "display_name": "Python 3"
    }
  },
  "cells": [
    {
      "cell_type": "markdown",
      "metadata": {
        "id": "view-in-github",
        "colab_type": "text"
      },
      "source": [
        "<a href=\"https://colab.research.google.com/github/bruno2siqueira/Machine_Learning/blob/main/Final_Atividade_4_COVID_RS.ipynb\" target=\"_parent\"><img src=\"https://colab.research.google.com/assets/colab-badge.svg\" alt=\"Open In Colab\"/></a>"
      ]
    },
    {
      "cell_type": "markdown",
      "metadata": {
        "id": "pHtUCa-sC7B0"
      },
      "source": [
        "## **Atividade 4 - Aprendizado de Máquina: COVID-19**\n",
        "\n",
        "Por: Bruno Siqueira da Silva `bruno.siqueira@inf.ufpel.edu.br`\n",
        "\n",
        "O objetivo deste trabalho é utilizar e avaliar técnicas de aprendizado de máquina em uma base de dados real. Esta base é originada da Secretaria Estadual de Saúde do RS e contém todos casos registrados de COVID-19 no estado, com informações diversas sobre cada caso, incluindo informações de hospitalização e óbito.\n",
        "\n",
        "Observação: *Parte do código foi adaptada a partir dos notebooks apresentados pelo prof. Ricardo Araújo em aula.*\n",
        "\n",
        "`Código completo disponível no Colab` https://colab.research.google.com/drive/1GNAK7fY30ZhdatUOO15JWdLFUDvux4-v#scrollTo=MVrIQX1bgrNw\n",
        "\n",
        "Abaixo as etapas do trabalho:"
      ]
    },
    {
      "cell_type": "markdown",
      "metadata": {
        "id": "OxxcDmyIZecG"
      },
      "source": [
        "# 1 Preparação do ambiente\n",
        "\n",
        "###1.1 Importação das bibliotecas\n",
        "\n"
      ]
    },
    {
      "cell_type": "code",
      "metadata": {
        "id": "dBqal9X0RUWo",
        "colab": {
          "base_uri": "https://localhost:8080/"
        },
        "outputId": "fcf4cd16-0493-4abf-a3c5-43c907a4571a"
      },
      "source": [
        "import matplotlib.pyplot as pt\n",
        "import pandas as pd\n",
        "import numpy as np\n",
        "from sklearn.preprocessing import LabelBinarizer\n",
        "from unicodedata import normalize\n",
        "from google.colab import drive\n",
        "drive.mount('/content/drive')"
      ],
      "execution_count": 31,
      "outputs": [
        {
          "output_type": "stream",
          "text": [
            "Drive already mounted at /content/drive; to attempt to forcibly remount, call drive.mount(\"/content/drive\", force_remount=True).\n"
          ],
          "name": "stdout"
        }
      ]
    },
    {
      "cell_type": "markdown",
      "metadata": {
        "id": "0Slehnql5n4Y"
      },
      "source": [
        "### 1.2 Carregamento do arquivo\n",
        "\n",
        "* O primeiro passo é baixar dados epidemiológicos da COVID-19 no Rio Grande do Sul, Secretaria Estadual de Saúde - SES.\n",
        "\n",
        "* Disponível em: https://ti.saude.rs.gov.br/covid19/\n"
      ]
    },
    {
      "cell_type": "markdown",
      "metadata": {
        "id": "A4qKgdb75fg9"
      },
      "source": [
        "####1.2.1 Fonte de dados obtidos da Secretaria Estadual de Saúde do RS"
      ]
    },
    {
      "cell_type": "code",
      "metadata": {
        "id": "-_LlhG14Jgfp",
        "colab": {
          "base_uri": "https://localhost:8080/"
        },
        "outputId": "6e021af1-9ace-4f22-aff3-4db015f90d2e"
      },
      "source": [
        "# Baixar os dados e renomear para algo mais usável \n",
        "# Como os dados são atualizados diariamente, uma boa ideia fazer uma cópia mais estável\n",
        "\n",
        "!wget https://ti.saude.rs.gov.br/covid19/download\n",
        "!mv download dados_covid_rs.csv  #disponibiliza no ambiente de produção\n",
        "\n",
        "dados = pd.read_csv('/content/dados_covid_rs.csv', delimiter=';')"
      ],
      "execution_count": 32,
      "outputs": [
        {
          "output_type": "stream",
          "text": [
            "--2020-12-01 20:16:11--  https://ti.saude.rs.gov.br/covid19/download\n",
            "Resolving ti.saude.rs.gov.br (ti.saude.rs.gov.br)... 200.198.173.170\n",
            "Connecting to ti.saude.rs.gov.br (ti.saude.rs.gov.br)|200.198.173.170|:443... connected.\n",
            "HTTP request sent, awaiting response... 200 OK\n",
            "Length: unspecified [text/csv]\n",
            "Saving to: ‘download’\n",
            "\n",
            "download                [     <=>            ]  65.32M  3.40MB/s    in 21s     \n",
            "\n",
            "2020-12-01 20:16:35 (3.06 MB/s) - ‘download’ saved [68497604]\n",
            "\n"
          ],
          "name": "stdout"
        }
      ]
    },
    {
      "cell_type": "markdown",
      "metadata": {
        "id": "F2vMC13XQqMf"
      },
      "source": [
        "####1.2.2 Dando uma olhada se os dados foram carregados corretamente\n",
        "\n",
        "Foram gerados 322.058 registros (linhas) e 29 colunas\n"
      ]
    },
    {
      "cell_type": "code",
      "metadata": {
        "id": "CVwFhjPNQyMK",
        "colab": {
          "base_uri": "https://localhost:8080/",
          "height": 711
        },
        "outputId": "f6b95538-59c5-4100-cad4-759182f42066"
      },
      "source": [
        "dados"
      ],
      "execution_count": 33,
      "outputs": [
        {
          "output_type": "execute_result",
          "data": {
            "text/html": [
              "<div>\n",
              "<style scoped>\n",
              "    .dataframe tbody tr th:only-of-type {\n",
              "        vertical-align: middle;\n",
              "    }\n",
              "\n",
              "    .dataframe tbody tr th {\n",
              "        vertical-align: top;\n",
              "    }\n",
              "\n",
              "    .dataframe thead th {\n",
              "        text-align: right;\n",
              "    }\n",
              "</style>\n",
              "<table border=\"1\" class=\"dataframe\">\n",
              "  <thead>\n",
              "    <tr style=\"text-align: right;\">\n",
              "      <th></th>\n",
              "      <th>COD_IBGE</th>\n",
              "      <th>MUNICIPIO</th>\n",
              "      <th>COD_REGIAO_COVID</th>\n",
              "      <th>REGIAO_COVID</th>\n",
              "      <th>SEXO</th>\n",
              "      <th>FAIXAETARIA</th>\n",
              "      <th>CRITERIO</th>\n",
              "      <th>DATA_CONFIRMACAO</th>\n",
              "      <th>DATA_SINTOMAS</th>\n",
              "      <th>DATA_EVOLUCAO</th>\n",
              "      <th>EVOLUCAO</th>\n",
              "      <th>HOSPITALIZADO</th>\n",
              "      <th>FEBRE</th>\n",
              "      <th>TOSSE</th>\n",
              "      <th>GARGANTA</th>\n",
              "      <th>DISPNEIA</th>\n",
              "      <th>OUTROS</th>\n",
              "      <th>CONDICOES</th>\n",
              "      <th>GESTANTE</th>\n",
              "      <th>DATA_INCLUSAO_OBITO</th>\n",
              "      <th>DATA_EVOLUCAO_ESTIMADA</th>\n",
              "      <th>RACA_COR</th>\n",
              "      <th>ETNIA_INDIGENA</th>\n",
              "      <th>PROFISSIONAL_SAUDE</th>\n",
              "      <th>BAIRRO</th>\n",
              "      <th>HOSPITALIZACAO_SRAG</th>\n",
              "      <th>FONTE_INFORMACAO</th>\n",
              "      <th>PAIS_NASCIMENTO</th>\n",
              "      <th>PES_PRIV_LIBERDADE</th>\n",
              "    </tr>\n",
              "  </thead>\n",
              "  <tbody>\n",
              "    <tr>\n",
              "      <th>0</th>\n",
              "      <td>430003</td>\n",
              "      <td>ACEGUÁ</td>\n",
              "      <td>16</td>\n",
              "      <td>BAGE - R22</td>\n",
              "      <td>Feminino</td>\n",
              "      <td>40 a 49</td>\n",
              "      <td>RT-PCR</td>\n",
              "      <td>05/10/2020</td>\n",
              "      <td>29/09/2020</td>\n",
              "      <td>NaN</td>\n",
              "      <td>RECUPERADO</td>\n",
              "      <td>NAO</td>\n",
              "      <td>NAO</td>\n",
              "      <td>NAO</td>\n",
              "      <td>NAO</td>\n",
              "      <td>NAO</td>\n",
              "      <td>NAO</td>\n",
              "      <td>NaN</td>\n",
              "      <td>NAO</td>\n",
              "      <td>NaN</td>\n",
              "      <td>13/10/2020</td>\n",
              "      <td>BRANCA</td>\n",
              "      <td>NAO ENCONTRADO</td>\n",
              "      <td>NAO</td>\n",
              "      <td>ZONA RURAL</td>\n",
              "      <td>NAO</td>\n",
              "      <td>E-SUS</td>\n",
              "      <td>BRASIL</td>\n",
              "      <td>NAO</td>\n",
              "    </tr>\n",
              "    <tr>\n",
              "      <th>1</th>\n",
              "      <td>430003</td>\n",
              "      <td>ACEGUÁ</td>\n",
              "      <td>16</td>\n",
              "      <td>BAGE - R22</td>\n",
              "      <td>Feminino</td>\n",
              "      <td>20 a 29</td>\n",
              "      <td>RT-PCR</td>\n",
              "      <td>11/09/2020</td>\n",
              "      <td>08/09/2020</td>\n",
              "      <td>NaN</td>\n",
              "      <td>RECUPERADO</td>\n",
              "      <td>NAO</td>\n",
              "      <td>SIM</td>\n",
              "      <td>NAO</td>\n",
              "      <td>SIM</td>\n",
              "      <td>NAO</td>\n",
              "      <td>NAO</td>\n",
              "      <td>Gestante</td>\n",
              "      <td>SIM</td>\n",
              "      <td>NaN</td>\n",
              "      <td>22/09/2020</td>\n",
              "      <td>BRANCA</td>\n",
              "      <td>NAO ENCONTRADO</td>\n",
              "      <td>NAO</td>\n",
              "      <td>DOM TIMOTEO</td>\n",
              "      <td>NAO</td>\n",
              "      <td>E-SUS</td>\n",
              "      <td>BRASIL</td>\n",
              "      <td>NAO</td>\n",
              "    </tr>\n",
              "    <tr>\n",
              "      <th>2</th>\n",
              "      <td>430003</td>\n",
              "      <td>ACEGUÁ</td>\n",
              "      <td>16</td>\n",
              "      <td>BAGE - R22</td>\n",
              "      <td>Masculino</td>\n",
              "      <td>15 a 19</td>\n",
              "      <td>RT-PCR</td>\n",
              "      <td>06/10/2020</td>\n",
              "      <td>06/10/2020</td>\n",
              "      <td>NaN</td>\n",
              "      <td>RECUPERADO</td>\n",
              "      <td>NAO</td>\n",
              "      <td>NAO</td>\n",
              "      <td>NAO</td>\n",
              "      <td>NAO</td>\n",
              "      <td>NAO</td>\n",
              "      <td>NAO</td>\n",
              "      <td>NaN</td>\n",
              "      <td>NAO</td>\n",
              "      <td>NaN</td>\n",
              "      <td>20/10/2020</td>\n",
              "      <td>BRANCA</td>\n",
              "      <td>NAO ENCONTRADO</td>\n",
              "      <td>NAO</td>\n",
              "      <td>ZONA RURAL</td>\n",
              "      <td>NAO</td>\n",
              "      <td>E-SUS</td>\n",
              "      <td>BRASIL</td>\n",
              "      <td>NAO</td>\n",
              "    </tr>\n",
              "    <tr>\n",
              "      <th>3</th>\n",
              "      <td>430003</td>\n",
              "      <td>ACEGUÁ</td>\n",
              "      <td>16</td>\n",
              "      <td>BAGE - R22</td>\n",
              "      <td>Masculino</td>\n",
              "      <td>50 a 59</td>\n",
              "      <td>RT-PCR</td>\n",
              "      <td>23/11/2020</td>\n",
              "      <td>15/11/2020</td>\n",
              "      <td>NaN</td>\n",
              "      <td>RECUPERADO</td>\n",
              "      <td>NAO</td>\n",
              "      <td>NAO</td>\n",
              "      <td>NAO</td>\n",
              "      <td>NAO</td>\n",
              "      <td>SIM</td>\n",
              "      <td>NAO</td>\n",
              "      <td>NaN</td>\n",
              "      <td>NAO</td>\n",
              "      <td>NaN</td>\n",
              "      <td>29/11/2020</td>\n",
              "      <td>BRANCA</td>\n",
              "      <td>NAO ENCONTRADO</td>\n",
              "      <td>NAO</td>\n",
              "      <td>ZONA RURAL</td>\n",
              "      <td>NAO</td>\n",
              "      <td>E-SUS</td>\n",
              "      <td>BRASIL</td>\n",
              "      <td>NAO</td>\n",
              "    </tr>\n",
              "    <tr>\n",
              "      <th>4</th>\n",
              "      <td>430003</td>\n",
              "      <td>ACEGUÁ</td>\n",
              "      <td>16</td>\n",
              "      <td>BAGE - R22</td>\n",
              "      <td>Feminino</td>\n",
              "      <td>50 a 59</td>\n",
              "      <td>RT-PCR</td>\n",
              "      <td>26/11/2020</td>\n",
              "      <td>18/11/2020</td>\n",
              "      <td>NaN</td>\n",
              "      <td>EM ACOMPANHAMENTO</td>\n",
              "      <td>SIM</td>\n",
              "      <td>SIM</td>\n",
              "      <td>NAO</td>\n",
              "      <td>NAO</td>\n",
              "      <td>SIM</td>\n",
              "      <td>NAO</td>\n",
              "      <td>Doença Cardiovascular Crônica</td>\n",
              "      <td>NAO</td>\n",
              "      <td>NaN</td>\n",
              "      <td>NaN</td>\n",
              "      <td>BRANCA</td>\n",
              "      <td>NAO ENCONTRADO</td>\n",
              "      <td>NAO INFORMADO</td>\n",
              "      <td>ASSENTAMENTO</td>\n",
              "      <td>SIM</td>\n",
              "      <td>SIVEP HOSP</td>\n",
              "      <td>BRASIL</td>\n",
              "      <td>NAO</td>\n",
              "    </tr>\n",
              "    <tr>\n",
              "      <th>...</th>\n",
              "      <td>...</td>\n",
              "      <td>...</td>\n",
              "      <td>...</td>\n",
              "      <td>...</td>\n",
              "      <td>...</td>\n",
              "      <td>...</td>\n",
              "      <td>...</td>\n",
              "      <td>...</td>\n",
              "      <td>...</td>\n",
              "      <td>...</td>\n",
              "      <td>...</td>\n",
              "      <td>...</td>\n",
              "      <td>...</td>\n",
              "      <td>...</td>\n",
              "      <td>...</td>\n",
              "      <td>...</td>\n",
              "      <td>...</td>\n",
              "      <td>...</td>\n",
              "      <td>...</td>\n",
              "      <td>...</td>\n",
              "      <td>...</td>\n",
              "      <td>...</td>\n",
              "      <td>...</td>\n",
              "      <td>...</td>\n",
              "      <td>...</td>\n",
              "      <td>...</td>\n",
              "      <td>...</td>\n",
              "      <td>...</td>\n",
              "      <td>...</td>\n",
              "    </tr>\n",
              "    <tr>\n",
              "      <th>326420</th>\n",
              "      <td>432380</td>\n",
              "      <td>XANGRI-LÁ</td>\n",
              "      <td>3</td>\n",
              "      <td>CAPAO DA CANOA - R04 R05</td>\n",
              "      <td>Feminino</td>\n",
              "      <td>05 a 09</td>\n",
              "      <td>TESTE RÁPIDO</td>\n",
              "      <td>14/10/2020</td>\n",
              "      <td>01/10/2020</td>\n",
              "      <td>NaN</td>\n",
              "      <td>RECUPERADO</td>\n",
              "      <td>NAO</td>\n",
              "      <td>NAO</td>\n",
              "      <td>SIM</td>\n",
              "      <td>NAO</td>\n",
              "      <td>NAO</td>\n",
              "      <td>NAO</td>\n",
              "      <td>NaN</td>\n",
              "      <td>NAO</td>\n",
              "      <td>NaN</td>\n",
              "      <td>15/10/2020</td>\n",
              "      <td>BRANCA</td>\n",
              "      <td>NAO ENCONTRADO</td>\n",
              "      <td>NAO</td>\n",
              "      <td>CENTRO</td>\n",
              "      <td>NAO</td>\n",
              "      <td>E-SUS</td>\n",
              "      <td>BRASIL</td>\n",
              "      <td>NAO</td>\n",
              "    </tr>\n",
              "    <tr>\n",
              "      <th>326421</th>\n",
              "      <td>432380</td>\n",
              "      <td>XANGRI-LÁ</td>\n",
              "      <td>3</td>\n",
              "      <td>CAPAO DA CANOA - R04 R05</td>\n",
              "      <td>Feminino</td>\n",
              "      <td>30 a 39</td>\n",
              "      <td>Clínico-Imagem</td>\n",
              "      <td>13/10/2020</td>\n",
              "      <td>07/10/2020</td>\n",
              "      <td>NaN</td>\n",
              "      <td>RECUPERADO</td>\n",
              "      <td>NAO</td>\n",
              "      <td>NAO</td>\n",
              "      <td>SIM</td>\n",
              "      <td>NAO</td>\n",
              "      <td>NAO</td>\n",
              "      <td>NAO</td>\n",
              "      <td>NaN</td>\n",
              "      <td>NAO</td>\n",
              "      <td>NaN</td>\n",
              "      <td>21/10/2020</td>\n",
              "      <td>AMARELA</td>\n",
              "      <td>NAO ENCONTRADO</td>\n",
              "      <td>NAO</td>\n",
              "      <td>FIGUEIRINHA</td>\n",
              "      <td>NAO</td>\n",
              "      <td>E-SUS</td>\n",
              "      <td>BRASIL</td>\n",
              "      <td>NAO</td>\n",
              "    </tr>\n",
              "    <tr>\n",
              "      <th>326422</th>\n",
              "      <td>432380</td>\n",
              "      <td>XANGRI-LÁ</td>\n",
              "      <td>3</td>\n",
              "      <td>CAPAO DA CANOA - R04 R05</td>\n",
              "      <td>Masculino</td>\n",
              "      <td>60 a 69</td>\n",
              "      <td>TESTE RÁPIDO</td>\n",
              "      <td>08/10/2020</td>\n",
              "      <td>01/10/2020</td>\n",
              "      <td>NaN</td>\n",
              "      <td>RECUPERADO</td>\n",
              "      <td>NAO</td>\n",
              "      <td>SIM</td>\n",
              "      <td>SIM</td>\n",
              "      <td>SIM</td>\n",
              "      <td>NAO</td>\n",
              "      <td>NAO</td>\n",
              "      <td>NaN</td>\n",
              "      <td>NAO</td>\n",
              "      <td>NaN</td>\n",
              "      <td>15/10/2020</td>\n",
              "      <td>BRANCA</td>\n",
              "      <td>NAO ENCONTRADO</td>\n",
              "      <td>NAO</td>\n",
              "      <td>NOIVA DO MAR</td>\n",
              "      <td>NAO</td>\n",
              "      <td>E-SUS</td>\n",
              "      <td>BRASIL</td>\n",
              "      <td>NAO</td>\n",
              "    </tr>\n",
              "    <tr>\n",
              "      <th>326423</th>\n",
              "      <td>432380</td>\n",
              "      <td>XANGRI-LÁ</td>\n",
              "      <td>3</td>\n",
              "      <td>CAPAO DA CANOA - R04 R05</td>\n",
              "      <td>Masculino</td>\n",
              "      <td>60 a 69</td>\n",
              "      <td>RT-PCR</td>\n",
              "      <td>21/10/2020</td>\n",
              "      <td>14/09/2020</td>\n",
              "      <td>NaN</td>\n",
              "      <td>RECUPERADO</td>\n",
              "      <td>NAO</td>\n",
              "      <td>NAO</td>\n",
              "      <td>NAO</td>\n",
              "      <td>NAO</td>\n",
              "      <td>NAO</td>\n",
              "      <td>SIM</td>\n",
              "      <td>NaN</td>\n",
              "      <td>NAO</td>\n",
              "      <td>NaN</td>\n",
              "      <td>28/09/2020</td>\n",
              "      <td>NAO INFORMADO</td>\n",
              "      <td>NAO ENCONTRADO</td>\n",
              "      <td>NAO</td>\n",
              "      <td>GUARA</td>\n",
              "      <td>NAO</td>\n",
              "      <td>E-SUS</td>\n",
              "      <td>BRASIL</td>\n",
              "      <td>NAO</td>\n",
              "    </tr>\n",
              "    <tr>\n",
              "      <th>326424</th>\n",
              "      <td>432380</td>\n",
              "      <td>XANGRI-LÁ</td>\n",
              "      <td>3</td>\n",
              "      <td>CAPAO DA CANOA - R04 R05</td>\n",
              "      <td>Masculino</td>\n",
              "      <td>60 a 69</td>\n",
              "      <td>TESTE RÁPIDO</td>\n",
              "      <td>28/11/2020</td>\n",
              "      <td>19/11/2020</td>\n",
              "      <td>NaN</td>\n",
              "      <td>EM ACOMPANHAMENTO</td>\n",
              "      <td>SIM</td>\n",
              "      <td>SIM</td>\n",
              "      <td>NAO</td>\n",
              "      <td>SIM</td>\n",
              "      <td>SIM</td>\n",
              "      <td>NAO</td>\n",
              "      <td>Outros</td>\n",
              "      <td>NAO</td>\n",
              "      <td>NaN</td>\n",
              "      <td>NaN</td>\n",
              "      <td>BRANCA</td>\n",
              "      <td>NaN</td>\n",
              "      <td>NAO INFORMADO</td>\n",
              "      <td>RAINHA DO MAR</td>\n",
              "      <td>SIM</td>\n",
              "      <td>SIVEP HOSP</td>\n",
              "      <td>NaN</td>\n",
              "      <td>NAO</td>\n",
              "    </tr>\n",
              "  </tbody>\n",
              "</table>\n",
              "<p>326425 rows × 29 columns</p>\n",
              "</div>"
            ],
            "text/plain": [
              "        COD_IBGE  MUNICIPIO  ...  PAIS_NASCIMENTO PES_PRIV_LIBERDADE\n",
              "0         430003     ACEGUÁ  ...           BRASIL                NAO\n",
              "1         430003     ACEGUÁ  ...           BRASIL                NAO\n",
              "2         430003     ACEGUÁ  ...           BRASIL                NAO\n",
              "3         430003     ACEGUÁ  ...           BRASIL                NAO\n",
              "4         430003     ACEGUÁ  ...           BRASIL                NAO\n",
              "...          ...        ...  ...              ...                ...\n",
              "326420    432380  XANGRI-LÁ  ...           BRASIL                NAO\n",
              "326421    432380  XANGRI-LÁ  ...           BRASIL                NAO\n",
              "326422    432380  XANGRI-LÁ  ...           BRASIL                NAO\n",
              "326423    432380  XANGRI-LÁ  ...           BRASIL                NAO\n",
              "326424    432380  XANGRI-LÁ  ...              NaN                NAO\n",
              "\n",
              "[326425 rows x 29 columns]"
            ]
          },
          "metadata": {
            "tags": []
          },
          "execution_count": 33
        }
      ]
    },
    {
      "cell_type": "markdown",
      "metadata": {
        "id": "YFEtfTzVCtCv"
      },
      "source": [
        "# 2 Preparação dos dados\n",
        "\n",
        "Nessa etapa, foi preciso converter os atributos categóricos para numéricos, ajustando o conteúdo dos atributos às restrições dos modelos utilizados no processo de Aprendizado de Máquina."
      ]
    },
    {
      "cell_type": "markdown",
      "metadata": {
        "id": "E6g7YmIRFPTW"
      },
      "source": [
        "### 2.1 Tratando dados faltantes ou não-numéricos\n",
        "Algumas colunas possuem \"NaN\" (Not a Number) ou \"NaT\" (Not a Time), indicando que são valores faltantes. Além disso, há colunas com tipos variados de registros, que não podem ser binarizados. \n",
        "\n",
        "*Ressalta-se que esta etapa considerou apenas dados potenciais utilizados no experimento.*\n",
        "\n"
      ]
    },
    {
      "cell_type": "markdown",
      "metadata": {
        "id": "zhI_oNGdL6RY"
      },
      "source": [
        "####2.1.1 Tratando colunas `FEBRE, TOSSE, GARGANTA, DISPNEIA e OUTROS`\n",
        "\n",
        "As colunas `FEBRE, TOSSE, GARGANTA, DISPNEIA` foram consideradas pois podem ser considerados sintomas comuns da COVID-19. Sendo que a coluna `OUTROS` pode significar sintomas adicionais identificados durante a traigem do paciente. "
      ]
    },
    {
      "cell_type": "code",
      "metadata": {
        "id": "j-uk96MPKBKX",
        "colab": {
          "base_uri": "https://localhost:8080/",
          "height": 452
        },
        "outputId": "1302e2bc-28cc-4970-8a51-807c4a6f0129"
      },
      "source": [
        "rows = []\n",
        "for column in dados.columns:\n",
        "  row = {'coluna': column, 'nans': dados[column].isnull().sum(), 'frac_nans': dados[column].isnull().sum() / dados.shape[0]}\n",
        "  rows.append(row)\n",
        "res = pd.DataFrame(rows)\n",
        "res[res.nans>0].sort_values('nans', ascending=False)"
      ],
      "execution_count": 34,
      "outputs": [
        {
          "output_type": "execute_result",
          "data": {
            "text/html": [
              "<div>\n",
              "<style scoped>\n",
              "    .dataframe tbody tr th:only-of-type {\n",
              "        vertical-align: middle;\n",
              "    }\n",
              "\n",
              "    .dataframe tbody tr th {\n",
              "        vertical-align: top;\n",
              "    }\n",
              "\n",
              "    .dataframe thead th {\n",
              "        text-align: right;\n",
              "    }\n",
              "</style>\n",
              "<table border=\"1\" class=\"dataframe\">\n",
              "  <thead>\n",
              "    <tr style=\"text-align: right;\">\n",
              "      <th></th>\n",
              "      <th>coluna</th>\n",
              "      <th>nans</th>\n",
              "      <th>frac_nans</th>\n",
              "    </tr>\n",
              "  </thead>\n",
              "  <tbody>\n",
              "    <tr>\n",
              "      <th>19</th>\n",
              "      <td>DATA_INCLUSAO_OBITO</td>\n",
              "      <td>319525</td>\n",
              "      <td>0.978862</td>\n",
              "    </tr>\n",
              "    <tr>\n",
              "      <th>9</th>\n",
              "      <td>DATA_EVOLUCAO</td>\n",
              "      <td>304388</td>\n",
              "      <td>0.932490</td>\n",
              "    </tr>\n",
              "    <tr>\n",
              "      <th>17</th>\n",
              "      <td>CONDICOES</td>\n",
              "      <td>277354</td>\n",
              "      <td>0.849671</td>\n",
              "    </tr>\n",
              "    <tr>\n",
              "      <th>20</th>\n",
              "      <td>DATA_EVOLUCAO_ESTIMADA</td>\n",
              "      <td>39654</td>\n",
              "      <td>0.121480</td>\n",
              "    </tr>\n",
              "    <tr>\n",
              "      <th>27</th>\n",
              "      <td>PAIS_NASCIMENTO</td>\n",
              "      <td>16449</td>\n",
              "      <td>0.050391</td>\n",
              "    </tr>\n",
              "    <tr>\n",
              "      <th>22</th>\n",
              "      <td>ETNIA_INDIGENA</td>\n",
              "      <td>16095</td>\n",
              "      <td>0.049307</td>\n",
              "    </tr>\n",
              "    <tr>\n",
              "      <th>15</th>\n",
              "      <td>DISPNEIA</td>\n",
              "      <td>3779</td>\n",
              "      <td>0.011577</td>\n",
              "    </tr>\n",
              "    <tr>\n",
              "      <th>24</th>\n",
              "      <td>BAIRRO</td>\n",
              "      <td>2744</td>\n",
              "      <td>0.008406</td>\n",
              "    </tr>\n",
              "    <tr>\n",
              "      <th>12</th>\n",
              "      <td>FEBRE</td>\n",
              "      <td>20</td>\n",
              "      <td>0.000061</td>\n",
              "    </tr>\n",
              "    <tr>\n",
              "      <th>13</th>\n",
              "      <td>TOSSE</td>\n",
              "      <td>20</td>\n",
              "      <td>0.000061</td>\n",
              "    </tr>\n",
              "    <tr>\n",
              "      <th>14</th>\n",
              "      <td>GARGANTA</td>\n",
              "      <td>20</td>\n",
              "      <td>0.000061</td>\n",
              "    </tr>\n",
              "    <tr>\n",
              "      <th>16</th>\n",
              "      <td>OUTROS</td>\n",
              "      <td>20</td>\n",
              "      <td>0.000061</td>\n",
              "    </tr>\n",
              "    <tr>\n",
              "      <th>26</th>\n",
              "      <td>FONTE_INFORMACAO</td>\n",
              "      <td>14</td>\n",
              "      <td>0.000043</td>\n",
              "    </tr>\n",
              "  </tbody>\n",
              "</table>\n",
              "</div>"
            ],
            "text/plain": [
              "                    coluna    nans  frac_nans\n",
              "19     DATA_INCLUSAO_OBITO  319525   0.978862\n",
              "9            DATA_EVOLUCAO  304388   0.932490\n",
              "17               CONDICOES  277354   0.849671\n",
              "20  DATA_EVOLUCAO_ESTIMADA   39654   0.121480\n",
              "27         PAIS_NASCIMENTO   16449   0.050391\n",
              "22          ETNIA_INDIGENA   16095   0.049307\n",
              "15                DISPNEIA    3779   0.011577\n",
              "24                  BAIRRO    2744   0.008406\n",
              "12                   FEBRE      20   0.000061\n",
              "13                   TOSSE      20   0.000061\n",
              "14                GARGANTA      20   0.000061\n",
              "16                  OUTROS      20   0.000061\n",
              "26        FONTE_INFORMACAO      14   0.000043"
            ]
          },
          "metadata": {
            "tags": []
          },
          "execution_count": 34
        }
      ]
    },
    {
      "cell_type": "markdown",
      "metadata": {
        "id": "-f6stWAXbtiV"
      },
      "source": [
        "**Observação importante**: Em relação a coluna `CONDICOES`, que potencialmente poderia ser utilizada para melhorar o desempenho do modelo, uma vez que pode indicar pacientes pertencentes a algum grupo de risco, inicialmente, não foi considerado, pois o percentual de regitros faltantes dessa coluna é na ordem de 84%. Isso pode resultar na inserção de dados ruídosos e provocar o desbalanceamento nos modelos caso estes estes forem considerados."
      ]
    },
    {
      "cell_type": "markdown",
      "metadata": {
        "id": "awao2FmWLhra"
      },
      "source": [
        "a) Tratando a coluna `DISPNEIA`, com cerca de 1% dos valores faltantes, preenchendo com valores aleatórios, mas que seguem a distribuição dos dados."
      ]
    },
    {
      "cell_type": "code",
      "metadata": {
        "id": "z-SvumWbLSMZ",
        "colab": {
          "base_uri": "https://localhost:8080/"
        },
        "outputId": "accc39b5-d6b7-4b53-8662-052636bdaab9"
      },
      "source": [
        "dist = dados[\"DISPNEIA\"].value_counts(normalize=True)\n",
        "faltantes = dados['DISPNEIA'].isnull()\n",
        "dados.loc[faltantes,'DISPNEIA'] = np.random.choice(dist.index, size=len(dados[faltantes]), p=dist.values)\n",
        "\n",
        "# Testando para ver se não há mais valores faltantes\n",
        "dados[\"DISPNEIA\"].isnull().any()"
      ],
      "execution_count": 35,
      "outputs": [
        {
          "output_type": "execute_result",
          "data": {
            "text/plain": [
              "False"
            ]
          },
          "metadata": {
            "tags": []
          },
          "execution_count": 35
        }
      ]
    },
    {
      "cell_type": "markdown",
      "metadata": {
        "id": "p7VOGUT0QLac"
      },
      "source": [
        "b) Tratando a coluna `FEBRE`, preenchendo os dados faltantes com valores aleatórios."
      ]
    },
    {
      "cell_type": "code",
      "metadata": {
        "id": "Bjzo3b8CV_hb",
        "colab": {
          "base_uri": "https://localhost:8080/"
        },
        "outputId": "e8a57fb9-a126-4f10-815b-27cdf981c66e"
      },
      "source": [
        "dist = dados[\"FEBRE\"].value_counts(normalize=True)\n",
        "faltantes = dados['FEBRE'].isnull()\n",
        "dados.loc[faltantes,'FEBRE'] = np.random.choice(dist.index, size=len(dados[faltantes]), p=dist.values)\n",
        "\n",
        "# Testando para ver se não há mais valores faltantes\n",
        "dados[\"FEBRE\"].isnull().any()"
      ],
      "execution_count": 36,
      "outputs": [
        {
          "output_type": "execute_result",
          "data": {
            "text/plain": [
              "False"
            ]
          },
          "metadata": {
            "tags": []
          },
          "execution_count": 36
        }
      ]
    },
    {
      "cell_type": "markdown",
      "metadata": {
        "id": "q_vmuGtNQ3iX"
      },
      "source": [
        "c) Tratando a coluna `TOSSE`, preenchendo os dados faltantes com valores aleatórios."
      ]
    },
    {
      "cell_type": "code",
      "metadata": {
        "id": "SjveUT6jWFVL",
        "colab": {
          "base_uri": "https://localhost:8080/"
        },
        "outputId": "fdb3ce3b-5017-4a16-cd2c-42d200ea4c1e"
      },
      "source": [
        "dist = dados[\"TOSSE\"].value_counts(normalize=True)\n",
        "faltantes = dados['TOSSE'].isnull()\n",
        "dados.loc[faltantes,'TOSSE'] = np.random.choice(dist.index, size=len(dados[faltantes]), p=dist.values)\n",
        "\n",
        "# Testando para ver se não há mais valores faltantes\n",
        "dados[\"TOSSE\"].isnull().any()"
      ],
      "execution_count": 37,
      "outputs": [
        {
          "output_type": "execute_result",
          "data": {
            "text/plain": [
              "False"
            ]
          },
          "metadata": {
            "tags": []
          },
          "execution_count": 37
        }
      ]
    },
    {
      "cell_type": "markdown",
      "metadata": {
        "id": "1xMJMjBTQ7uA"
      },
      "source": [
        "d) Tratando a coluna `GARGANTA`, preenchendo os dados faltantes com valores aleatórios"
      ]
    },
    {
      "cell_type": "code",
      "metadata": {
        "id": "JsAcctG8WV00",
        "colab": {
          "base_uri": "https://localhost:8080/"
        },
        "outputId": "53f1316f-d129-4133-dd82-05ecb82a10f2"
      },
      "source": [
        "dist = dados[\"GARGANTA\"].value_counts(normalize=True)\n",
        "faltantes = dados['GARGANTA'].isnull()\n",
        "dados.loc[faltantes,'GARGANTA'] = np.random.choice(dist.index, size=len(dados[faltantes]), p=dist.values)\n",
        "\n",
        "# Testando para ver se não há mais valores faltantes\n",
        "dados[\"GARGANTA\"].isnull().any()"
      ],
      "execution_count": 38,
      "outputs": [
        {
          "output_type": "execute_result",
          "data": {
            "text/plain": [
              "False"
            ]
          },
          "metadata": {
            "tags": []
          },
          "execution_count": 38
        }
      ]
    },
    {
      "cell_type": "markdown",
      "metadata": {
        "id": "3toyGr0Xujdv"
      },
      "source": [
        "e) Tratando a coluna `OUTROS`, preenchendo os dados faltantes com valores aleatórios"
      ]
    },
    {
      "cell_type": "code",
      "metadata": {
        "id": "AHpT5JzHuqd_",
        "colab": {
          "base_uri": "https://localhost:8080/"
        },
        "outputId": "967d787f-3a22-45b0-bb6c-eab6bf2a9c38"
      },
      "source": [
        "dist = dados[\"OUTROS\"].value_counts(normalize=True)\n",
        "faltantes = dados['OUTROS'].isnull()\n",
        "dados.loc[faltantes,'OUTROS'] = np.random.choice(dist.index, size=len(dados[faltantes]), p=dist.values)\n",
        "\n",
        "# Testando para ver se não há mais valores faltantes\n",
        "dados[\"OUTROS\"].isnull().any()"
      ],
      "execution_count": 39,
      "outputs": [
        {
          "output_type": "execute_result",
          "data": {
            "text/plain": [
              "False"
            ]
          },
          "metadata": {
            "tags": []
          },
          "execution_count": 39
        }
      ]
    },
    {
      "cell_type": "markdown",
      "metadata": {
        "id": "-0KP1KHyKj28"
      },
      "source": [
        "####2.1.2 Tratando coluna `PROFISSIONAL_SAUDE`, com registros SIM, NAO e NAO INFORMADO "
      ]
    },
    {
      "cell_type": "markdown",
      "metadata": {
        "id": "X-m-iNrKc_ia"
      },
      "source": [
        "Optou-se por esta coluna, considerando que os `Profissionais da Saúde` são indivíduos que circulam em espaços onde é realizado o atendimento de pacientes infectados, com isso, podem ter maior chances de serem infectados."
      ]
    },
    {
      "cell_type": "code",
      "metadata": {
        "id": "LX_BVYYHKi-W",
        "colab": {
          "base_uri": "https://localhost:8080/"
        },
        "outputId": "6d2bf7f2-7a36-4fb4-ce10-ee68f16f70ca"
      },
      "source": [
        "dados['PROFISSIONAL_SAUDE']"
      ],
      "execution_count": 40,
      "outputs": [
        {
          "output_type": "execute_result",
          "data": {
            "text/plain": [
              "0                   NAO\n",
              "1                   NAO\n",
              "2                   NAO\n",
              "3                   NAO\n",
              "4         NAO INFORMADO\n",
              "              ...      \n",
              "326420              NAO\n",
              "326421              NAO\n",
              "326422              NAO\n",
              "326423              NAO\n",
              "326424    NAO INFORMADO\n",
              "Name: PROFISSIONAL_SAUDE, Length: 326425, dtype: object"
            ]
          },
          "metadata": {
            "tags": []
          },
          "execution_count": 40
        }
      ]
    },
    {
      "cell_type": "markdown",
      "metadata": {
        "id": "j8n39caJY50W"
      },
      "source": [
        "Transformando dados categóricos para dados binários. Para todo campo igual a `SIM`, é atribuído 1, caso contrário, passa a valer 0. \n",
        "\n",
        "O mesmo foi realizado com a coluna `PES_PRIV_LIBERDADE`, por considerar este campo de indivídos 'presos privados de liberdade' pertencem a um grupo com potencial risco de contaminação."
      ]
    },
    {
      "cell_type": "code",
      "metadata": {
        "id": "RWS1f3x7Wjgq",
        "colab": {
          "base_uri": "https://localhost:8080/"
        },
        "outputId": "b3447add-34c4-4e60-89bd-467cbc36c74b"
      },
      "source": [
        "dados[\"PROFISSIONAL_SAUDE\"] = dados[\"PROFISSIONAL_SAUDE\"].apply(lambda x: '1' if x=='SIM' else '0')\n",
        "\n",
        "# Testando para ver se não há mais valores faltantes\n",
        "dados[\"PROFISSIONAL_SAUDE\"].isnull().any()"
      ],
      "execution_count": 41,
      "outputs": [
        {
          "output_type": "execute_result",
          "data": {
            "text/plain": [
              "False"
            ]
          },
          "metadata": {
            "tags": []
          },
          "execution_count": 41
        }
      ]
    },
    {
      "cell_type": "code",
      "metadata": {
        "id": "G0atTWSALLJG",
        "colab": {
          "base_uri": "https://localhost:8080/"
        },
        "outputId": "debf8cf3-0e0b-414a-a842-927270719e6b"
      },
      "source": [
        "dados[\"PES_PRIV_LIBERDADE\"] = dados[\"PES_PRIV_LIBERDADE\"].apply(lambda x: '1' if x=='SIM' else '0')\n",
        "\n",
        "# Testando para ver se não há mais valores faltantes\n",
        "dados[\"PES_PRIV_LIBERDADE\"].isnull().any()"
      ],
      "execution_count": 42,
      "outputs": [
        {
          "output_type": "execute_result",
          "data": {
            "text/plain": [
              "False"
            ]
          },
          "metadata": {
            "tags": []
          },
          "execution_count": 42
        }
      ]
    },
    {
      "cell_type": "markdown",
      "metadata": {
        "id": "GZq3DSDent6T"
      },
      "source": [
        "Até aqui, não houveram transformações significativas nos dados originais, apenas foram tratados dados faltantes (que foram binarizados), e não foram criadas novas colunas."
      ]
    },
    {
      "cell_type": "markdown",
      "metadata": {
        "id": "_zYaMF1YSVnn"
      },
      "source": [
        "####2.1.3. Tratando coluna `FAIXA_ETARIA`\n",
        "\n",
        "Com a inclusão dos dados da coluna `FAIXA_ETARIA`, é preciso aplicar uma engenharia de atributos, uma vez que os dados precisam ser corretamente ajustados para que os modelos possam utilizar os dados. Para isso, o utilitário LabelBinalizer foi utilizado, e na sequência, foi gerada uma coluna para cada `FAIXA_ETARIA` contida no conjunto de dados, contabilizando 12 categorias de `FAIXA_ETARIA`"
      ]
    },
    {
      "cell_type": "code",
      "metadata": {
        "id": "Epytgy2gStuB"
      },
      "source": [
        "codFe = LabelBinarizer()\n",
        "codFe.fit(dados['FAIXAETARIA'])\n",
        "atributo_transformado = codFe.transform(dados['FAIXAETARIA'])\n",
        "\n",
        "onehot = pd.DataFrame(atributo_transformado)\n",
        "onehot.columns = codFe.classes_\n",
        "dados = pd.concat([dados, onehot], axis=1).drop(['FAIXAETARIA'], axis=1)"
      ],
      "execution_count": 43,
      "outputs": []
    },
    {
      "cell_type": "code",
      "metadata": {
        "colab": {
          "base_uri": "https://localhost:8080/",
          "height": 360
        },
        "id": "ZOV4CGhWTsAz",
        "outputId": "abc7c8fe-0b25-45a6-f6a1-d590fccce842"
      },
      "source": [
        "#dando mais uma olhada nos dados\n",
        "dados.head()"
      ],
      "execution_count": 44,
      "outputs": [
        {
          "output_type": "execute_result",
          "data": {
            "text/html": [
              "<div>\n",
              "<style scoped>\n",
              "    .dataframe tbody tr th:only-of-type {\n",
              "        vertical-align: middle;\n",
              "    }\n",
              "\n",
              "    .dataframe tbody tr th {\n",
              "        vertical-align: top;\n",
              "    }\n",
              "\n",
              "    .dataframe thead th {\n",
              "        text-align: right;\n",
              "    }\n",
              "</style>\n",
              "<table border=\"1\" class=\"dataframe\">\n",
              "  <thead>\n",
              "    <tr style=\"text-align: right;\">\n",
              "      <th></th>\n",
              "      <th>COD_IBGE</th>\n",
              "      <th>MUNICIPIO</th>\n",
              "      <th>COD_REGIAO_COVID</th>\n",
              "      <th>REGIAO_COVID</th>\n",
              "      <th>SEXO</th>\n",
              "      <th>CRITERIO</th>\n",
              "      <th>DATA_CONFIRMACAO</th>\n",
              "      <th>DATA_SINTOMAS</th>\n",
              "      <th>DATA_EVOLUCAO</th>\n",
              "      <th>EVOLUCAO</th>\n",
              "      <th>HOSPITALIZADO</th>\n",
              "      <th>FEBRE</th>\n",
              "      <th>TOSSE</th>\n",
              "      <th>GARGANTA</th>\n",
              "      <th>DISPNEIA</th>\n",
              "      <th>OUTROS</th>\n",
              "      <th>CONDICOES</th>\n",
              "      <th>GESTANTE</th>\n",
              "      <th>DATA_INCLUSAO_OBITO</th>\n",
              "      <th>DATA_EVOLUCAO_ESTIMADA</th>\n",
              "      <th>RACA_COR</th>\n",
              "      <th>ETNIA_INDIGENA</th>\n",
              "      <th>PROFISSIONAL_SAUDE</th>\n",
              "      <th>BAIRRO</th>\n",
              "      <th>HOSPITALIZACAO_SRAG</th>\n",
              "      <th>FONTE_INFORMACAO</th>\n",
              "      <th>PAIS_NASCIMENTO</th>\n",
              "      <th>PES_PRIV_LIBERDADE</th>\n",
              "      <th>01 a 04</th>\n",
              "      <th>05 a 09</th>\n",
              "      <th>10 a 14</th>\n",
              "      <th>15 a 19</th>\n",
              "      <th>20 a 29</th>\n",
              "      <th>30 a 39</th>\n",
              "      <th>40 a 49</th>\n",
              "      <th>50 a 59</th>\n",
              "      <th>60 a 69</th>\n",
              "      <th>70 a 79</th>\n",
              "      <th>80 e mais</th>\n",
              "      <th>&lt;1</th>\n",
              "    </tr>\n",
              "  </thead>\n",
              "  <tbody>\n",
              "    <tr>\n",
              "      <th>0</th>\n",
              "      <td>430003</td>\n",
              "      <td>ACEGUÁ</td>\n",
              "      <td>16</td>\n",
              "      <td>BAGE - R22</td>\n",
              "      <td>Feminino</td>\n",
              "      <td>RT-PCR</td>\n",
              "      <td>05/10/2020</td>\n",
              "      <td>29/09/2020</td>\n",
              "      <td>NaN</td>\n",
              "      <td>RECUPERADO</td>\n",
              "      <td>NAO</td>\n",
              "      <td>NAO</td>\n",
              "      <td>NAO</td>\n",
              "      <td>NAO</td>\n",
              "      <td>NAO</td>\n",
              "      <td>NAO</td>\n",
              "      <td>NaN</td>\n",
              "      <td>NAO</td>\n",
              "      <td>NaN</td>\n",
              "      <td>13/10/2020</td>\n",
              "      <td>BRANCA</td>\n",
              "      <td>NAO ENCONTRADO</td>\n",
              "      <td>0</td>\n",
              "      <td>ZONA RURAL</td>\n",
              "      <td>NAO</td>\n",
              "      <td>E-SUS</td>\n",
              "      <td>BRASIL</td>\n",
              "      <td>0</td>\n",
              "      <td>0</td>\n",
              "      <td>0</td>\n",
              "      <td>0</td>\n",
              "      <td>0</td>\n",
              "      <td>0</td>\n",
              "      <td>0</td>\n",
              "      <td>1</td>\n",
              "      <td>0</td>\n",
              "      <td>0</td>\n",
              "      <td>0</td>\n",
              "      <td>0</td>\n",
              "      <td>0</td>\n",
              "    </tr>\n",
              "    <tr>\n",
              "      <th>1</th>\n",
              "      <td>430003</td>\n",
              "      <td>ACEGUÁ</td>\n",
              "      <td>16</td>\n",
              "      <td>BAGE - R22</td>\n",
              "      <td>Feminino</td>\n",
              "      <td>RT-PCR</td>\n",
              "      <td>11/09/2020</td>\n",
              "      <td>08/09/2020</td>\n",
              "      <td>NaN</td>\n",
              "      <td>RECUPERADO</td>\n",
              "      <td>NAO</td>\n",
              "      <td>SIM</td>\n",
              "      <td>NAO</td>\n",
              "      <td>SIM</td>\n",
              "      <td>NAO</td>\n",
              "      <td>NAO</td>\n",
              "      <td>Gestante</td>\n",
              "      <td>SIM</td>\n",
              "      <td>NaN</td>\n",
              "      <td>22/09/2020</td>\n",
              "      <td>BRANCA</td>\n",
              "      <td>NAO ENCONTRADO</td>\n",
              "      <td>0</td>\n",
              "      <td>DOM TIMOTEO</td>\n",
              "      <td>NAO</td>\n",
              "      <td>E-SUS</td>\n",
              "      <td>BRASIL</td>\n",
              "      <td>0</td>\n",
              "      <td>0</td>\n",
              "      <td>0</td>\n",
              "      <td>0</td>\n",
              "      <td>0</td>\n",
              "      <td>1</td>\n",
              "      <td>0</td>\n",
              "      <td>0</td>\n",
              "      <td>0</td>\n",
              "      <td>0</td>\n",
              "      <td>0</td>\n",
              "      <td>0</td>\n",
              "      <td>0</td>\n",
              "    </tr>\n",
              "    <tr>\n",
              "      <th>2</th>\n",
              "      <td>430003</td>\n",
              "      <td>ACEGUÁ</td>\n",
              "      <td>16</td>\n",
              "      <td>BAGE - R22</td>\n",
              "      <td>Masculino</td>\n",
              "      <td>RT-PCR</td>\n",
              "      <td>06/10/2020</td>\n",
              "      <td>06/10/2020</td>\n",
              "      <td>NaN</td>\n",
              "      <td>RECUPERADO</td>\n",
              "      <td>NAO</td>\n",
              "      <td>NAO</td>\n",
              "      <td>NAO</td>\n",
              "      <td>NAO</td>\n",
              "      <td>NAO</td>\n",
              "      <td>NAO</td>\n",
              "      <td>NaN</td>\n",
              "      <td>NAO</td>\n",
              "      <td>NaN</td>\n",
              "      <td>20/10/2020</td>\n",
              "      <td>BRANCA</td>\n",
              "      <td>NAO ENCONTRADO</td>\n",
              "      <td>0</td>\n",
              "      <td>ZONA RURAL</td>\n",
              "      <td>NAO</td>\n",
              "      <td>E-SUS</td>\n",
              "      <td>BRASIL</td>\n",
              "      <td>0</td>\n",
              "      <td>0</td>\n",
              "      <td>0</td>\n",
              "      <td>0</td>\n",
              "      <td>1</td>\n",
              "      <td>0</td>\n",
              "      <td>0</td>\n",
              "      <td>0</td>\n",
              "      <td>0</td>\n",
              "      <td>0</td>\n",
              "      <td>0</td>\n",
              "      <td>0</td>\n",
              "      <td>0</td>\n",
              "    </tr>\n",
              "    <tr>\n",
              "      <th>3</th>\n",
              "      <td>430003</td>\n",
              "      <td>ACEGUÁ</td>\n",
              "      <td>16</td>\n",
              "      <td>BAGE - R22</td>\n",
              "      <td>Masculino</td>\n",
              "      <td>RT-PCR</td>\n",
              "      <td>23/11/2020</td>\n",
              "      <td>15/11/2020</td>\n",
              "      <td>NaN</td>\n",
              "      <td>RECUPERADO</td>\n",
              "      <td>NAO</td>\n",
              "      <td>NAO</td>\n",
              "      <td>NAO</td>\n",
              "      <td>NAO</td>\n",
              "      <td>SIM</td>\n",
              "      <td>NAO</td>\n",
              "      <td>NaN</td>\n",
              "      <td>NAO</td>\n",
              "      <td>NaN</td>\n",
              "      <td>29/11/2020</td>\n",
              "      <td>BRANCA</td>\n",
              "      <td>NAO ENCONTRADO</td>\n",
              "      <td>0</td>\n",
              "      <td>ZONA RURAL</td>\n",
              "      <td>NAO</td>\n",
              "      <td>E-SUS</td>\n",
              "      <td>BRASIL</td>\n",
              "      <td>0</td>\n",
              "      <td>0</td>\n",
              "      <td>0</td>\n",
              "      <td>0</td>\n",
              "      <td>0</td>\n",
              "      <td>0</td>\n",
              "      <td>0</td>\n",
              "      <td>0</td>\n",
              "      <td>1</td>\n",
              "      <td>0</td>\n",
              "      <td>0</td>\n",
              "      <td>0</td>\n",
              "      <td>0</td>\n",
              "    </tr>\n",
              "    <tr>\n",
              "      <th>4</th>\n",
              "      <td>430003</td>\n",
              "      <td>ACEGUÁ</td>\n",
              "      <td>16</td>\n",
              "      <td>BAGE - R22</td>\n",
              "      <td>Feminino</td>\n",
              "      <td>RT-PCR</td>\n",
              "      <td>26/11/2020</td>\n",
              "      <td>18/11/2020</td>\n",
              "      <td>NaN</td>\n",
              "      <td>EM ACOMPANHAMENTO</td>\n",
              "      <td>SIM</td>\n",
              "      <td>SIM</td>\n",
              "      <td>NAO</td>\n",
              "      <td>NAO</td>\n",
              "      <td>SIM</td>\n",
              "      <td>NAO</td>\n",
              "      <td>Doença Cardiovascular Crônica</td>\n",
              "      <td>NAO</td>\n",
              "      <td>NaN</td>\n",
              "      <td>NaN</td>\n",
              "      <td>BRANCA</td>\n",
              "      <td>NAO ENCONTRADO</td>\n",
              "      <td>0</td>\n",
              "      <td>ASSENTAMENTO</td>\n",
              "      <td>SIM</td>\n",
              "      <td>SIVEP HOSP</td>\n",
              "      <td>BRASIL</td>\n",
              "      <td>0</td>\n",
              "      <td>0</td>\n",
              "      <td>0</td>\n",
              "      <td>0</td>\n",
              "      <td>0</td>\n",
              "      <td>0</td>\n",
              "      <td>0</td>\n",
              "      <td>0</td>\n",
              "      <td>1</td>\n",
              "      <td>0</td>\n",
              "      <td>0</td>\n",
              "      <td>0</td>\n",
              "      <td>0</td>\n",
              "    </tr>\n",
              "  </tbody>\n",
              "</table>\n",
              "</div>"
            ],
            "text/plain": [
              "   COD_IBGE MUNICIPIO  COD_REGIAO_COVID  ... 70 a 79 80 e mais <1\n",
              "0    430003    ACEGUÁ                16  ...       0         0  0\n",
              "1    430003    ACEGUÁ                16  ...       0         0  0\n",
              "2    430003    ACEGUÁ                16  ...       0         0  0\n",
              "3    430003    ACEGUÁ                16  ...       0         0  0\n",
              "4    430003    ACEGUÁ                16  ...       0         0  0\n",
              "\n",
              "[5 rows x 40 columns]"
            ]
          },
          "metadata": {
            "tags": []
          },
          "execution_count": 44
        }
      ]
    },
    {
      "cell_type": "markdown",
      "metadata": {
        "id": "1UtnC3XUXGQa"
      },
      "source": [
        "##2.2 Tranformando valores de String para Valores numéricos\n",
        "\n",
        "Abaixo são tratados as colunas que ainda não foram binarizadas, para formar o conjunto de dados de dados utilizados pelos modelos nesse experimento."
      ]
    },
    {
      "cell_type": "code",
      "metadata": {
        "id": "tuzxxgpGINVk",
        "colab": {
          "base_uri": "https://localhost:8080/",
          "height": 470
        },
        "outputId": "7d3629c1-c3ad-4cd6-aec3-ca9cc257fb78"
      },
      "source": [
        "#Problemas de ML trabalham melhor com dados numéricos\n",
        "\n",
        "dados[\"SEXO\"]= dados[\"SEXO\"].apply(lambda x: '1' if x=='Masculino' else '0')\n",
        "dados[\"GESTANTE\"]= dados[\"GESTANTE\"].apply(lambda x: '1' if x=='SIM' else '0')\n",
        "dados[\"FEBRE\"]= dados[\"FEBRE\"].apply(lambda x: '1' if x=='SIM' else '0')\n",
        "dados[\"GARGANTA\"]= dados[\"GARGANTA\"].apply(lambda x: '1' if x=='SIM' else '0')\n",
        "dados[\"TOSSE\"]= dados[\"TOSSE\"].apply(lambda x: '1' if x=='SIM' else '0')\n",
        "dados[\"DISPNEIA\"]= dados[\"DISPNEIA\"].apply(lambda x: '1' if x=='SIM' else '0')\n",
        "dados[\"OUTROS\"] = dados[\"OUTROS\"].apply(lambda x: '1' if x=='SIM' else '0')\n",
        "dados[\"HOSPITALIZADO\"]= dados[\"HOSPITALIZADO\"].apply(lambda x: '1' if x=='SIM' else '0')\n",
        "\n",
        "#Fitro com dados definidos como importantes para o modelo\n",
        "dados = dados[['SEXO', 'GESTANTE', 'FEBRE', 'TOSSE', 'GARGANTA', 'DISPNEIA', \n",
        "               '01 a 04',\t'05 a 09',\t'10 a 14',\t'15 a 19',\t'20 a 29',\t'30 a 39', '40 a 49',\t'50 a 59',\t'60 a 69',\t'70 a 79',\t'80 e mais',\t'<1',\n",
        "               'OUTROS','PROFISSIONAL_SAUDE', 'PES_PRIV_LIBERDADE', 'HOSPITALIZADO']].reset_index(drop=True)\n",
        "\n",
        "print (\"Valores ajustados e atributos considerados selecionados!\\n\")\n",
        "dados"
      ],
      "execution_count": 45,
      "outputs": [
        {
          "output_type": "stream",
          "text": [
            "Valores ajustados e atributos considerados selecionados!\n",
            "\n"
          ],
          "name": "stdout"
        },
        {
          "output_type": "execute_result",
          "data": {
            "text/html": [
              "<div>\n",
              "<style scoped>\n",
              "    .dataframe tbody tr th:only-of-type {\n",
              "        vertical-align: middle;\n",
              "    }\n",
              "\n",
              "    .dataframe tbody tr th {\n",
              "        vertical-align: top;\n",
              "    }\n",
              "\n",
              "    .dataframe thead th {\n",
              "        text-align: right;\n",
              "    }\n",
              "</style>\n",
              "<table border=\"1\" class=\"dataframe\">\n",
              "  <thead>\n",
              "    <tr style=\"text-align: right;\">\n",
              "      <th></th>\n",
              "      <th>SEXO</th>\n",
              "      <th>GESTANTE</th>\n",
              "      <th>FEBRE</th>\n",
              "      <th>TOSSE</th>\n",
              "      <th>GARGANTA</th>\n",
              "      <th>DISPNEIA</th>\n",
              "      <th>01 a 04</th>\n",
              "      <th>05 a 09</th>\n",
              "      <th>10 a 14</th>\n",
              "      <th>15 a 19</th>\n",
              "      <th>20 a 29</th>\n",
              "      <th>30 a 39</th>\n",
              "      <th>40 a 49</th>\n",
              "      <th>50 a 59</th>\n",
              "      <th>60 a 69</th>\n",
              "      <th>70 a 79</th>\n",
              "      <th>80 e mais</th>\n",
              "      <th>&lt;1</th>\n",
              "      <th>OUTROS</th>\n",
              "      <th>PROFISSIONAL_SAUDE</th>\n",
              "      <th>PES_PRIV_LIBERDADE</th>\n",
              "      <th>HOSPITALIZADO</th>\n",
              "    </tr>\n",
              "  </thead>\n",
              "  <tbody>\n",
              "    <tr>\n",
              "      <th>0</th>\n",
              "      <td>0</td>\n",
              "      <td>0</td>\n",
              "      <td>0</td>\n",
              "      <td>0</td>\n",
              "      <td>0</td>\n",
              "      <td>0</td>\n",
              "      <td>0</td>\n",
              "      <td>0</td>\n",
              "      <td>0</td>\n",
              "      <td>0</td>\n",
              "      <td>0</td>\n",
              "      <td>0</td>\n",
              "      <td>1</td>\n",
              "      <td>0</td>\n",
              "      <td>0</td>\n",
              "      <td>0</td>\n",
              "      <td>0</td>\n",
              "      <td>0</td>\n",
              "      <td>0</td>\n",
              "      <td>0</td>\n",
              "      <td>0</td>\n",
              "      <td>0</td>\n",
              "    </tr>\n",
              "    <tr>\n",
              "      <th>1</th>\n",
              "      <td>0</td>\n",
              "      <td>1</td>\n",
              "      <td>1</td>\n",
              "      <td>0</td>\n",
              "      <td>1</td>\n",
              "      <td>0</td>\n",
              "      <td>0</td>\n",
              "      <td>0</td>\n",
              "      <td>0</td>\n",
              "      <td>0</td>\n",
              "      <td>1</td>\n",
              "      <td>0</td>\n",
              "      <td>0</td>\n",
              "      <td>0</td>\n",
              "      <td>0</td>\n",
              "      <td>0</td>\n",
              "      <td>0</td>\n",
              "      <td>0</td>\n",
              "      <td>0</td>\n",
              "      <td>0</td>\n",
              "      <td>0</td>\n",
              "      <td>0</td>\n",
              "    </tr>\n",
              "    <tr>\n",
              "      <th>2</th>\n",
              "      <td>1</td>\n",
              "      <td>0</td>\n",
              "      <td>0</td>\n",
              "      <td>0</td>\n",
              "      <td>0</td>\n",
              "      <td>0</td>\n",
              "      <td>0</td>\n",
              "      <td>0</td>\n",
              "      <td>0</td>\n",
              "      <td>1</td>\n",
              "      <td>0</td>\n",
              "      <td>0</td>\n",
              "      <td>0</td>\n",
              "      <td>0</td>\n",
              "      <td>0</td>\n",
              "      <td>0</td>\n",
              "      <td>0</td>\n",
              "      <td>0</td>\n",
              "      <td>0</td>\n",
              "      <td>0</td>\n",
              "      <td>0</td>\n",
              "      <td>0</td>\n",
              "    </tr>\n",
              "    <tr>\n",
              "      <th>3</th>\n",
              "      <td>1</td>\n",
              "      <td>0</td>\n",
              "      <td>0</td>\n",
              "      <td>0</td>\n",
              "      <td>0</td>\n",
              "      <td>1</td>\n",
              "      <td>0</td>\n",
              "      <td>0</td>\n",
              "      <td>0</td>\n",
              "      <td>0</td>\n",
              "      <td>0</td>\n",
              "      <td>0</td>\n",
              "      <td>0</td>\n",
              "      <td>1</td>\n",
              "      <td>0</td>\n",
              "      <td>0</td>\n",
              "      <td>0</td>\n",
              "      <td>0</td>\n",
              "      <td>0</td>\n",
              "      <td>0</td>\n",
              "      <td>0</td>\n",
              "      <td>0</td>\n",
              "    </tr>\n",
              "    <tr>\n",
              "      <th>4</th>\n",
              "      <td>0</td>\n",
              "      <td>0</td>\n",
              "      <td>1</td>\n",
              "      <td>0</td>\n",
              "      <td>0</td>\n",
              "      <td>1</td>\n",
              "      <td>0</td>\n",
              "      <td>0</td>\n",
              "      <td>0</td>\n",
              "      <td>0</td>\n",
              "      <td>0</td>\n",
              "      <td>0</td>\n",
              "      <td>0</td>\n",
              "      <td>1</td>\n",
              "      <td>0</td>\n",
              "      <td>0</td>\n",
              "      <td>0</td>\n",
              "      <td>0</td>\n",
              "      <td>0</td>\n",
              "      <td>0</td>\n",
              "      <td>0</td>\n",
              "      <td>1</td>\n",
              "    </tr>\n",
              "    <tr>\n",
              "      <th>...</th>\n",
              "      <td>...</td>\n",
              "      <td>...</td>\n",
              "      <td>...</td>\n",
              "      <td>...</td>\n",
              "      <td>...</td>\n",
              "      <td>...</td>\n",
              "      <td>...</td>\n",
              "      <td>...</td>\n",
              "      <td>...</td>\n",
              "      <td>...</td>\n",
              "      <td>...</td>\n",
              "      <td>...</td>\n",
              "      <td>...</td>\n",
              "      <td>...</td>\n",
              "      <td>...</td>\n",
              "      <td>...</td>\n",
              "      <td>...</td>\n",
              "      <td>...</td>\n",
              "      <td>...</td>\n",
              "      <td>...</td>\n",
              "      <td>...</td>\n",
              "      <td>...</td>\n",
              "    </tr>\n",
              "    <tr>\n",
              "      <th>326420</th>\n",
              "      <td>0</td>\n",
              "      <td>0</td>\n",
              "      <td>0</td>\n",
              "      <td>1</td>\n",
              "      <td>0</td>\n",
              "      <td>0</td>\n",
              "      <td>0</td>\n",
              "      <td>1</td>\n",
              "      <td>0</td>\n",
              "      <td>0</td>\n",
              "      <td>0</td>\n",
              "      <td>0</td>\n",
              "      <td>0</td>\n",
              "      <td>0</td>\n",
              "      <td>0</td>\n",
              "      <td>0</td>\n",
              "      <td>0</td>\n",
              "      <td>0</td>\n",
              "      <td>0</td>\n",
              "      <td>0</td>\n",
              "      <td>0</td>\n",
              "      <td>0</td>\n",
              "    </tr>\n",
              "    <tr>\n",
              "      <th>326421</th>\n",
              "      <td>0</td>\n",
              "      <td>0</td>\n",
              "      <td>0</td>\n",
              "      <td>1</td>\n",
              "      <td>0</td>\n",
              "      <td>0</td>\n",
              "      <td>0</td>\n",
              "      <td>0</td>\n",
              "      <td>0</td>\n",
              "      <td>0</td>\n",
              "      <td>0</td>\n",
              "      <td>1</td>\n",
              "      <td>0</td>\n",
              "      <td>0</td>\n",
              "      <td>0</td>\n",
              "      <td>0</td>\n",
              "      <td>0</td>\n",
              "      <td>0</td>\n",
              "      <td>0</td>\n",
              "      <td>0</td>\n",
              "      <td>0</td>\n",
              "      <td>0</td>\n",
              "    </tr>\n",
              "    <tr>\n",
              "      <th>326422</th>\n",
              "      <td>1</td>\n",
              "      <td>0</td>\n",
              "      <td>1</td>\n",
              "      <td>1</td>\n",
              "      <td>1</td>\n",
              "      <td>0</td>\n",
              "      <td>0</td>\n",
              "      <td>0</td>\n",
              "      <td>0</td>\n",
              "      <td>0</td>\n",
              "      <td>0</td>\n",
              "      <td>0</td>\n",
              "      <td>0</td>\n",
              "      <td>0</td>\n",
              "      <td>1</td>\n",
              "      <td>0</td>\n",
              "      <td>0</td>\n",
              "      <td>0</td>\n",
              "      <td>0</td>\n",
              "      <td>0</td>\n",
              "      <td>0</td>\n",
              "      <td>0</td>\n",
              "    </tr>\n",
              "    <tr>\n",
              "      <th>326423</th>\n",
              "      <td>1</td>\n",
              "      <td>0</td>\n",
              "      <td>0</td>\n",
              "      <td>0</td>\n",
              "      <td>0</td>\n",
              "      <td>0</td>\n",
              "      <td>0</td>\n",
              "      <td>0</td>\n",
              "      <td>0</td>\n",
              "      <td>0</td>\n",
              "      <td>0</td>\n",
              "      <td>0</td>\n",
              "      <td>0</td>\n",
              "      <td>0</td>\n",
              "      <td>1</td>\n",
              "      <td>0</td>\n",
              "      <td>0</td>\n",
              "      <td>0</td>\n",
              "      <td>1</td>\n",
              "      <td>0</td>\n",
              "      <td>0</td>\n",
              "      <td>0</td>\n",
              "    </tr>\n",
              "    <tr>\n",
              "      <th>326424</th>\n",
              "      <td>1</td>\n",
              "      <td>0</td>\n",
              "      <td>1</td>\n",
              "      <td>0</td>\n",
              "      <td>1</td>\n",
              "      <td>1</td>\n",
              "      <td>0</td>\n",
              "      <td>0</td>\n",
              "      <td>0</td>\n",
              "      <td>0</td>\n",
              "      <td>0</td>\n",
              "      <td>0</td>\n",
              "      <td>0</td>\n",
              "      <td>0</td>\n",
              "      <td>1</td>\n",
              "      <td>0</td>\n",
              "      <td>0</td>\n",
              "      <td>0</td>\n",
              "      <td>0</td>\n",
              "      <td>0</td>\n",
              "      <td>0</td>\n",
              "      <td>1</td>\n",
              "    </tr>\n",
              "  </tbody>\n",
              "</table>\n",
              "<p>326425 rows × 22 columns</p>\n",
              "</div>"
            ],
            "text/plain": [
              "       SEXO GESTANTE FEBRE  ... PROFISSIONAL_SAUDE PES_PRIV_LIBERDADE HOSPITALIZADO\n",
              "0         0        0     0  ...                  0                  0             0\n",
              "1         0        1     1  ...                  0                  0             0\n",
              "2         1        0     0  ...                  0                  0             0\n",
              "3         1        0     0  ...                  0                  0             0\n",
              "4         0        0     1  ...                  0                  0             1\n",
              "...     ...      ...   ...  ...                ...                ...           ...\n",
              "326420    0        0     0  ...                  0                  0             0\n",
              "326421    0        0     0  ...                  0                  0             0\n",
              "326422    1        0     1  ...                  0                  0             0\n",
              "326423    1        0     0  ...                  0                  0             0\n",
              "326424    1        0     1  ...                  0                  0             1\n",
              "\n",
              "[326425 rows x 22 columns]"
            ]
          },
          "metadata": {
            "tags": []
          },
          "execution_count": 45
        }
      ]
    },
    {
      "cell_type": "markdown",
      "metadata": {
        "id": "4vtLZqpIZnfk"
      },
      "source": [
        "\n",
        "#3 Treinamento\n",
        "\n",
        "\n"
      ]
    },
    {
      "cell_type": "markdown",
      "metadata": {
        "id": "ihgVBlPXrU4H"
      },
      "source": [
        "###3.1 Conferindo total de registros de acordo com o atributo alvo: HOSPITALIZADO "
      ]
    },
    {
      "cell_type": "code",
      "metadata": {
        "id": "oNi81IRV9RC_",
        "colab": {
          "base_uri": "https://localhost:8080/"
        },
        "outputId": "689aefb1-9951-4cbc-9f86-9e4fb071068d"
      },
      "source": [
        "dados['HOSPITALIZADO']= dados['HOSPITALIZADO'].astype(int)\n",
        "nhosp = (dados['HOSPITALIZADO'].count()) -(dados['HOSPITALIZADO'].sum())\n",
        "print (\"Total de registros: \", dados['HOSPITALIZADO'].count(), \n",
        "       \"\\nNão Hospitalizados: \", nhosp,\n",
        "       \"\\nHospitalizados....: \", dados['HOSPITALIZADO'].sum())"
      ],
      "execution_count": 46,
      "outputs": [
        {
          "output_type": "stream",
          "text": [
            "Total de registros:  326425 \n",
            "Não Hospitalizados:  302083 \n",
            "Hospitalizados....:  24342\n"
          ],
          "name": "stdout"
        }
      ]
    },
    {
      "cell_type": "markdown",
      "metadata": {
        "id": "6TQI_jnG8MVW"
      },
      "source": [
        "###3.2 Dividindo os dados em treino e teste"
      ]
    },
    {
      "cell_type": "markdown",
      "metadata": {
        "id": "-1yUAjNhrk4N"
      },
      "source": [
        "O método `train_test_split` será utilizado para separação dos conjuntos, considerando 20% de dados de teste\n"
      ]
    },
    {
      "cell_type": "code",
      "metadata": {
        "id": "b1eUoHVUr0M-",
        "colab": {
          "base_uri": "https://localhost:8080/"
        },
        "outputId": "f4fefca1-8f61-4621-9f09-768f84e972ad"
      },
      "source": [
        "from sklearn.model_selection import train_test_split # Separa dados de treinamento e teste\n",
        "\n",
        "treino, teste = train_test_split(dados, test_size=0.2)\n",
        "print(\"Treino:\", len(treino)) \n",
        "print(\"Teste.:\", len(teste)) "
      ],
      "execution_count": 47,
      "outputs": [
        {
          "output_type": "stream",
          "text": [
            "Treino: 261140\n",
            "Teste.: 65285\n"
          ],
          "name": "stdout"
        }
      ]
    },
    {
      "cell_type": "code",
      "metadata": {
        "id": "tJJHmvsOmPyd"
      },
      "source": [
        "# Carregando os atributos e classes dos dados de treino\n",
        "X_treino = treino.drop('HOSPITALIZADO', axis='columns')\n",
        "y_treino = treino['HOSPITALIZADO']\n",
        "\n",
        "# Carregando os atributos e classes dos dados de teste\n",
        "X_teste = teste.drop('HOSPITALIZADO', axis='columns')\n",
        "y_teste = teste['HOSPITALIZADO']"
      ],
      "execution_count": 48,
      "outputs": []
    },
    {
      "cell_type": "markdown",
      "metadata": {
        "id": "6oju4WxjRNgY"
      },
      "source": [
        "###3.3 Modelos selecionados"
      ]
    },
    {
      "cell_type": "markdown",
      "metadata": {
        "id": "C10v9MTBRYQq"
      },
      "source": [
        "**... vamos começar o treinamento**\n",
        "\n",
        "Foram utilizados os modelos de classificação abaixo para prever o valor da variável destino:\n",
        "\n",
        "\n",
        "> 3.3.1. Árvore de Decisão (Decision Tree)\n",
        "\n",
        "> 3.3.2. Random Forest\n",
        "\n",
        "> 3.3.3. Classificador de Regressão Logística\n",
        "\n",
        "Na sequência, segue a aplicação dos modelos selecionados e a sua avaliação."
      ]
    },
    {
      "cell_type": "markdown",
      "metadata": {
        "id": "Yr0nplm0is7T"
      },
      "source": [
        "#####3.3.1 Treinando com Árvores de decisão (Decision Tree)\n",
        "\n",
        "Este método de aprendizado supervisionado não paramétrico é usado para classificação e regressão, que aprende a partir de regras de decisão simples inferidas dos recursos de dados."
      ]
    },
    {
      "cell_type": "code",
      "metadata": {
        "id": "4rPcYRBLu4Sx"
      },
      "source": [
        "# DecisionTreeClassifier é uma classe capaz de realizar classificação multiclasse em um conjunto de dados.\n",
        "from sklearn.tree import DecisionTreeClassifier  # Modelo utilizado\n",
        "\n",
        "modelo = DecisionTreeClassifier(random_state=0, criterion=\"entropy\")\n",
        "\n",
        "# A função fit recebe como primeiro parâmetro uma matriz CxN, com C colunas e N linhas, onde cada linha especifica um exemplo\n",
        "# O segundo parâmetro é um vetor com N posições, indicando os rótulos das linhas da matriz no primeiro parâmetro\n",
        "modelo_treinado = modelo.fit(X_treino, y_treino)"
      ],
      "execution_count": 49,
      "outputs": []
    },
    {
      "cell_type": "markdown",
      "metadata": {
        "id": "CeSL8nx2FK67"
      },
      "source": [
        "**Avaliação do modelo**\n",
        "\n",
        "Com o modelo treinado, temos que avaliá-lo no conjunto de teste. O sklearn implementa boa parte das métricas, bem como permite mostrar a matriz de confusão completa. Alguns dos módulos do sklearn são acrescentados para comparar os modelos."
      ]
    },
    {
      "cell_type": "code",
      "metadata": {
        "id": "Jv4GVeW3xuGq",
        "colab": {
          "base_uri": "https://localhost:8080/"
        },
        "outputId": "2e351e2e-ba56-4e96-eb5d-3e14975da12a"
      },
      "source": [
        "from sklearn.metrics import accuracy_score # Metricas para calcular accuracy score\n",
        "\n",
        "# Passamos os exemplos sem classe pelo primeiro modelo treinado, que retorna a predicao em um vetor\n",
        "predicoes = modelo_treinado.predict(X_teste)\n",
        "\n",
        "# Com as predicoes, podemos calcular as métricas. Abaixo, a acurácia.\n",
        "acuracia = accuracy_score(y_teste, predicoes) # Observe que sempre passamos os valores verdadeiros (y_teste) e depois as predicoes\n",
        "print(\"Acurácia do modelo: \", f\"{acuracia:.1%}\")\n",
        "print(\"Acurácia do modelo diz quanto o modelo acertou das previsões possíveis\")"
      ],
      "execution_count": 50,
      "outputs": [
        {
          "output_type": "stream",
          "text": [
            "Acurácia do modelo:  94.4%\n",
            "Acurácia do modelo diz quanto o modelo acertou das previsões possíveis\n"
          ],
          "name": "stdout"
        }
      ]
    },
    {
      "cell_type": "markdown",
      "metadata": {
        "id": "YhBCauoj7SJc"
      },
      "source": [
        "> **Matriz de Confusão**\n",
        "\n",
        "1. A métrica `precision` identifica qual a proporção de identificações positivas foi realmente correta. Em outras palavras, o qual bem meu modelo trabalhou.\n",
        "\n",
        "2. A métrica `recall` identifica qual a proporção de positivos foram identificados corretamente. Ou seja, avalia o quão bom meu modelo é para prever positivos, sendo positivo entendido como a classe que se quer prever, no nosso contexto, se é um indivíduo não hospitalizado.\n",
        "\n",
        "3. A métrica `f1-score` mostra o balanço entre a `precision` e o `recall` do  modelo.\n",
        "\n"
      ]
    },
    {
      "cell_type": "code",
      "metadata": {
        "id": "hCZLA3SA-JLb",
        "colab": {
          "base_uri": "https://localhost:8080/"
        },
        "outputId": "cf33cd7d-0773-46d6-bb89-d317faa3262b"
      },
      "source": [
        "from sklearn.metrics import classification_report\n",
        "\n",
        "# 0 para NAO HOSPTALIZADO, 1 para HOSPTALIZADO\n",
        "relatorio = classification_report(y_teste, predicoes)\n",
        "print(relatorio)"
      ],
      "execution_count": 51,
      "outputs": [
        {
          "output_type": "stream",
          "text": [
            "              precision    recall  f1-score   support\n",
            "\n",
            "           0       0.96      0.98      0.97     60342\n",
            "           1       0.69      0.47      0.56      4943\n",
            "\n",
            "    accuracy                           0.94     65285\n",
            "   macro avg       0.82      0.73      0.77     65285\n",
            "weighted avg       0.94      0.94      0.94     65285\n",
            "\n"
          ],
          "name": "stdout"
        }
      ]
    },
    {
      "cell_type": "markdown",
      "metadata": {
        "id": "xFwGPaMEfVJn"
      },
      "source": [
        "O modelo apresentou precisão de **96%** para os casos que não demandam hospitalização '**0**', considerado melhor para os casos que demandam de hospitalização '**1**', que apresentou precisão de **69%**. Com a matriz de confusão, acurácia obtida foi de **94%**. "
      ]
    },
    {
      "cell_type": "markdown",
      "metadata": {
        "id": "_5EuYUqLxOJI"
      },
      "source": [
        "Assim, este modelo:\n",
        "\n",
        "Previu `NAO HOSPITALIZADO` **98%** corretamente\n",
        "\n",
        "Previu `HOSPITALIZADO` **47%** corretamente\n",
        "\n",
        "Previu `NAO HOSPITALIZADO` **1%** incorretamente\n",
        "\n",
        "Previu `HOSPITALIZADO` **53%** incorretamente\n"
      ]
    },
    {
      "cell_type": "code",
      "metadata": {
        "id": "6s7Pyhr4KKrU",
        "colab": {
          "base_uri": "https://localhost:8080/",
          "height": 296
        },
        "outputId": "06bf5829-0902-4db8-bcf7-d4b51fcc1696"
      },
      "source": [
        "from sklearn.metrics import plot_confusion_matrix\n",
        "\n",
        "plot_confusion_matrix(modelo_treinado, X_teste, y_teste, normalize='true')"
      ],
      "execution_count": 52,
      "outputs": [
        {
          "output_type": "execute_result",
          "data": {
            "text/plain": [
              "<sklearn.metrics._plot.confusion_matrix.ConfusionMatrixDisplay at 0x7fe431da5400>"
            ]
          },
          "metadata": {
            "tags": []
          },
          "execution_count": 52
        },
        {
          "output_type": "display_data",
          "data": {
            "image/png": "[encoded data removed]",
            "text/plain": [
              "<Figure size 432x288 with 2 Axes>"
            ]
          },
          "metadata": {
            "tags": [],
            "needs_background": "light"
          }
        }
      ]
    },
    {
      "cell_type": "markdown",
      "metadata": {
        "id": "_gGFahgjjgcd"
      },
      "source": [
        "> **Análise de desempenho do modelo**\n",
        "\n",
        "ROC é uma curva de probabilidade. Ela é criada traçando a taxa `verdadeiro-positivo` contra a taxa de `falsos-positivos`. Ou seja, número de vezes que o classificador acertou a predição conta o número de vezes que o classificador errou a predição.\n",
        "\n",
        "O AUC representa o grau ou medida de separabilidade. Quanto maior o AUC, melhor o modelo está em prever 0s como 0s e 1s como 1s. Por exemplo, quanto maior a AUC, melhor o modelo está em distinguir entre pacientes com doença e pacientes sem doença"
      ]
    },
    {
      "cell_type": "code",
      "metadata": {
        "id": "4qlwHOCNi1qc",
        "colab": {
          "base_uri": "https://localhost:8080/",
          "height": 296
        },
        "outputId": "3e7045e5-0e1b-4da3-f797-163d646d5d26"
      },
      "source": [
        "from sklearn.metrics import plot_roc_curve # recurso para imprimir a curva ROC e AUC \n",
        "plot_roc_curve(modelo_treinado, X_teste, y_teste)"
      ],
      "execution_count": 53,
      "outputs": [
        {
          "output_type": "execute_result",
          "data": {
            "text/plain": [
              "<sklearn.metrics._plot.roc_curve.RocCurveDisplay at 0x7fe411384390>"
            ]
          },
          "metadata": {
            "tags": []
          },
          "execution_count": 53
        },
        {
          "output_type": "display_data",
          "data": {
            "image/png": "[encoded data removed]",
            "text/plain": [
              "<Figure size 432x288 with 1 Axes>"
            ]
          },
          "metadata": {
            "tags": [],
            "needs_background": "light"
          }
        }
      ]
    },
    {
      "cell_type": "markdown",
      "metadata": {
        "id": "wGWxsQbKi6PU"
      },
      "source": [
        "> **Método Bootstrapping**\n",
        "\n",
        "A validação cruzada é uma técnica para avaliar a capacidade de generalização de um modelo. É amplamente empregada em problemas onde o objetivo da modelagem é a predição. Busca-se então estimar o quão preciso é este modelo na prática, ou seja, o seu desempenho para um novo conjunto de dados."
      ]
    },
    {
      "cell_type": "code",
      "metadata": {
        "id": "Hq079eVBL84Y"
      },
      "source": [
        "from sklearn.model_selection import ShuffleSplit\n",
        "\n",
        "# Vamos criar 10 separações (considerado o padrão), mantendo 20% de teste em cada uma\n",
        "rs = ShuffleSplit(n_splits=10, test_size=.2)\n",
        "\n",
        "X = dados.drop('HOSPITALIZADO', axis='columns')\n",
        "y = dados['HOSPITALIZADO']\n",
        "\n",
        "# Array para armazernamos as acurácias de cada modelo\n",
        "acuracias = []"
      ],
      "execution_count": 54,
      "outputs": []
    },
    {
      "cell_type": "markdown",
      "metadata": {
        "id": "gx3lcpZUITyB"
      },
      "source": [
        "Agora iteramos por cada separação e treinamos o modelo"
      ]
    },
    {
      "cell_type": "code",
      "metadata": {
        "id": "kqMZnbrnHu8z",
        "colab": {
          "base_uri": "https://localhost:8080/"
        },
        "outputId": "04fa5146-a75f-49e8-9b6e-a3771bc17071"
      },
      "source": [
        "# O método split retorna índices para o vetor passado como parametro\n",
        "# O .loc é a maneira de indexar tabelas no pandas a partir de índices\n",
        "for train_index, test_index in rs.split(X):\n",
        "  modelo_treinado = modelo.fit(X.loc[train_index], y.loc[train_index])\n",
        "  predicoes = modelo_treinado.predict(X.loc[test_index])\n",
        "  acuracias.append(accuracy_score(y.loc[test_index], predicoes))\n",
        "\n",
        "print(acuracias)\n",
        "print(\"Média das acurácias: \", f\"{sum(acuracias) / len(acuracias):.1%}\")\n",
        "#Uma abordagem seria estratificar a separação entre treino/teste. \n",
        "#A estratificação procura garantir que a distribuição dos dados é semelhante entre os grupos. \n",
        "#Ela pode ser feita tanto para atributos como para rótulos. \n"
      ],
      "execution_count": 55,
      "outputs": [
        {
          "output_type": "stream",
          "text": [
            "[0.9458068469020449, 0.945975338898675, 0.9470322432411733, 0.9466493068851957, 0.9478134334073677, 0.9443363712950907, 0.9450103392816114, 0.9450716090985678, 0.9448265298307421, 0.9456536723596538]\n",
            "Média das acurácias:  94.6%\n"
          ],
          "name": "stdout"
        }
      ]
    },
    {
      "cell_type": "markdown",
      "metadata": {
        "id": "zXo4B8NmVtIY"
      },
      "source": [
        "O resultado acima representa a pontuação média do modelo que é avaliada a partir das médias dos valores de cada interação. A acurácia média obtida se manteve equivalente ao produzido pelo SKLearn: **94,5%.**\n",
        "\n",
        "> **3.3 K-Fold**\n",
        "\n",
        "O Cross Validation serve para ajudar nessa validação do modelo. A validação cruzada *k-fold*, embaralha os dados separando-os em *k* partições, onde cada uma passa pelo treinamento contendo dados distintos. Nesse experimento, houve um divisão em 10 partes, com isso haverá 10 resultados no final, a media deles é a métrica de eficiência do modelo."
      ]
    },
    {
      "cell_type": "code",
      "metadata": {
        "id": "t4RMiPy-TDn4",
        "colab": {
          "base_uri": "https://localhost:8080/"
        },
        "outputId": "75906632-e13b-4f49-9468-e7cb5fb8258a"
      },
      "source": [
        "from sklearn.model_selection import cross_val_score\n",
        "\n",
        "# O parâmetro cv indica quantas partições criaremos\n",
        "scores = cross_val_score(modelo, X, y, cv=10)\n",
        "print(\"Acurácia média: \", f\"{scores.mean():.1%}\")"
      ],
      "execution_count": 56,
      "outputs": [
        {
          "output_type": "stream",
          "text": [
            "Acurácia média:  94.5%\n"
          ],
          "name": "stdout"
        }
      ]
    },
    {
      "cell_type": "markdown",
      "metadata": {
        "id": "Ll_gEKGeS06n"
      },
      "source": [
        "####3.1.2 Treinando com Randon Forest\n",
        "\n",
        "O algoritmo Random Forest é um tipo de *ensemble learning*, método que gera muitos classificadores e combina o seu resultado. No caso do Random Forest, ele gera vários *decision trees*, cada um com suas particularidades e combinada o resultado da classificação de todos eles."
      ]
    },
    {
      "cell_type": "code",
      "metadata": {
        "id": "uOrl6JEhkj4F"
      },
      "source": [
        "from sklearn.ensemble import RandomForestClassifier\n",
        "modelo2 = RandomForestClassifier(max_depth=10, random_state=0)\n",
        "modelo_treinado2 = modelo2.fit(X_treino, y_treino)"
      ],
      "execution_count": 57,
      "outputs": []
    },
    {
      "cell_type": "markdown",
      "metadata": {
        "id": "kPT9YHQ9k9D_"
      },
      "source": [
        "Avaliando desempenho do modelo\n",
        "\n",
        ">*Para facilitar a exibição dos resultados, foi definida uma função chamada `resultado_modelo`.*"
      ]
    },
    {
      "cell_type": "code",
      "metadata": {
        "id": "cB8pzj0DlAA3"
      },
      "source": [
        "def resultado_modelo(modelo_treinado, X_teste, y_teste):\n",
        "    predicoes = modelo_treinado.predict(X_teste)\n",
        "    acuracia = accuracy_score(y_teste, predicoes)\n",
        "    print(\"Acurácia do modelo: \", f\"{acuracia:.1%}\")\n",
        "\n",
        "    relatorio = classification_report(y_teste, predicoes)\n",
        "    print(relatorio)\n",
        "\n",
        "    plot_confusion_matrix(modelo_treinado, X_teste, y_teste, normalize=\"true\")\n",
        "\n",
        "    plot_roc_curve(modelo_treinado, X_teste, y_teste)"
      ],
      "execution_count": 58,
      "outputs": []
    },
    {
      "cell_type": "code",
      "metadata": {
        "colab": {
          "base_uri": "https://localhost:8080/",
          "height": 711
        },
        "id": "aYLDMZqG1y_j",
        "outputId": "954fa7cf-2ef1-4173-f024-ef87c05802ca"
      },
      "source": [
        "resultado_modelo(modelo_treinado2, X_teste, y_teste)"
      ],
      "execution_count": 59,
      "outputs": [
        {
          "output_type": "stream",
          "text": [
            "Acurácia do modelo:  94.3%\n",
            "              precision    recall  f1-score   support\n",
            "\n",
            "           0       0.95      0.99      0.97     60342\n",
            "           1       0.72      0.41      0.53      4943\n",
            "\n",
            "    accuracy                           0.94     65285\n",
            "   macro avg       0.84      0.70      0.75     65285\n",
            "weighted avg       0.94      0.94      0.94     65285\n",
            "\n"
          ],
          "name": "stdout"
        },
        {
          "output_type": "display_data",
          "data": {
            "image/png": "[encoded data removed]",
            "text/plain": [
              "<Figure size 432x288 with 2 Axes>"
            ]
          },
          "metadata": {
            "tags": [],
            "needs_background": "light"
          }
        },
        {
          "output_type": "display_data",
          "data": {
            "image/png": "[encoded data removed]",
            "text/plain": [
              "<Figure size 432x288 with 1 Axes>"
            ]
          },
          "metadata": {
            "tags": [],
            "needs_background": "light"
          }
        }
      ]
    },
    {
      "cell_type": "markdown",
      "metadata": {
        "id": "MX_uMOPlSQXQ"
      },
      "source": [
        "Avaliando desempenho do modelo"
      ]
    },
    {
      "cell_type": "markdown",
      "metadata": {
        "id": "leY3LOTsltyD"
      },
      "source": [
        "####3.1.3 Treinando com Classificador de Regressão Logística\n",
        "\n",
        "Este algoritmo encontra um modelo de regressão que calcula a probabilidade de um dado ponto ter classificação 0 ou 1 (que chamaremos também de classificações negativa e positiva, respectivamente)"
      ]
    },
    {
      "cell_type": "code",
      "metadata": {
        "id": "AVWq1MYJXd4h"
      },
      "source": [
        "from sklearn.linear_model import LogisticRegression\n",
        "modelo3 = LogisticRegression(random_state=0, max_iter=1000)\n",
        "modelo_treinado3 = modelo3.fit(X_treino, y_treino)"
      ],
      "execution_count": 60,
      "outputs": []
    },
    {
      "cell_type": "markdown",
      "metadata": {
        "id": "u9atXGy3XdFx"
      },
      "source": [
        "Avaliando o modelo\n",
        "\n"
      ]
    },
    {
      "cell_type": "code",
      "metadata": {
        "id": "jhm3VfltXeiV",
        "colab": {
          "base_uri": "https://localhost:8080/",
          "height": 711
        },
        "outputId": "18305634-f15b-499e-a676-3ec124627eee"
      },
      "source": [
        "resultado_modelo(modelo_treinado3, X_teste, y_teste)"
      ],
      "execution_count": 61,
      "outputs": [
        {
          "output_type": "stream",
          "text": [
            "Acurácia do modelo:  94.4%\n",
            "              precision    recall  f1-score   support\n",
            "\n",
            "           0       0.96      0.98      0.97     60342\n",
            "           1       0.70      0.46      0.55      4943\n",
            "\n",
            "    accuracy                           0.94     65285\n",
            "   macro avg       0.83      0.72      0.76     65285\n",
            "weighted avg       0.94      0.94      0.94     65285\n",
            "\n"
          ],
          "name": "stdout"
        },
        {
          "output_type": "display_data",
          "data": {
            "image/png": "[encoded data removed]",
            "text/plain": [
              "<Figure size 432x288 with 2 Axes>"
            ]
          },
          "metadata": {
            "tags": [],
            "needs_background": "light"
          }
        },
        {
          "output_type": "display_data",
          "data": {
            "image/png": "[encoded data removed]",
            "text/plain": [
              "<Figure size 432x288 with 1 Axes>"
            ]
          },
          "metadata": {
            "tags": [],
            "needs_background": "light"
          }
        }
      ]
    },
    {
      "cell_type": "markdown",
      "metadata": {
        "id": "H4qBS7y1-_Id"
      },
      "source": [
        "#4 Considerações preliminares\n",
        "\n",
        "Para o conjunto de dados analisados, as técnicas utilizadas para treinamento, teste e validação, apresentaram resultados muito próximos, com acurácia entre 93% e 95%. Tendo como atributo alvo a necessidade de hospitalização do paciente 'HOSPITALIZADO'. \n",
        "\n",
        "Os demais atributos selecionados nesta análise foram oportunos e ajudaram na precisão do modelo. \n",
        "\n",
        "Já atributos relacionados a condições, região e evolução do quadro do paciente foram descartados, visto que em testes preliminares a correlação foi fraca ou haviam muitos dados faltantes. "
      ]
    },
    {
      "cell_type": "markdown",
      "metadata": {
        "id": "YfTpCMlSr5rg"
      },
      "source": [
        "Com o modelo treinado, podemos testar com dados fictícios:"
      ]
    },
    {
      "cell_type": "code",
      "metadata": {
        "id": "-Vdl2_DT7jgn",
        "colab": {
          "base_uri": "https://localhost:8080/"
        },
        "outputId": "d5303100-adb5-4c1e-b5d7-df3c2ec00f93"
      },
      "source": [
        "inferencia = modelo_treinado.predict([[0,0,0,0,0,1,0,0,0,0,0,0,0,0,0,0,0,0,0,0,0]]) # Árvore de Decisão\n",
        "print (\"Com DISPNEIA\")\n",
        "if inferencia == 0 : \n",
        "  print (\"NAO HOSPITALIZADO\") \n",
        "else: \n",
        "  print (\"HOSPITALIZADO\") "
      ],
      "execution_count": 62,
      "outputs": [
        {
          "output_type": "stream",
          "text": [
            "Com DISPNEIA\n",
            "HOSPITALIZADO\n"
          ],
          "name": "stdout"
        }
      ]
    },
    {
      "cell_type": "code",
      "metadata": {
        "colab": {
          "base_uri": "https://localhost:8080/"
        },
        "id": "4uVZjajz-Oj0",
        "outputId": "5b24f941-fb32-42bf-d329-b196f507e3f9"
      },
      "source": [
        "inferencia = modelo_treinado2.predict([[0,0,0,0,0,1,0,0,0,0,0,0,0,0,0,0,0,0,0,0,0]]) # Randon Forest\n",
        "print (\"Com DISPNEIA\")\n",
        "if inferencia == 0 : \n",
        "  print (\"NAO HOSPITALIZADO\") \n",
        "else: \n",
        "  print (\"HOSPITALIZADO\")"
      ],
      "execution_count": 63,
      "outputs": [
        {
          "output_type": "stream",
          "text": [
            "Com DISPNEIA\n",
            "NAO HOSPITALIZADO\n"
          ],
          "name": "stdout"
        }
      ]
    },
    {
      "cell_type": "code",
      "metadata": {
        "colab": {
          "base_uri": "https://localhost:8080/"
        },
        "id": "HeWBL5Nl-ROA",
        "outputId": "e2fe4cb9-d14f-4495-9582-f38e2b13f5c1"
      },
      "source": [
        "inferencia = modelo_treinado3.predict([[0,0,0,0,0,1,0,0,0,0,0,0,0,0,0,0,0,0,0,0,0]]) # Regressão Logística\n",
        "print (\"Com DISPNEIA\")\n",
        "if inferencia == 0 : \n",
        "  print (\"NAO HOSPITALIZADO\") \n",
        "else: \n",
        "  print (\"HOSPITALIZADO\")"
      ],
      "execution_count": 64,
      "outputs": [
        {
          "output_type": "stream",
          "text": [
            "Com DISPNEIA\n",
            "NAO HOSPITALIZADO\n"
          ],
          "name": "stdout"
        }
      ]
    },
    {
      "cell_type": "code",
      "metadata": {
        "id": "NrYvgVRRvqvR",
        "colab": {
          "base_uri": "https://localhost:8080/"
        },
        "outputId": "4ec1c5da-0e1a-4f06-abfb-ee5b970a77c6"
      },
      "source": [
        "inferencia = modelo_treinado3.predict([[0,0,1,0,0,1,0,0,0,0,0,0,0,0,0,0,0,0,0,0,0]]) # Regressão Logística\n",
        "print (\"Com FEBRE e DISPNEIA\")\n",
        "if inferencia == 0 : \n",
        "  print (\"NAO HOSPITALIZADO\") \n",
        "else: \n",
        "  print (\"HOSPITALIZADO\") "
      ],
      "execution_count": 65,
      "outputs": [
        {
          "output_type": "stream",
          "text": [
            "Com FEBRE e DISPNEIA\n",
            "NAO HOSPITALIZADO\n"
          ],
          "name": "stdout"
        }
      ]
    },
    {
      "cell_type": "code",
      "metadata": {
        "id": "aKVpEn3WwwRg",
        "colab": {
          "base_uri": "https://localhost:8080/"
        },
        "outputId": "b02bfece-761a-4a3f-f617-a95792646d0a"
      },
      "source": [
        "inferencia = modelo_treinado3.predict([[0,0,1,1,0,1,0,0,0,0,0,0,0,0,0,0,0,0,0,0,0]]) # Regressão Logística\n",
        "print (\"Com FEBRE, TOSSE e DISPNEIA\")\n",
        "if inferencia == 0 : \n",
        "  print (\"NAO HOSPITALIZADO\") \n",
        "else: \n",
        "  print (\"HOSPITALIZADO\") "
      ],
      "execution_count": 66,
      "outputs": [
        {
          "output_type": "stream",
          "text": [
            "Com FEBRE, TOSSE e DISPNEIA\n",
            "HOSPITALIZADO\n"
          ],
          "name": "stdout"
        }
      ]
    },
    {
      "cell_type": "code",
      "metadata": {
        "id": "nRF1jhuIww6F",
        "colab": {
          "base_uri": "https://localhost:8080/"
        },
        "outputId": "2a1eebf8-5b14-4810-f15e-533662b76273"
      },
      "source": [
        "inferencia = modelo_treinado3.predict([[0,0,1,1,1,1,0,0,0,0,0,0,0,0,0,0,0,0,0,0,0]]) # Regressão Logística\n",
        "print (\"Com FEBRE, TOSSE, GARGANTA e DISPNEIA\")\n",
        "if inferencia == 0 : \n",
        "  print (\"NAO HOSPITALIZADO\") \n",
        "else: \n",
        "  print (\"HOSPITALIZADO\") "
      ],
      "execution_count": 67,
      "outputs": [
        {
          "output_type": "stream",
          "text": [
            "Com FEBRE, TOSSE, GARGANTA e DISPNEIA\n",
            "NAO HOSPITALIZADO\n"
          ],
          "name": "stdout"
        }
      ]
    },
    {
      "cell_type": "code",
      "metadata": {
        "id": "RkXrs_r7x7rp",
        "colab": {
          "base_uri": "https://localhost:8080/"
        },
        "outputId": "3ebf18d2-1e7a-4924-da56-7502cadbb44c"
      },
      "source": [
        "inferencia = modelo_treinado.predict([[0,0,1,1,1,1,0,0,0,0,0,0,0,0,0,0,0,0,0,0,0]]) #àrvore de decisão\n",
        "print (\"Com FEBRE, TOSSE, GARGANTA, DISPNEIA e PROFISSIONAL_SAUDE\")\n",
        "if inferencia == 0 : \n",
        "  print (\"NAO HOSPITALIZADO\") \n",
        "else: \n",
        "  print (\"HOSPITALIZADO\") "
      ],
      "execution_count": 68,
      "outputs": [
        {
          "output_type": "stream",
          "text": [
            "Com FEBRE, TOSSE, GARGANTA, DISPNEIA e PROFISSIONAL_SAUDE\n",
            "NAO HOSPITALIZADO\n"
          ],
          "name": "stdout"
        }
      ]
    },
    {
      "cell_type": "code",
      "metadata": {
        "id": "dqQ3hclhyLrU",
        "colab": {
          "base_uri": "https://localhost:8080/"
        },
        "outputId": "c9621580-523a-45a0-abd4-a0d1bda77f79"
      },
      "source": [
        "inferencia = modelo_treinado2.predict([[0,0,0,0,0,0,1,0,0,0,0,0,0,0,0,0,0,0,0,0,0]])\n",
        "print (\"Com FEBRE, TOSSE, GARGANTA, DISPNEIA, PROFISSIONAL_SAUDE e OUTROS\")\n",
        "if inferencia == 0 : \n",
        "  print (\"NAO HOSPITALIZADO\") \n",
        "else: \n",
        "  print (\"HOSPITALIZADO\") "
      ],
      "execution_count": 69,
      "outputs": [
        {
          "output_type": "stream",
          "text": [
            "Com FEBRE, TOSSE, GARGANTA, DISPNEIA, PROFISSIONAL_SAUDE e OUTROS\n",
            "NAO HOSPITALIZADO\n"
          ],
          "name": "stdout"
        }
      ]
    },
    {
      "cell_type": "markdown",
      "metadata": {
        "id": "bFu9Tn8Syk5v"
      },
      "source": [
        "Com as inferência acima, é possível verificar que a presença de `DISPNEIA` no modelo de classificação Árvore de Decisão, corresponde ao atributo mais determinante para a hospitalização do paciente. Para o modelo de classificação de Regressão Logistica, a combinação `FEBRE, TOSSE e DISPNEIA` resultam na combinação para hospitalização. O modelo de classificação Randon Forest,com a menor acurácia entre os três modelos avaliados, não apresentou um resultado igual ou parecido em relação aos dois modelos anteriores.\n",
        "\n",
        "Resultados obtidos\n",
        "\n",
        "> **Árvore de decisão** - `Acurácia`: 94% e `AUC`: 0,94\n",
        "\n",
        "> **Randon Forest** - `Acurácia`: 93% e `AUC`: 0,91\n",
        "\n",
        "> **Regressão logistica** - `Acurácia`: 95% e `AUC`: 0,94"
      ]
    },
    {
      "cell_type": "markdown",
      "metadata": {
        "id": "GO3qRycG4Q_o"
      },
      "source": [
        "A matriz de confusão nos mostra o número exato de registros classificados por classe.\n",
        "\n"
      ]
    },
    {
      "cell_type": "code",
      "metadata": {
        "colab": {
          "base_uri": "https://localhost:8080/"
        },
        "id": "mQ2RNemPQpVn",
        "outputId": "f196596b-8ebf-4c78-88b3-75753e5c5bb7"
      },
      "source": [
        "print (pd.crosstab(y_teste, predicoes, rownames=['Real'], colnames=['Predito'], margins=True))\n"
      ],
      "execution_count": 70,
      "outputs": [
        {
          "output_type": "stream",
          "text": [
            "Predito      0     1    All\n",
            "Real                       \n",
            "0        57301  3041  60342\n",
            "1         4693   250   4943\n",
            "All      61994  3291  65285\n"
          ],
          "name": "stdout"
        }
      ]
    },
    {
      "cell_type": "markdown",
      "metadata": {
        "id": "z1l2JaCL4peo"
      },
      "source": [
        "Temos 4693 registos classificados como sendo da classe 0 quando na verdade eram da classe 1.\n",
        "\n",
        "#5 Lidando com Classes Desbalanceadas "
      ]
    },
    {
      "cell_type": "markdown",
      "metadata": {
        "id": "pHl2Txc55BG1"
      },
      "source": [
        "**Aplicando NearMiss**\n",
        "\n",
        "É um algoritmo de *undersampling* que consiste em reduzir de forma aleatória os exemplos da classe majoritária, porém ele seleciona os exemplos com base na distância.\n",
        ">Método de Undersampling.\n",
        ">Iguala as quantidade de amostras entre as classes."
      ]
    },
    {
      "cell_type": "code",
      "metadata": {
        "colab": {
          "base_uri": "https://localhost:8080/",
          "height": 387
        },
        "id": "MVrIQX1bgrNw",
        "outputId": "4575d92a-f810-44e0-eb49-79d728b64d90"
      },
      "source": [
        "\n",
        "import warnings \n",
        "warnings.filterwarnings(\"ignore\", category=DeprecationWarning)\n",
        "#from sklearn.model_selection import train_test_split # Separa dados de treinamento e teste\n",
        "from imblearn.under_sampling import NearMiss\n",
        "import seaborn as sns\n",
        "\n",
        "#treino, teste = train_test_split(dados, test_size=0.2)\n",
        "# Carregando os atributos e classes dos dados de treino\n",
        "#X_treino = treino.drop('HOSPITALIZADO', axis='columns')\n",
        "#y_treino = treino['HOSPITALIZADO']\n",
        "\n",
        "nr = NearMiss()\n",
        "X, y = nr.fit_sample(X_teste, y_teste)\n",
        "ax = sns.countplot(x=y)"
      ],
      "execution_count": 80,
      "outputs": [
        {
          "output_type": "stream",
          "text": [
            "/usr/local/lib/python3.6/dist-packages/sklearn/utils/deprecation.py:87: FutureWarning: Function safe_indexing is deprecated; safe_indexing is deprecated in version 0.22 and will be removed in version 0.24.\n",
            "  warnings.warn(msg, category=FutureWarning)\n",
            "/usr/local/lib/python3.6/dist-packages/sklearn/utils/deprecation.py:87: FutureWarning: Function safe_indexing is deprecated; safe_indexing is deprecated in version 0.22 and will be removed in version 0.24.\n",
            "  warnings.warn(msg, category=FutureWarning)\n",
            "/usr/local/lib/python3.6/dist-packages/sklearn/utils/deprecation.py:87: FutureWarning: Function safe_indexing is deprecated; safe_indexing is deprecated in version 0.22 and will be removed in version 0.24.\n",
            "  warnings.warn(msg, category=FutureWarning)\n"
          ],
          "name": "stderr"
        },
        {
          "output_type": "display_data",
          "data": {
            "image/png": "[encoded data removed]",
            "text/plain": [
              "<Figure size 432x288 with 1 Axes>"
            ]
          },
          "metadata": {
            "tags": [],
            "needs_background": "light"
          }
        }
      ]
    },
    {
      "cell_type": "markdown",
      "metadata": {
        "id": "y_oxNcgWA3eS"
      },
      "source": [
        "Veja que agora os nossos dados estão balanceados. Temos cerca de 5000 linhas para cada classe.\n",
        "\n",
        "E qual será o comportamento do nosso modelo agora?"
      ]
    },
    {
      "cell_type": "markdown",
      "metadata": {
        "id": "rVlDpgNjCV4O"
      },
      "source": [
        "Separando dados de treino e teste"
      ]
    },
    {
      "cell_type": "code",
      "metadata": {
        "id": "InVQtNESAxM7"
      },
      "source": [
        "#Separando os dados em 80% para treino e 20% para teste\n",
        "X_treino, X_teste, y_treino, y_teste = train_test_split(X, y , test_size=0.2, random_state = 1, stratify=y, )"
      ],
      "execution_count": 83,
      "outputs": []
    },
    {
      "cell_type": "markdown",
      "metadata": {
        "id": "ZYeofyOiCTqd"
      },
      "source": [
        "Instância o classificador\n"
      ]
    },
    {
      "cell_type": "code",
      "metadata": {
        "id": "fJk1ZY1kBygu"
      },
      "source": [
        "lr = LogisticRegression()\n"
      ],
      "execution_count": 84,
      "outputs": []
    },
    {
      "cell_type": "markdown",
      "metadata": {
        "id": "ei-MfV-iCdBt"
      },
      "source": [
        "Treinando o algoritmo\n"
      ]
    },
    {
      "cell_type": "code",
      "metadata": {
        "colab": {
          "base_uri": "https://localhost:8080/"
        },
        "id": "On0Q8ruuB6ht",
        "outputId": "4843ebec-4df6-41a9-a399-de6099ab58a1"
      },
      "source": [
        "lr.fit(X_treino, y_treino)"
      ],
      "execution_count": 85,
      "outputs": [
        {
          "output_type": "execute_result",
          "data": {
            "text/plain": [
              "LogisticRegression(C=1.0, class_weight=None, dual=False, fit_intercept=True,\n",
              "                   intercept_scaling=1, l1_ratio=None, max_iter=100,\n",
              "                   multi_class='auto', n_jobs=None, penalty='l2',\n",
              "                   random_state=None, solver='lbfgs', tol=0.0001, verbose=0,\n",
              "                   warm_start=False)"
            ]
          },
          "metadata": {
            "tags": []
          },
          "execution_count": 85
        }
      ]
    },
    {
      "cell_type": "markdown",
      "metadata": {
        "id": "_ZOTSOP-CfwY"
      },
      "source": [
        "Coloca as classificações na variável y_pred\n"
      ]
    },
    {
      "cell_type": "code",
      "metadata": {
        "id": "8zIWOSVfB_NF"
      },
      "source": [
        "y_pred = lr.predict(X_teste)\n"
      ],
      "execution_count": 86,
      "outputs": []
    },
    {
      "cell_type": "markdown",
      "metadata": {
        "id": "xYshUmU5Ckag"
      },
      "source": [
        "Checando a acurácia do modelo\n"
      ]
    },
    {
      "cell_type": "code",
      "metadata": {
        "colab": {
          "base_uri": "https://localhost:8080/"
        },
        "id": "TRvHtw8NCGI7",
        "outputId": "c1246ecb-dfb1-4094-b5cd-c99788b5477e"
      },
      "source": [
        "accuracy_score(y_teste, y_pred)\n"
      ],
      "execution_count": 87,
      "outputs": [
        {
          "output_type": "execute_result",
          "data": {
            "text/plain": [
              "0.8245702730030333"
            ]
          },
          "metadata": {
            "tags": []
          },
          "execution_count": 87
        }
      ]
    },
    {
      "cell_type": "markdown",
      "metadata": {
        "id": "bohGwsJACLlg"
      },
      "source": [
        "Não tivemos uma mudança drástica no valor da acurácia, mas e no recall será que a influencia foi considerável?"
      ]
    },
    {
      "cell_type": "markdown",
      "metadata": {
        "id": "dkE7xo7uCoqq"
      },
      "source": [
        "**Recall**"
      ]
    },
    {
      "cell_type": "code",
      "metadata": {
        "colab": {
          "base_uri": "https://localhost:8080/"
        },
        "id": "sum85LejCsGK",
        "outputId": "030ba7e1-2a72-42d6-89a0-8e90e3ff0be2"
      },
      "source": [
        "print (classification_report(y_teste, y_pred))"
      ],
      "execution_count": 88,
      "outputs": [
        {
          "output_type": "stream",
          "text": [
            "              precision    recall  f1-score   support\n",
            "\n",
            "           0       0.81      0.84      0.83       989\n",
            "           1       0.84      0.81      0.82       989\n",
            "\n",
            "    accuracy                           0.82      1978\n",
            "   macro avg       0.82      0.82      0.82      1978\n",
            "weighted avg       0.82      0.82      0.82      1978\n",
            "\n"
          ],
          "name": "stdout"
        }
      ]
    },
    {
      "cell_type": "markdown",
      "metadata": {
        "id": "UpVc7HvJC5sy"
      },
      "source": [
        "O recall da classe 1 melhorou significativamente, pois agora temos a mesma quantidade de exemplos para ambas as classes."
      ]
    },
    {
      "cell_type": "markdown",
      "metadata": {
        "id": "nTCR0g6PC__T"
      },
      "source": [
        "**Matriz de Confusão**"
      ]
    },
    {
      "cell_type": "code",
      "metadata": {
        "colab": {
          "base_uri": "https://localhost:8080/"
        },
        "id": "0uVUtzINC84b",
        "outputId": "74c749d4-2148-452b-d78f-e4f5a28faf6c"
      },
      "source": [
        "print (pd.crosstab(y_teste, y_pred, rownames=['Real'], colnames=['Predito'], margins=True))\n"
      ],
      "execution_count": 90,
      "outputs": [
        {
          "output_type": "stream",
          "text": [
            "Predito     0    1   All\n",
            "Real                    \n",
            "0         833  156   989\n",
            "1         191  798   989\n",
            "All      1024  954  1978\n"
          ],
          "name": "stdout"
        }
      ]
    },
    {
      "cell_type": "markdown",
      "metadata": {
        "id": "RYOUYKsBDIDi"
      },
      "source": [
        "O número de registros errados é quase que o mesmo para as duas classes, podemos dizer que nosso modelo não está mais enviesado nesse cenário."
      ]
    }
  ]
}