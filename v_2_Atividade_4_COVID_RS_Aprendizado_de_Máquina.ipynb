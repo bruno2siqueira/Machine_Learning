{
  "nbformat": 4,
  "nbformat_minor": 0,
  "metadata": {
    "colab": {
      "name": "v.2 Atividade 4 COVID/RS - Aprendizado de Máquina",
      "provenance": [],
      "collapsed_sections": [],
      "toc_visible": true,
      "include_colab_link": true
    },
    "kernelspec": {
      "name": "python3",
      "display_name": "Python 3"
    }
  },
  "cells": [
    {
      "cell_type": "markdown",
      "metadata": {
        "id": "view-in-github",
        "colab_type": "text"
      },
      "source": [
        "<a href=\"https://colab.research.google.com/github/bruno2siqueira/Machine_Learning/blob/main/v_2_Atividade_4_COVID_RS_Aprendizado_de_M%C3%A1quina.ipynb\" target=\"_parent\"><img src=\"https://colab.research.google.com/assets/colab-badge.svg\" alt=\"Open In Colab\"/></a>"
      ]
    },
    {
      "cell_type": "markdown",
      "metadata": {
        "id": "pHtUCa-sC7B0"
      },
      "source": [
        "## **Atividade 4 - Aprendizado de Máquina: COVID-19**\n",
        "\n",
        "* Por: Bruno Siqueira da Silva <<bruno.siqueira@inf.ufpel.edu.br>>\n",
        "\n",
        "* O objetivo deste trabalho é utilizar e avaliar técnicas de aprendizado de máquina em uma base de dados real. Esta base é originada da Secretaria Estadual de Saúde do RS e contém todos casos registrados de COVID-19 no estado, com informações diversas sobre cada caso, incluindo informações de hospitalização e óbito.\n",
        "\n",
        "* Observação: *Parte do código foi adaptada a partir dos notebooks apresentados pelo prof. Ricardo Araújo em aula.*\n",
        "\n",
        "Abaixo as etapas do trabalho:"
      ]
    },
    {
      "cell_type": "markdown",
      "metadata": {
        "id": "OxxcDmyIZecG"
      },
      "source": [
        "# 1 Preparação do ambiente\n",
        "\n",
        "###1.1 Importação das bibliotecas\n",
        "\n"
      ]
    },
    {
      "cell_type": "code",
      "metadata": {
        "id": "dBqal9X0RUWo",
        "colab": {
          "base_uri": "https://localhost:8080/"
        },
        "outputId": "f564685f-23e5-4bf6-dab9-2f624139a1ea"
      },
      "source": [
        "import matplotlib.pyplot as pt\n",
        "import pandas as pd\n",
        "import numpy as np\n",
        "from sklearn.preprocessing import LabelBinarizer\n",
        "from unicodedata import normalize\n",
        "from google.colab import drive\n",
        "drive.mount('/content/drive')"
      ],
      "execution_count": 2,
      "outputs": [
        {
          "output_type": "stream",
          "text": [
            "Mounted at /content/drive\n"
          ],
          "name": "stdout"
        }
      ]
    },
    {
      "cell_type": "markdown",
      "metadata": {
        "id": "0Slehnql5n4Y"
      },
      "source": [
        "### 1.2 Carregamento do arquivo\n",
        "\n",
        "* O primeiro passo é baixar dados epidemiológicos da COVID-19 no Rio Grande do Sul, Secretaria Estadual de Saúde - SES.\n",
        "\n",
        "* Disponível em: https://ti.saude.rs.gov.br/covid19/\n"
      ]
    },
    {
      "cell_type": "markdown",
      "metadata": {
        "id": "A4qKgdb75fg9"
      },
      "source": [
        "####1.2.1 Fonte de dados obtidos da Secretaria Estadual de Saúde do RS"
      ]
    },
    {
      "cell_type": "code",
      "metadata": {
        "id": "-_LlhG14Jgfp",
        "colab": {
          "base_uri": "https://localhost:8080/"
        },
        "outputId": "0fbfaccb-4341-4012-ec39-96421c5a5914"
      },
      "source": [
        "# Baixar os dados e renomear para algo mais usável \n",
        "# Como os dados são atualizados diariamente, uma boa ideia fazer uma cópia mais estável\n",
        "\n",
        "!wget https://ti.saude.rs.gov.br/covid19/download\n",
        "!mv download dados_covid_rs.csv  #disponibiliza no ambiente de produção\n",
        "\n",
        "dados = pd.read_csv('/content/dados_covid_rs.csv', delimiter=';')"
      ],
      "execution_count": 16,
      "outputs": [
        {
          "output_type": "stream",
          "text": [
            "--2020-12-01 16:57:10--  https://ti.saude.rs.gov.br/covid19/download\n",
            "Resolving ti.saude.rs.gov.br (ti.saude.rs.gov.br)... 200.198.173.170\n",
            "Connecting to ti.saude.rs.gov.br (ti.saude.rs.gov.br)|200.198.173.170|:443... connected.\n",
            "HTTP request sent, awaiting response... 200 OK\n",
            "Length: unspecified [text/csv]\n",
            "Saving to: ‘download’\n",
            "\n",
            "download                [    <=>             ]  64.55M  3.45MB/s    in 21s     \n",
            "\n",
            "2020-12-01 16:57:33 (3.04 MB/s) - ‘download’ saved [67688432]\n",
            "\n"
          ],
          "name": "stdout"
        }
      ]
    },
    {
      "cell_type": "markdown",
      "metadata": {
        "id": "F2vMC13XQqMf"
      },
      "source": [
        "####1.2.2 Dando uma olhada se os dados foram carregados corretamente\n",
        "\n",
        "Foram gerados 322.058 registros (linhas) e 29 colunas\n"
      ]
    },
    {
      "cell_type": "code",
      "metadata": {
        "id": "CVwFhjPNQyMK",
        "colab": {
          "base_uri": "https://localhost:8080/",
          "height": 711
        },
        "outputId": "2a2b398c-8394-4125-d689-20aa16ae7cc8"
      },
      "source": [
        "dados"
      ],
      "execution_count": 4,
      "outputs": [
        {
          "output_type": "execute_result",
          "data": {
            "text/html": [
              "<div>\n",
              "<style scoped>\n",
              "    .dataframe tbody tr th:only-of-type {\n",
              "        vertical-align: middle;\n",
              "    }\n",
              "\n",
              "    .dataframe tbody tr th {\n",
              "        vertical-align: top;\n",
              "    }\n",
              "\n",
              "    .dataframe thead th {\n",
              "        text-align: right;\n",
              "    }\n",
              "</style>\n",
              "<table border=\"1\" class=\"dataframe\">\n",
              "  <thead>\n",
              "    <tr style=\"text-align: right;\">\n",
              "      <th></th>\n",
              "      <th>COD_IBGE</th>\n",
              "      <th>MUNICIPIO</th>\n",
              "      <th>COD_REGIAO_COVID</th>\n",
              "      <th>REGIAO_COVID</th>\n",
              "      <th>SEXO</th>\n",
              "      <th>FAIXAETARIA</th>\n",
              "      <th>CRITERIO</th>\n",
              "      <th>DATA_CONFIRMACAO</th>\n",
              "      <th>DATA_SINTOMAS</th>\n",
              "      <th>DATA_EVOLUCAO</th>\n",
              "      <th>EVOLUCAO</th>\n",
              "      <th>HOSPITALIZADO</th>\n",
              "      <th>FEBRE</th>\n",
              "      <th>TOSSE</th>\n",
              "      <th>GARGANTA</th>\n",
              "      <th>DISPNEIA</th>\n",
              "      <th>OUTROS</th>\n",
              "      <th>CONDICOES</th>\n",
              "      <th>GESTANTE</th>\n",
              "      <th>DATA_INCLUSAO_OBITO</th>\n",
              "      <th>DATA_EVOLUCAO_ESTIMADA</th>\n",
              "      <th>RACA_COR</th>\n",
              "      <th>ETNIA_INDIGENA</th>\n",
              "      <th>PROFISSIONAL_SAUDE</th>\n",
              "      <th>BAIRRO</th>\n",
              "      <th>HOSPITALIZACAO_SRAG</th>\n",
              "      <th>FONTE_INFORMACAO</th>\n",
              "      <th>PAIS_NASCIMENTO</th>\n",
              "      <th>PES_PRIV_LIBERDADE</th>\n",
              "    </tr>\n",
              "  </thead>\n",
              "  <tbody>\n",
              "    <tr>\n",
              "      <th>0</th>\n",
              "      <td>430003</td>\n",
              "      <td>ACEGUÁ</td>\n",
              "      <td>16</td>\n",
              "      <td>BAGE - R22</td>\n",
              "      <td>Masculino</td>\n",
              "      <td>20 a 29</td>\n",
              "      <td>RT-PCR</td>\n",
              "      <td>04/11/2020</td>\n",
              "      <td>04/11/2020</td>\n",
              "      <td>NaN</td>\n",
              "      <td>RECUPERADO</td>\n",
              "      <td>NAO</td>\n",
              "      <td>NAO</td>\n",
              "      <td>NAO</td>\n",
              "      <td>NAO</td>\n",
              "      <td>NAO</td>\n",
              "      <td>NAO</td>\n",
              "      <td>NaN</td>\n",
              "      <td>NAO</td>\n",
              "      <td>NaN</td>\n",
              "      <td>18/11/2020</td>\n",
              "      <td>BRANCA</td>\n",
              "      <td>NAO ENCONTRADO</td>\n",
              "      <td>SIM</td>\n",
              "      <td>DOM TIMOTEO</td>\n",
              "      <td>NAO</td>\n",
              "      <td>E-SUS</td>\n",
              "      <td>BRASIL</td>\n",
              "      <td>NAO</td>\n",
              "    </tr>\n",
              "    <tr>\n",
              "      <th>1</th>\n",
              "      <td>430003</td>\n",
              "      <td>ACEGUÁ</td>\n",
              "      <td>16</td>\n",
              "      <td>BAGE - R22</td>\n",
              "      <td>Feminino</td>\n",
              "      <td>60 a 69</td>\n",
              "      <td>RT-PCR</td>\n",
              "      <td>06/11/2020</td>\n",
              "      <td>06/11/2020</td>\n",
              "      <td>NaN</td>\n",
              "      <td>RECUPERADO</td>\n",
              "      <td>NAO</td>\n",
              "      <td>NAO</td>\n",
              "      <td>NAO</td>\n",
              "      <td>NAO</td>\n",
              "      <td>NAO</td>\n",
              "      <td>NAO</td>\n",
              "      <td>Doenças cardíacas crônicas</td>\n",
              "      <td>NAO</td>\n",
              "      <td>NaN</td>\n",
              "      <td>20/11/2020</td>\n",
              "      <td>BRANCA</td>\n",
              "      <td>NAO ENCONTRADO</td>\n",
              "      <td>NAO</td>\n",
              "      <td>ZONA RURAL</td>\n",
              "      <td>NAO</td>\n",
              "      <td>E-SUS</td>\n",
              "      <td>BRASIL</td>\n",
              "      <td>NAO</td>\n",
              "    </tr>\n",
              "    <tr>\n",
              "      <th>2</th>\n",
              "      <td>430003</td>\n",
              "      <td>ACEGUÁ</td>\n",
              "      <td>16</td>\n",
              "      <td>BAGE - R22</td>\n",
              "      <td>Masculino</td>\n",
              "      <td>70 a 79</td>\n",
              "      <td>RT-PCR</td>\n",
              "      <td>06/11/2020</td>\n",
              "      <td>06/11/2020</td>\n",
              "      <td>NaN</td>\n",
              "      <td>RECUPERADO</td>\n",
              "      <td>NAO</td>\n",
              "      <td>NAO</td>\n",
              "      <td>NAO</td>\n",
              "      <td>NAO</td>\n",
              "      <td>NAO</td>\n",
              "      <td>NAO</td>\n",
              "      <td>NaN</td>\n",
              "      <td>NAO</td>\n",
              "      <td>NaN</td>\n",
              "      <td>20/11/2020</td>\n",
              "      <td>BRANCA</td>\n",
              "      <td>NAO ENCONTRADO</td>\n",
              "      <td>NAO</td>\n",
              "      <td>ZONA RURAL</td>\n",
              "      <td>NAO</td>\n",
              "      <td>E-SUS</td>\n",
              "      <td>BRASIL</td>\n",
              "      <td>NAO</td>\n",
              "    </tr>\n",
              "    <tr>\n",
              "      <th>3</th>\n",
              "      <td>430003</td>\n",
              "      <td>ACEGUÁ</td>\n",
              "      <td>16</td>\n",
              "      <td>BAGE - R22</td>\n",
              "      <td>Masculino</td>\n",
              "      <td>40 a 49</td>\n",
              "      <td>RT-PCR</td>\n",
              "      <td>04/11/2020</td>\n",
              "      <td>03/11/2020</td>\n",
              "      <td>NaN</td>\n",
              "      <td>RECUPERADO</td>\n",
              "      <td>NAO</td>\n",
              "      <td>SIM</td>\n",
              "      <td>SIM</td>\n",
              "      <td>NAO</td>\n",
              "      <td>NAO</td>\n",
              "      <td>SIM</td>\n",
              "      <td>NaN</td>\n",
              "      <td>NAO</td>\n",
              "      <td>NaN</td>\n",
              "      <td>17/11/2020</td>\n",
              "      <td>BRANCA</td>\n",
              "      <td>NAO ENCONTRADO</td>\n",
              "      <td>NAO</td>\n",
              "      <td>DOM TIMOTEO</td>\n",
              "      <td>NAO</td>\n",
              "      <td>E-SUS</td>\n",
              "      <td>BRASIL</td>\n",
              "      <td>NAO</td>\n",
              "    </tr>\n",
              "    <tr>\n",
              "      <th>4</th>\n",
              "      <td>430003</td>\n",
              "      <td>ACEGUÁ</td>\n",
              "      <td>16</td>\n",
              "      <td>BAGE - R22</td>\n",
              "      <td>Feminino</td>\n",
              "      <td>15 a 19</td>\n",
              "      <td>RT-PCR</td>\n",
              "      <td>06/11/2020</td>\n",
              "      <td>06/11/2020</td>\n",
              "      <td>NaN</td>\n",
              "      <td>RECUPERADO</td>\n",
              "      <td>NAO</td>\n",
              "      <td>NAO</td>\n",
              "      <td>NAO</td>\n",
              "      <td>NAO</td>\n",
              "      <td>NAO</td>\n",
              "      <td>NAO</td>\n",
              "      <td>NaN</td>\n",
              "      <td>NAO</td>\n",
              "      <td>NaN</td>\n",
              "      <td>20/11/2020</td>\n",
              "      <td>BRANCA</td>\n",
              "      <td>NAO ENCONTRADO</td>\n",
              "      <td>NAO</td>\n",
              "      <td>ZONA RURAL</td>\n",
              "      <td>NAO</td>\n",
              "      <td>E-SUS</td>\n",
              "      <td>BRASIL</td>\n",
              "      <td>NAO</td>\n",
              "    </tr>\n",
              "    <tr>\n",
              "      <th>...</th>\n",
              "      <td>...</td>\n",
              "      <td>...</td>\n",
              "      <td>...</td>\n",
              "      <td>...</td>\n",
              "      <td>...</td>\n",
              "      <td>...</td>\n",
              "      <td>...</td>\n",
              "      <td>...</td>\n",
              "      <td>...</td>\n",
              "      <td>...</td>\n",
              "      <td>...</td>\n",
              "      <td>...</td>\n",
              "      <td>...</td>\n",
              "      <td>...</td>\n",
              "      <td>...</td>\n",
              "      <td>...</td>\n",
              "      <td>...</td>\n",
              "      <td>...</td>\n",
              "      <td>...</td>\n",
              "      <td>...</td>\n",
              "      <td>...</td>\n",
              "      <td>...</td>\n",
              "      <td>...</td>\n",
              "      <td>...</td>\n",
              "      <td>...</td>\n",
              "      <td>...</td>\n",
              "      <td>...</td>\n",
              "      <td>...</td>\n",
              "      <td>...</td>\n",
              "    </tr>\n",
              "    <tr>\n",
              "      <th>322053</th>\n",
              "      <td>432380</td>\n",
              "      <td>XANGRI-LÁ</td>\n",
              "      <td>3</td>\n",
              "      <td>CAPAO DA CANOA - R04 R05</td>\n",
              "      <td>Feminino</td>\n",
              "      <td>80 e mais</td>\n",
              "      <td>TESTE RÁPIDO</td>\n",
              "      <td>16/08/2020</td>\n",
              "      <td>16/08/2020</td>\n",
              "      <td>NaN</td>\n",
              "      <td>RECUPERADO</td>\n",
              "      <td>NAO</td>\n",
              "      <td>NAO</td>\n",
              "      <td>NAO</td>\n",
              "      <td>NAO</td>\n",
              "      <td>NAO</td>\n",
              "      <td>SIM</td>\n",
              "      <td>NaN</td>\n",
              "      <td>NAO</td>\n",
              "      <td>NaN</td>\n",
              "      <td>30/08/2020</td>\n",
              "      <td>BRANCA</td>\n",
              "      <td>NAO ENCONTRADO</td>\n",
              "      <td>NAO</td>\n",
              "      <td>CENTRO</td>\n",
              "      <td>NAO</td>\n",
              "      <td>E-SUS</td>\n",
              "      <td>BRASIL</td>\n",
              "      <td>NAO</td>\n",
              "    </tr>\n",
              "    <tr>\n",
              "      <th>322054</th>\n",
              "      <td>432380</td>\n",
              "      <td>XANGRI-LÁ</td>\n",
              "      <td>3</td>\n",
              "      <td>CAPAO DA CANOA - R04 R05</td>\n",
              "      <td>Masculino</td>\n",
              "      <td>20 a 29</td>\n",
              "      <td>TESTE RÁPIDO</td>\n",
              "      <td>20/08/2020</td>\n",
              "      <td>20/08/2020</td>\n",
              "      <td>NaN</td>\n",
              "      <td>RECUPERADO</td>\n",
              "      <td>NAO</td>\n",
              "      <td>NAO</td>\n",
              "      <td>NAO</td>\n",
              "      <td>NAO</td>\n",
              "      <td>NAO</td>\n",
              "      <td>SIM</td>\n",
              "      <td>NaN</td>\n",
              "      <td>NAO</td>\n",
              "      <td>NaN</td>\n",
              "      <td>03/09/2020</td>\n",
              "      <td>BRANCA</td>\n",
              "      <td>NAO ENCONTRADO</td>\n",
              "      <td>NAO</td>\n",
              "      <td>ATLANTIDA</td>\n",
              "      <td>NAO</td>\n",
              "      <td>E-SUS</td>\n",
              "      <td>BRASIL</td>\n",
              "      <td>NAO</td>\n",
              "    </tr>\n",
              "    <tr>\n",
              "      <th>322055</th>\n",
              "      <td>432380</td>\n",
              "      <td>XANGRI-LÁ</td>\n",
              "      <td>3</td>\n",
              "      <td>CAPAO DA CANOA - R04 R05</td>\n",
              "      <td>Masculino</td>\n",
              "      <td>50 a 59</td>\n",
              "      <td>RT-PCR</td>\n",
              "      <td>07/08/2020</td>\n",
              "      <td>02/08/2020</td>\n",
              "      <td>NaN</td>\n",
              "      <td>RECUPERADO</td>\n",
              "      <td>NAO</td>\n",
              "      <td>SIM</td>\n",
              "      <td>NAO</td>\n",
              "      <td>NAO</td>\n",
              "      <td>NAO</td>\n",
              "      <td>SIM</td>\n",
              "      <td>NaN</td>\n",
              "      <td>NAO</td>\n",
              "      <td>NaN</td>\n",
              "      <td>16/08/2020</td>\n",
              "      <td>PRETA</td>\n",
              "      <td>NAO ENCONTRADO</td>\n",
              "      <td>NAO</td>\n",
              "      <td>RAINHA DO MAR</td>\n",
              "      <td>NAO</td>\n",
              "      <td>E-SUS</td>\n",
              "      <td>BRASIL</td>\n",
              "      <td>NAO</td>\n",
              "    </tr>\n",
              "    <tr>\n",
              "      <th>322056</th>\n",
              "      <td>432380</td>\n",
              "      <td>XANGRI-LÁ</td>\n",
              "      <td>3</td>\n",
              "      <td>CAPAO DA CANOA - R04 R05</td>\n",
              "      <td>Masculino</td>\n",
              "      <td>50 a 59</td>\n",
              "      <td>RT-PCR</td>\n",
              "      <td>10/08/2020</td>\n",
              "      <td>02/08/2020</td>\n",
              "      <td>NaN</td>\n",
              "      <td>RECUPERADO</td>\n",
              "      <td>NAO</td>\n",
              "      <td>SIM</td>\n",
              "      <td>NAO</td>\n",
              "      <td>SIM</td>\n",
              "      <td>NAO</td>\n",
              "      <td>SIM</td>\n",
              "      <td>NaN</td>\n",
              "      <td>NAO</td>\n",
              "      <td>NaN</td>\n",
              "      <td>16/08/2020</td>\n",
              "      <td>BRANCA</td>\n",
              "      <td>NAO ENCONTRADO</td>\n",
              "      <td>NAO</td>\n",
              "      <td>GUARA</td>\n",
              "      <td>NAO</td>\n",
              "      <td>E-SUS</td>\n",
              "      <td>BRASIL</td>\n",
              "      <td>NAO</td>\n",
              "    </tr>\n",
              "    <tr>\n",
              "      <th>322057</th>\n",
              "      <td>432380</td>\n",
              "      <td>XANGRI-LÁ</td>\n",
              "      <td>3</td>\n",
              "      <td>CAPAO DA CANOA - R04 R05</td>\n",
              "      <td>Feminino</td>\n",
              "      <td>20 a 29</td>\n",
              "      <td>RT-PCR</td>\n",
              "      <td>03/08/2020</td>\n",
              "      <td>30/07/2020</td>\n",
              "      <td>NaN</td>\n",
              "      <td>RECUPERADO</td>\n",
              "      <td>NAO</td>\n",
              "      <td>NAO</td>\n",
              "      <td>NAO</td>\n",
              "      <td>SIM</td>\n",
              "      <td>NAO</td>\n",
              "      <td>SIM</td>\n",
              "      <td>NaN</td>\n",
              "      <td>NAO</td>\n",
              "      <td>NaN</td>\n",
              "      <td>13/08/2020</td>\n",
              "      <td>BRANCA</td>\n",
              "      <td>NAO ENCONTRADO</td>\n",
              "      <td>NAO</td>\n",
              "      <td>CENTRO</td>\n",
              "      <td>NAO</td>\n",
              "      <td>E-SUS</td>\n",
              "      <td>BRASIL</td>\n",
              "      <td>NAO</td>\n",
              "    </tr>\n",
              "  </tbody>\n",
              "</table>\n",
              "<p>322058 rows × 29 columns</p>\n",
              "</div>"
            ],
            "text/plain": [
              "        COD_IBGE  MUNICIPIO  ...  PAIS_NASCIMENTO PES_PRIV_LIBERDADE\n",
              "0         430003     ACEGUÁ  ...           BRASIL                NAO\n",
              "1         430003     ACEGUÁ  ...           BRASIL                NAO\n",
              "2         430003     ACEGUÁ  ...           BRASIL                NAO\n",
              "3         430003     ACEGUÁ  ...           BRASIL                NAO\n",
              "4         430003     ACEGUÁ  ...           BRASIL                NAO\n",
              "...          ...        ...  ...              ...                ...\n",
              "322053    432380  XANGRI-LÁ  ...           BRASIL                NAO\n",
              "322054    432380  XANGRI-LÁ  ...           BRASIL                NAO\n",
              "322055    432380  XANGRI-LÁ  ...           BRASIL                NAO\n",
              "322056    432380  XANGRI-LÁ  ...           BRASIL                NAO\n",
              "322057    432380  XANGRI-LÁ  ...           BRASIL                NAO\n",
              "\n",
              "[322058 rows x 29 columns]"
            ]
          },
          "metadata": {
            "tags": []
          },
          "execution_count": 4
        }
      ]
    },
    {
      "cell_type": "markdown",
      "metadata": {
        "id": "YFEtfTzVCtCv"
      },
      "source": [
        "# 2 Preparação dos dados\n",
        "\n",
        "Nessa etapa, foi preciso converter os atributos categóricos para numéricos, ajustando o conteúdo dos atributos às restrições dos modelos utilizados no processo de Aprendizado de Máquina."
      ]
    },
    {
      "cell_type": "markdown",
      "metadata": {
        "id": "E6g7YmIRFPTW"
      },
      "source": [
        "### 2.1 Tratando dados faltantes ou não-numéricos\n",
        "Algumas colunas possuem \"NaN\" (Not a Number) ou \"NaT\" (Not a Time), indicando que são valores faltantes. Além disso, há colunas com tipos variados de registros, que não podem ser binarizados. \n",
        "\n",
        "*Ressalta-se que esta etapa considerou apenas dados potenciais utilizados no experimento.*\n",
        "\n"
      ]
    },
    {
      "cell_type": "markdown",
      "metadata": {
        "id": "zhI_oNGdL6RY"
      },
      "source": [
        "####2.1.1 Tratando colunas `FEBRE, TOSSE, GARGANTA, DISPNEIA e OUTROS`\n",
        "\n",
        "As colunas `FEBRE, TOSSE, GARGANTA, DISPNEIA` foram consideradas pois podem ser considerados sintomas comuns da COVID-19. Sendo que a coluna `OUTROS` pode significar sintomas adicionais identificados durante a traigem do paciente. "
      ]
    },
    {
      "cell_type": "code",
      "metadata": {
        "id": "j-uk96MPKBKX",
        "colab": {
          "base_uri": "https://localhost:8080/",
          "height": 452
        },
        "outputId": "a32e3c70-356e-4369-d745-0738f033c66e"
      },
      "source": [
        "rows = []\n",
        "for column in dados.columns:\n",
        "  row = {'coluna': column, 'nans': dados[column].isnull().sum(), 'frac_nans': dados[column].isnull().sum() / dados.shape[0]}\n",
        "  rows.append(row)\n",
        "res = pd.DataFrame(rows)\n",
        "res[res.nans>0].sort_values('nans', ascending=False)"
      ],
      "execution_count": 34,
      "outputs": [
        {
          "output_type": "execute_result",
          "data": {
            "text/html": [
              "<div>\n",
              "<style scoped>\n",
              "    .dataframe tbody tr th:only-of-type {\n",
              "        vertical-align: middle;\n",
              "    }\n",
              "\n",
              "    .dataframe tbody tr th {\n",
              "        vertical-align: top;\n",
              "    }\n",
              "\n",
              "    .dataframe thead th {\n",
              "        text-align: right;\n",
              "    }\n",
              "</style>\n",
              "<table border=\"1\" class=\"dataframe\">\n",
              "  <thead>\n",
              "    <tr style=\"text-align: right;\">\n",
              "      <th></th>\n",
              "      <th>coluna</th>\n",
              "      <th>nans</th>\n",
              "      <th>frac_nans</th>\n",
              "    </tr>\n",
              "  </thead>\n",
              "  <tbody>\n",
              "    <tr>\n",
              "      <th>19</th>\n",
              "      <td>DATA_INCLUSAO_OBITO</td>\n",
              "      <td>315244</td>\n",
              "      <td>0.978845</td>\n",
              "    </tr>\n",
              "    <tr>\n",
              "      <th>9</th>\n",
              "      <td>DATA_EVOLUCAO</td>\n",
              "      <td>300181</td>\n",
              "      <td>0.932074</td>\n",
              "    </tr>\n",
              "    <tr>\n",
              "      <th>17</th>\n",
              "      <td>CONDICOES</td>\n",
              "      <td>273475</td>\n",
              "      <td>0.849151</td>\n",
              "    </tr>\n",
              "    <tr>\n",
              "      <th>20</th>\n",
              "      <td>DATA_EVOLUCAO_ESTIMADA</td>\n",
              "      <td>36031</td>\n",
              "      <td>0.111878</td>\n",
              "    </tr>\n",
              "    <tr>\n",
              "      <th>27</th>\n",
              "      <td>PAIS_NASCIMENTO</td>\n",
              "      <td>11886</td>\n",
              "      <td>0.036907</td>\n",
              "    </tr>\n",
              "    <tr>\n",
              "      <th>22</th>\n",
              "      <td>ETNIA_INDIGENA</td>\n",
              "      <td>11532</td>\n",
              "      <td>0.035807</td>\n",
              "    </tr>\n",
              "    <tr>\n",
              "      <th>15</th>\n",
              "      <td>DISPNEIA</td>\n",
              "      <td>3755</td>\n",
              "      <td>0.011659</td>\n",
              "    </tr>\n",
              "    <tr>\n",
              "      <th>24</th>\n",
              "      <td>BAIRRO</td>\n",
              "      <td>2684</td>\n",
              "      <td>0.008334</td>\n",
              "    </tr>\n",
              "    <tr>\n",
              "      <th>12</th>\n",
              "      <td>FEBRE</td>\n",
              "      <td>20</td>\n",
              "      <td>0.000062</td>\n",
              "    </tr>\n",
              "    <tr>\n",
              "      <th>13</th>\n",
              "      <td>TOSSE</td>\n",
              "      <td>20</td>\n",
              "      <td>0.000062</td>\n",
              "    </tr>\n",
              "    <tr>\n",
              "      <th>14</th>\n",
              "      <td>GARGANTA</td>\n",
              "      <td>20</td>\n",
              "      <td>0.000062</td>\n",
              "    </tr>\n",
              "    <tr>\n",
              "      <th>16</th>\n",
              "      <td>OUTROS</td>\n",
              "      <td>20</td>\n",
              "      <td>0.000062</td>\n",
              "    </tr>\n",
              "    <tr>\n",
              "      <th>26</th>\n",
              "      <td>FONTE_INFORMACAO</td>\n",
              "      <td>14</td>\n",
              "      <td>0.000043</td>\n",
              "    </tr>\n",
              "  </tbody>\n",
              "</table>\n",
              "</div>"
            ],
            "text/plain": [
              "                    coluna    nans  frac_nans\n",
              "19     DATA_INCLUSAO_OBITO  315244   0.978845\n",
              "9            DATA_EVOLUCAO  300181   0.932074\n",
              "17               CONDICOES  273475   0.849151\n",
              "20  DATA_EVOLUCAO_ESTIMADA   36031   0.111878\n",
              "27         PAIS_NASCIMENTO   11886   0.036907\n",
              "22          ETNIA_INDIGENA   11532   0.035807\n",
              "15                DISPNEIA    3755   0.011659\n",
              "24                  BAIRRO    2684   0.008334\n",
              "12                   FEBRE      20   0.000062\n",
              "13                   TOSSE      20   0.000062\n",
              "14                GARGANTA      20   0.000062\n",
              "16                  OUTROS      20   0.000062\n",
              "26        FONTE_INFORMACAO      14   0.000043"
            ]
          },
          "metadata": {
            "tags": []
          },
          "execution_count": 34
        }
      ]
    },
    {
      "cell_type": "markdown",
      "metadata": {
        "id": "-f6stWAXbtiV"
      },
      "source": [
        "**Observação importante**: Em relação a coluna `CONDICOES`, que potencialmente poderia ser utilizada para melhorar o desempenho do modelo, uma vez que pode indicar pacientes pertencentes a algum grupo de risco, inicialmente, não foi considerado, pois o percentual de regitros faltantes dessa coluna é na ordem de 84%. Isso pode resultar na inserção de dados ruídosos e provocar o desbalanceamento nos modelos caso estes estes forem considerados."
      ]
    },
    {
      "cell_type": "markdown",
      "metadata": {
        "id": "awao2FmWLhra"
      },
      "source": [
        "a) Tratando a coluna `DISPNEIA`, com cerca de 1% dos valores faltantes, preenchendo com valores aleatórios, mas que seguem a distribuição dos dados."
      ]
    },
    {
      "cell_type": "code",
      "metadata": {
        "id": "z-SvumWbLSMZ",
        "colab": {
          "base_uri": "https://localhost:8080/"
        },
        "outputId": "e8dc4ae5-a806-44ce-eced-a38fafaf722a"
      },
      "source": [
        "dist = dados[\"DISPNEIA\"].value_counts(normalize=True)\n",
        "faltantes = dados['DISPNEIA'].isnull()\n",
        "dados.loc[faltantes,'DISPNEIA'] = np.random.choice(dist.index, size=len(dados[faltantes]), p=dist.values)\n",
        "\n",
        "# Testando para ver se não há mais valores faltantes\n",
        "dados[\"DISPNEIA\"].isnull().any()"
      ],
      "execution_count": 35,
      "outputs": [
        {
          "output_type": "execute_result",
          "data": {
            "text/plain": [
              "False"
            ]
          },
          "metadata": {
            "tags": []
          },
          "execution_count": 35
        }
      ]
    },
    {
      "cell_type": "markdown",
      "metadata": {
        "id": "p7VOGUT0QLac"
      },
      "source": [
        "b) Tratando a coluna `FEBRE`, preenchendo os dados faltantes com valores aleatórios."
      ]
    },
    {
      "cell_type": "code",
      "metadata": {
        "id": "Bjzo3b8CV_hb",
        "colab": {
          "base_uri": "https://localhost:8080/"
        },
        "outputId": "cc50fe22-c9c1-42b8-e04a-0f0015b25a77"
      },
      "source": [
        "dist = dados[\"FEBRE\"].value_counts(normalize=True)\n",
        "faltantes = dados['FEBRE'].isnull()\n",
        "dados.loc[faltantes,'FEBRE'] = np.random.choice(dist.index, size=len(dados[faltantes]), p=dist.values)\n",
        "\n",
        "# Testando para ver se não há mais valores faltantes\n",
        "dados[\"FEBRE\"].isnull().any()"
      ],
      "execution_count": 36,
      "outputs": [
        {
          "output_type": "execute_result",
          "data": {
            "text/plain": [
              "False"
            ]
          },
          "metadata": {
            "tags": []
          },
          "execution_count": 36
        }
      ]
    },
    {
      "cell_type": "markdown",
      "metadata": {
        "id": "q_vmuGtNQ3iX"
      },
      "source": [
        "c) Tratando a coluna `TOSSE`, preenchendo os dados faltantes com valores aleatórios."
      ]
    },
    {
      "cell_type": "code",
      "metadata": {
        "id": "SjveUT6jWFVL",
        "colab": {
          "base_uri": "https://localhost:8080/"
        },
        "outputId": "0ba41908-28c1-408d-d15f-5c096dc9d70c"
      },
      "source": [
        "dist = dados[\"TOSSE\"].value_counts(normalize=True)\n",
        "faltantes = dados['TOSSE'].isnull()\n",
        "dados.loc[faltantes,'TOSSE'] = np.random.choice(dist.index, size=len(dados[faltantes]), p=dist.values)\n",
        "\n",
        "# Testando para ver se não há mais valores faltantes\n",
        "dados[\"TOSSE\"].isnull().any()"
      ],
      "execution_count": 37,
      "outputs": [
        {
          "output_type": "execute_result",
          "data": {
            "text/plain": [
              "False"
            ]
          },
          "metadata": {
            "tags": []
          },
          "execution_count": 37
        }
      ]
    },
    {
      "cell_type": "markdown",
      "metadata": {
        "id": "1xMJMjBTQ7uA"
      },
      "source": [
        "d) Tratando a coluna `GARGANTA`, preenchendo os dados faltantes com valores aleatórios"
      ]
    },
    {
      "cell_type": "code",
      "metadata": {
        "id": "JsAcctG8WV00",
        "colab": {
          "base_uri": "https://localhost:8080/"
        },
        "outputId": "5ea266f1-7591-49c7-b7c1-2a77b773ff17"
      },
      "source": [
        "dist = dados[\"GARGANTA\"].value_counts(normalize=True)\n",
        "faltantes = dados['GARGANTA'].isnull()\n",
        "dados.loc[faltantes,'GARGANTA'] = np.random.choice(dist.index, size=len(dados[faltantes]), p=dist.values)\n",
        "\n",
        "# Testando para ver se não há mais valores faltantes\n",
        "dados[\"GARGANTA\"].isnull().any()"
      ],
      "execution_count": 38,
      "outputs": [
        {
          "output_type": "execute_result",
          "data": {
            "text/plain": [
              "False"
            ]
          },
          "metadata": {
            "tags": []
          },
          "execution_count": 38
        }
      ]
    },
    {
      "cell_type": "markdown",
      "metadata": {
        "id": "3toyGr0Xujdv"
      },
      "source": [
        "e) Tratando a coluna `OUTROS`, preenchendo os dados faltantes com valores aleatórios"
      ]
    },
    {
      "cell_type": "code",
      "metadata": {
        "id": "AHpT5JzHuqd_",
        "colab": {
          "base_uri": "https://localhost:8080/"
        },
        "outputId": "12495d92-a21c-47e7-a1cd-d0fb175d34e6"
      },
      "source": [
        "dist = dados[\"OUTROS\"].value_counts(normalize=True)\n",
        "faltantes = dados['OUTROS'].isnull()\n",
        "dados.loc[faltantes,'OUTROS'] = np.random.choice(dist.index, size=len(dados[faltantes]), p=dist.values)\n",
        "\n",
        "# Testando para ver se não há mais valores faltantes\n",
        "dados[\"OUTROS\"].isnull().any()"
      ],
      "execution_count": 39,
      "outputs": [
        {
          "output_type": "execute_result",
          "data": {
            "text/plain": [
              "False"
            ]
          },
          "metadata": {
            "tags": []
          },
          "execution_count": 39
        }
      ]
    },
    {
      "cell_type": "markdown",
      "metadata": {
        "id": "-0KP1KHyKj28"
      },
      "source": [
        "####2.1.2 Tratando coluna `PROFISSIONAL_SAUDE`, com registros SIM, NAO e NAO INFORMADO "
      ]
    },
    {
      "cell_type": "markdown",
      "metadata": {
        "id": "X-m-iNrKc_ia"
      },
      "source": [
        "Optou-se por esta coluna, considerando que os `Profissionais da Saúde` são indivíduos que circulam em espaços onde é realizado o atendimento de pacientes infectados, com isso, podem ter maior chances de serem infectados."
      ]
    },
    {
      "cell_type": "code",
      "metadata": {
        "id": "LX_BVYYHKi-W",
        "colab": {
          "base_uri": "https://localhost:8080/"
        },
        "outputId": "5bf38bd7-74c0-4e84-83e1-89d181081608"
      },
      "source": [
        "dados['PROFISSIONAL_SAUDE']"
      ],
      "execution_count": 40,
      "outputs": [
        {
          "output_type": "execute_result",
          "data": {
            "text/plain": [
              "0         NAO\n",
              "1         NAO\n",
              "2         NAO\n",
              "3         NAO\n",
              "4         NAO\n",
              "         ... \n",
              "322052    NAO\n",
              "322053    NAO\n",
              "322054    NAO\n",
              "322055    NAO\n",
              "322056    NAO\n",
              "Name: PROFISSIONAL_SAUDE, Length: 322057, dtype: object"
            ]
          },
          "metadata": {
            "tags": []
          },
          "execution_count": 40
        }
      ]
    },
    {
      "cell_type": "markdown",
      "metadata": {
        "id": "j8n39caJY50W"
      },
      "source": [
        "Transformando dados categóricos para dados binários. Para todo campo igual a `SIM`, é atribuído 1, caso contrário, passa a valer 0. \n",
        "\n",
        "O mesmo foi realizado com a coluna `PES_PRIV_LIBERDADE`, por considerar este campo de indivídos 'presos privados de liberdade' pertencem a um grupo com potencial risco de contaminação."
      ]
    },
    {
      "cell_type": "code",
      "metadata": {
        "id": "RWS1f3x7Wjgq",
        "colab": {
          "base_uri": "https://localhost:8080/"
        },
        "outputId": "a8e769f9-2541-4167-817f-275658dff26a"
      },
      "source": [
        "dados[\"PROFISSIONAL_SAUDE\"] = dados[\"PROFISSIONAL_SAUDE\"].apply(lambda x: '1' if x=='SIM' else '0')\n",
        "\n",
        "# Testando para ver se não há mais valores faltantes\n",
        "dados[\"PROFISSIONAL_SAUDE\"].isnull().any()"
      ],
      "execution_count": 41,
      "outputs": [
        {
          "output_type": "execute_result",
          "data": {
            "text/plain": [
              "False"
            ]
          },
          "metadata": {
            "tags": []
          },
          "execution_count": 41
        }
      ]
    },
    {
      "cell_type": "code",
      "metadata": {
        "id": "G0atTWSALLJG",
        "colab": {
          "base_uri": "https://localhost:8080/"
        },
        "outputId": "099a98ca-fb8d-4404-bb52-d6f2d53eba6f"
      },
      "source": [
        "dados[\"PES_PRIV_LIBERDADE\"] = dados[\"PES_PRIV_LIBERDADE\"].apply(lambda x: '1' if x=='SIM' else '0')\n",
        "\n",
        "# Testando para ver se não há mais valores faltantes\n",
        "dados[\"PES_PRIV_LIBERDADE\"].isnull().any()"
      ],
      "execution_count": 42,
      "outputs": [
        {
          "output_type": "execute_result",
          "data": {
            "text/plain": [
              "False"
            ]
          },
          "metadata": {
            "tags": []
          },
          "execution_count": 42
        }
      ]
    },
    {
      "cell_type": "markdown",
      "metadata": {
        "id": "GZq3DSDent6T"
      },
      "source": [
        "Até aqui, não houveram transformações significativas nos dados originais, apenas foram tratados dados faltantes (que foram binarizados), e não foram criadas novas colunas."
      ]
    },
    {
      "cell_type": "markdown",
      "metadata": {
        "id": "_zYaMF1YSVnn"
      },
      "source": [
        "####2.1.3. Tratando coluna `FAIXA_ETARIA`\n",
        "\n",
        "Com a inclusão dos dados da coluna `FAIXA_ETARIA`, é preciso aplicar uma engenharia de atributos, uma vez que os dados precisam ser corretamente ajustados para que os modelos possam utilizar os dados. Para isso, o utilitário LabelBinalizer foi utilizado, e na sequência, foi gerada uma coluna para cada `FAIXA_ETARIA` contida no conjunto de dados, contabilizando 12 categorias de `FAIXA_ETARIA`"
      ]
    },
    {
      "cell_type": "code",
      "metadata": {
        "id": "Epytgy2gStuB"
      },
      "source": [
        "codFe = LabelBinarizer()\n",
        "codFe.fit(dados['FAIXAETARIA'])\n",
        "atributo_transformado = codFe.transform(dados['FAIXAETARIA'])\n",
        "\n",
        "onehot = pd.DataFrame(atributo_transformado)\n",
        "onehot.columns = codFe.classes_\n",
        "dados = pd.concat([dados, onehot], axis=1).drop(['FAIXAETARIA'], axis=1)"
      ],
      "execution_count": 43,
      "outputs": []
    },
    {
      "cell_type": "code",
      "metadata": {
        "colab": {
          "base_uri": "https://localhost:8080/",
          "height": 343
        },
        "id": "ZOV4CGhWTsAz",
        "outputId": "0f3dda77-1062-41d9-a57b-7908da8d4cd5"
      },
      "source": [
        "#dando mais uma olhada nos dados\n",
        "dados.head()"
      ],
      "execution_count": 44,
      "outputs": [
        {
          "output_type": "execute_result",
          "data": {
            "text/html": [
              "<div>\n",
              "<style scoped>\n",
              "    .dataframe tbody tr th:only-of-type {\n",
              "        vertical-align: middle;\n",
              "    }\n",
              "\n",
              "    .dataframe tbody tr th {\n",
              "        vertical-align: top;\n",
              "    }\n",
              "\n",
              "    .dataframe thead th {\n",
              "        text-align: right;\n",
              "    }\n",
              "</style>\n",
              "<table border=\"1\" class=\"dataframe\">\n",
              "  <thead>\n",
              "    <tr style=\"text-align: right;\">\n",
              "      <th></th>\n",
              "      <th>COD_IBGE</th>\n",
              "      <th>MUNICIPIO</th>\n",
              "      <th>COD_REGIAO_COVID</th>\n",
              "      <th>REGIAO_COVID</th>\n",
              "      <th>SEXO</th>\n",
              "      <th>CRITERIO</th>\n",
              "      <th>DATA_CONFIRMACAO</th>\n",
              "      <th>DATA_SINTOMAS</th>\n",
              "      <th>DATA_EVOLUCAO</th>\n",
              "      <th>EVOLUCAO</th>\n",
              "      <th>HOSPITALIZADO</th>\n",
              "      <th>FEBRE</th>\n",
              "      <th>TOSSE</th>\n",
              "      <th>GARGANTA</th>\n",
              "      <th>DISPNEIA</th>\n",
              "      <th>OUTROS</th>\n",
              "      <th>CONDICOES</th>\n",
              "      <th>GESTANTE</th>\n",
              "      <th>DATA_INCLUSAO_OBITO</th>\n",
              "      <th>DATA_EVOLUCAO_ESTIMADA</th>\n",
              "      <th>RACA_COR</th>\n",
              "      <th>ETNIA_INDIGENA</th>\n",
              "      <th>PROFISSIONAL_SAUDE</th>\n",
              "      <th>BAIRRO</th>\n",
              "      <th>HOSPITALIZACAO_SRAG</th>\n",
              "      <th>FONTE_INFORMACAO</th>\n",
              "      <th>PAIS_NASCIMENTO</th>\n",
              "      <th>PES_PRIV_LIBERDADE</th>\n",
              "      <th>01 a 04</th>\n",
              "      <th>05 a 09</th>\n",
              "      <th>10 a 14</th>\n",
              "      <th>15 a 19</th>\n",
              "      <th>20 a 29</th>\n",
              "      <th>30 a 39</th>\n",
              "      <th>40 a 49</th>\n",
              "      <th>50 a 59</th>\n",
              "      <th>60 a 69</th>\n",
              "      <th>70 a 79</th>\n",
              "      <th>80 e mais</th>\n",
              "      <th>&lt;1</th>\n",
              "    </tr>\n",
              "  </thead>\n",
              "  <tbody>\n",
              "    <tr>\n",
              "      <th>0</th>\n",
              "      <td>430003</td>\n",
              "      <td>ACEGUÁ</td>\n",
              "      <td>16</td>\n",
              "      <td>BAGE - R22</td>\n",
              "      <td>Feminino</td>\n",
              "      <td>RT-PCR</td>\n",
              "      <td>09/11/2020</td>\n",
              "      <td>06/11/2020</td>\n",
              "      <td>NaN</td>\n",
              "      <td>RECUPERADO</td>\n",
              "      <td>NAO</td>\n",
              "      <td>NAO</td>\n",
              "      <td>SIM</td>\n",
              "      <td>NAO</td>\n",
              "      <td>NAO</td>\n",
              "      <td>NAO</td>\n",
              "      <td>NaN</td>\n",
              "      <td>NAO</td>\n",
              "      <td>NaN</td>\n",
              "      <td>20/11/2020</td>\n",
              "      <td>BRANCA</td>\n",
              "      <td>NAO ENCONTRADO</td>\n",
              "      <td>0</td>\n",
              "      <td>ZONA RURAL</td>\n",
              "      <td>NAO</td>\n",
              "      <td>E-SUS</td>\n",
              "      <td>BRASIL</td>\n",
              "      <td>0</td>\n",
              "      <td>0</td>\n",
              "      <td>0</td>\n",
              "      <td>0</td>\n",
              "      <td>0</td>\n",
              "      <td>1</td>\n",
              "      <td>0</td>\n",
              "      <td>0</td>\n",
              "      <td>0</td>\n",
              "      <td>0</td>\n",
              "      <td>0</td>\n",
              "      <td>0</td>\n",
              "      <td>0</td>\n",
              "    </tr>\n",
              "    <tr>\n",
              "      <th>1</th>\n",
              "      <td>430003</td>\n",
              "      <td>ACEGUÁ</td>\n",
              "      <td>16</td>\n",
              "      <td>BAGE - R22</td>\n",
              "      <td>Masculino</td>\n",
              "      <td>RT-PCR</td>\n",
              "      <td>09/11/2020</td>\n",
              "      <td>06/11/2020</td>\n",
              "      <td>NaN</td>\n",
              "      <td>RECUPERADO</td>\n",
              "      <td>NAO</td>\n",
              "      <td>NAO</td>\n",
              "      <td>SIM</td>\n",
              "      <td>NAO</td>\n",
              "      <td>NAO</td>\n",
              "      <td>NAO</td>\n",
              "      <td>NaN</td>\n",
              "      <td>NAO</td>\n",
              "      <td>NaN</td>\n",
              "      <td>20/11/2020</td>\n",
              "      <td>BRANCA</td>\n",
              "      <td>NAO ENCONTRADO</td>\n",
              "      <td>0</td>\n",
              "      <td>ZONA RURAL</td>\n",
              "      <td>NAO</td>\n",
              "      <td>E-SUS</td>\n",
              "      <td>BRASIL</td>\n",
              "      <td>0</td>\n",
              "      <td>0</td>\n",
              "      <td>0</td>\n",
              "      <td>0</td>\n",
              "      <td>0</td>\n",
              "      <td>1</td>\n",
              "      <td>0</td>\n",
              "      <td>0</td>\n",
              "      <td>0</td>\n",
              "      <td>0</td>\n",
              "      <td>0</td>\n",
              "      <td>0</td>\n",
              "      <td>0</td>\n",
              "    </tr>\n",
              "    <tr>\n",
              "      <th>2</th>\n",
              "      <td>430003</td>\n",
              "      <td>ACEGUÁ</td>\n",
              "      <td>16</td>\n",
              "      <td>BAGE - R22</td>\n",
              "      <td>Feminino</td>\n",
              "      <td>RT-PCR</td>\n",
              "      <td>05/10/2020</td>\n",
              "      <td>29/09/2020</td>\n",
              "      <td>NaN</td>\n",
              "      <td>RECUPERADO</td>\n",
              "      <td>NAO</td>\n",
              "      <td>NAO</td>\n",
              "      <td>NAO</td>\n",
              "      <td>NAO</td>\n",
              "      <td>NAO</td>\n",
              "      <td>NAO</td>\n",
              "      <td>NaN</td>\n",
              "      <td>NAO</td>\n",
              "      <td>NaN</td>\n",
              "      <td>13/10/2020</td>\n",
              "      <td>BRANCA</td>\n",
              "      <td>NAO ENCONTRADO</td>\n",
              "      <td>0</td>\n",
              "      <td>ZONA RURAL</td>\n",
              "      <td>NAO</td>\n",
              "      <td>E-SUS</td>\n",
              "      <td>BRASIL</td>\n",
              "      <td>0</td>\n",
              "      <td>0</td>\n",
              "      <td>0</td>\n",
              "      <td>0</td>\n",
              "      <td>0</td>\n",
              "      <td>0</td>\n",
              "      <td>0</td>\n",
              "      <td>1</td>\n",
              "      <td>0</td>\n",
              "      <td>0</td>\n",
              "      <td>0</td>\n",
              "      <td>0</td>\n",
              "      <td>0</td>\n",
              "    </tr>\n",
              "    <tr>\n",
              "      <th>3</th>\n",
              "      <td>430003</td>\n",
              "      <td>ACEGUÁ</td>\n",
              "      <td>16</td>\n",
              "      <td>BAGE - R22</td>\n",
              "      <td>Masculino</td>\n",
              "      <td>RT-PCR</td>\n",
              "      <td>06/10/2020</td>\n",
              "      <td>06/10/2020</td>\n",
              "      <td>NaN</td>\n",
              "      <td>RECUPERADO</td>\n",
              "      <td>NAO</td>\n",
              "      <td>NAO</td>\n",
              "      <td>NAO</td>\n",
              "      <td>NAO</td>\n",
              "      <td>NAO</td>\n",
              "      <td>NAO</td>\n",
              "      <td>NaN</td>\n",
              "      <td>NAO</td>\n",
              "      <td>NaN</td>\n",
              "      <td>20/10/2020</td>\n",
              "      <td>BRANCA</td>\n",
              "      <td>NAO ENCONTRADO</td>\n",
              "      <td>0</td>\n",
              "      <td>ZONA RURAL</td>\n",
              "      <td>NAO</td>\n",
              "      <td>E-SUS</td>\n",
              "      <td>BRASIL</td>\n",
              "      <td>0</td>\n",
              "      <td>0</td>\n",
              "      <td>0</td>\n",
              "      <td>0</td>\n",
              "      <td>1</td>\n",
              "      <td>0</td>\n",
              "      <td>0</td>\n",
              "      <td>0</td>\n",
              "      <td>0</td>\n",
              "      <td>0</td>\n",
              "      <td>0</td>\n",
              "      <td>0</td>\n",
              "      <td>0</td>\n",
              "    </tr>\n",
              "    <tr>\n",
              "      <th>4</th>\n",
              "      <td>430003</td>\n",
              "      <td>ACEGUÁ</td>\n",
              "      <td>16</td>\n",
              "      <td>BAGE - R22</td>\n",
              "      <td>Feminino</td>\n",
              "      <td>RT-PCR</td>\n",
              "      <td>11/09/2020</td>\n",
              "      <td>08/09/2020</td>\n",
              "      <td>NaN</td>\n",
              "      <td>RECUPERADO</td>\n",
              "      <td>NAO</td>\n",
              "      <td>SIM</td>\n",
              "      <td>NAO</td>\n",
              "      <td>SIM</td>\n",
              "      <td>NAO</td>\n",
              "      <td>NAO</td>\n",
              "      <td>Gestante</td>\n",
              "      <td>SIM</td>\n",
              "      <td>NaN</td>\n",
              "      <td>22/09/2020</td>\n",
              "      <td>BRANCA</td>\n",
              "      <td>NAO ENCONTRADO</td>\n",
              "      <td>0</td>\n",
              "      <td>DOM TIMOTEO</td>\n",
              "      <td>NAO</td>\n",
              "      <td>E-SUS</td>\n",
              "      <td>BRASIL</td>\n",
              "      <td>0</td>\n",
              "      <td>0</td>\n",
              "      <td>0</td>\n",
              "      <td>0</td>\n",
              "      <td>0</td>\n",
              "      <td>1</td>\n",
              "      <td>0</td>\n",
              "      <td>0</td>\n",
              "      <td>0</td>\n",
              "      <td>0</td>\n",
              "      <td>0</td>\n",
              "      <td>0</td>\n",
              "      <td>0</td>\n",
              "    </tr>\n",
              "  </tbody>\n",
              "</table>\n",
              "</div>"
            ],
            "text/plain": [
              "   COD_IBGE MUNICIPIO  COD_REGIAO_COVID  ... 70 a 79 80 e mais <1\n",
              "0    430003    ACEGUÁ                16  ...       0         0  0\n",
              "1    430003    ACEGUÁ                16  ...       0         0  0\n",
              "2    430003    ACEGUÁ                16  ...       0         0  0\n",
              "3    430003    ACEGUÁ                16  ...       0         0  0\n",
              "4    430003    ACEGUÁ                16  ...       0         0  0\n",
              "\n",
              "[5 rows x 40 columns]"
            ]
          },
          "metadata": {
            "tags": []
          },
          "execution_count": 44
        }
      ]
    },
    {
      "cell_type": "markdown",
      "metadata": {
        "id": "1UtnC3XUXGQa"
      },
      "source": [
        "##2.2 Tranformando valores de String para Valores numéricos\n",
        "\n",
        "Abaixo são tratados as colunas que ainda não foram binarizadas, para formar o conjunto de dados de dados utilizados pelos modelos nesse experimento."
      ]
    },
    {
      "cell_type": "code",
      "metadata": {
        "id": "tuzxxgpGINVk",
        "colab": {
          "base_uri": "https://localhost:8080/",
          "height": 470
        },
        "outputId": "88088469-b3fd-4f03-e043-5bf8ef0e417f"
      },
      "source": [
        "#Problemas de ML trabalham melhor com dados numéricos\n",
        "\n",
        "dados[\"SEXO\"]= dados[\"SEXO\"].apply(lambda x: '1' if x=='Masculino' else '0')\n",
        "dados[\"GESTANTE\"]= dados[\"GESTANTE\"].apply(lambda x: '1' if x=='SIM' else '0')\n",
        "dados[\"FEBRE\"]= dados[\"FEBRE\"].apply(lambda x: '1' if x=='SIM' else '0')\n",
        "dados[\"GARGANTA\"]= dados[\"GARGANTA\"].apply(lambda x: '1' if x=='SIM' else '0')\n",
        "dados[\"TOSSE\"]= dados[\"TOSSE\"].apply(lambda x: '1' if x=='SIM' else '0')\n",
        "dados[\"DISPNEIA\"]= dados[\"DISPNEIA\"].apply(lambda x: '1' if x=='SIM' else '0')\n",
        "dados[\"OUTROS\"] = dados[\"OUTROS\"].apply(lambda x: '1' if x=='SIM' else '0')\n",
        "dados[\"HOSPITALIZADO\"]= dados[\"HOSPITALIZADO\"].apply(lambda x: '1' if x=='SIM' else '0')\n",
        "\n",
        "#Fitro com dados definidos como importantes para o modelo\n",
        "dados = dados[['SEXO', 'GESTANTE', 'FEBRE', 'TOSSE', 'GARGANTA', 'DISPNEIA', \n",
        "               '01 a 04',\t'05 a 09',\t'10 a 14',\t'15 a 19',\t'20 a 29',\t'30 a 39', '40 a 49',\t'50 a 59',\t'60 a 69',\t'70 a 79',\t'80 e mais',\t'<1',\n",
        "               'OUTROS','PROFISSIONAL_SAUDE', 'PES_PRIV_LIBERDADE', 'HOSPITALIZADO']].reset_index(drop=True)\n",
        "\n",
        "print (\"Valores ajustados e atributos considerados selecionados!\\n\")\n",
        "dados"
      ],
      "execution_count": 45,
      "outputs": [
        {
          "output_type": "stream",
          "text": [
            "Valores ajustados e atributos considerados selecionados!\n",
            "\n"
          ],
          "name": "stdout"
        },
        {
          "output_type": "execute_result",
          "data": {
            "text/html": [
              "<div>\n",
              "<style scoped>\n",
              "    .dataframe tbody tr th:only-of-type {\n",
              "        vertical-align: middle;\n",
              "    }\n",
              "\n",
              "    .dataframe tbody tr th {\n",
              "        vertical-align: top;\n",
              "    }\n",
              "\n",
              "    .dataframe thead th {\n",
              "        text-align: right;\n",
              "    }\n",
              "</style>\n",
              "<table border=\"1\" class=\"dataframe\">\n",
              "  <thead>\n",
              "    <tr style=\"text-align: right;\">\n",
              "      <th></th>\n",
              "      <th>SEXO</th>\n",
              "      <th>GESTANTE</th>\n",
              "      <th>FEBRE</th>\n",
              "      <th>TOSSE</th>\n",
              "      <th>GARGANTA</th>\n",
              "      <th>DISPNEIA</th>\n",
              "      <th>01 a 04</th>\n",
              "      <th>05 a 09</th>\n",
              "      <th>10 a 14</th>\n",
              "      <th>15 a 19</th>\n",
              "      <th>20 a 29</th>\n",
              "      <th>30 a 39</th>\n",
              "      <th>40 a 49</th>\n",
              "      <th>50 a 59</th>\n",
              "      <th>60 a 69</th>\n",
              "      <th>70 a 79</th>\n",
              "      <th>80 e mais</th>\n",
              "      <th>&lt;1</th>\n",
              "      <th>OUTROS</th>\n",
              "      <th>PROFISSIONAL_SAUDE</th>\n",
              "      <th>PES_PRIV_LIBERDADE</th>\n",
              "      <th>HOSPITALIZADO</th>\n",
              "    </tr>\n",
              "  </thead>\n",
              "  <tbody>\n",
              "    <tr>\n",
              "      <th>0</th>\n",
              "      <td>0</td>\n",
              "      <td>0</td>\n",
              "      <td>0</td>\n",
              "      <td>1</td>\n",
              "      <td>0</td>\n",
              "      <td>0</td>\n",
              "      <td>0</td>\n",
              "      <td>0</td>\n",
              "      <td>0</td>\n",
              "      <td>0</td>\n",
              "      <td>1</td>\n",
              "      <td>0</td>\n",
              "      <td>0</td>\n",
              "      <td>0</td>\n",
              "      <td>0</td>\n",
              "      <td>0</td>\n",
              "      <td>0</td>\n",
              "      <td>0</td>\n",
              "      <td>0</td>\n",
              "      <td>0</td>\n",
              "      <td>0</td>\n",
              "      <td>0</td>\n",
              "    </tr>\n",
              "    <tr>\n",
              "      <th>1</th>\n",
              "      <td>1</td>\n",
              "      <td>0</td>\n",
              "      <td>0</td>\n",
              "      <td>1</td>\n",
              "      <td>0</td>\n",
              "      <td>0</td>\n",
              "      <td>0</td>\n",
              "      <td>0</td>\n",
              "      <td>0</td>\n",
              "      <td>0</td>\n",
              "      <td>1</td>\n",
              "      <td>0</td>\n",
              "      <td>0</td>\n",
              "      <td>0</td>\n",
              "      <td>0</td>\n",
              "      <td>0</td>\n",
              "      <td>0</td>\n",
              "      <td>0</td>\n",
              "      <td>0</td>\n",
              "      <td>0</td>\n",
              "      <td>0</td>\n",
              "      <td>0</td>\n",
              "    </tr>\n",
              "    <tr>\n",
              "      <th>2</th>\n",
              "      <td>0</td>\n",
              "      <td>0</td>\n",
              "      <td>0</td>\n",
              "      <td>0</td>\n",
              "      <td>0</td>\n",
              "      <td>0</td>\n",
              "      <td>0</td>\n",
              "      <td>0</td>\n",
              "      <td>0</td>\n",
              "      <td>0</td>\n",
              "      <td>0</td>\n",
              "      <td>0</td>\n",
              "      <td>1</td>\n",
              "      <td>0</td>\n",
              "      <td>0</td>\n",
              "      <td>0</td>\n",
              "      <td>0</td>\n",
              "      <td>0</td>\n",
              "      <td>0</td>\n",
              "      <td>0</td>\n",
              "      <td>0</td>\n",
              "      <td>0</td>\n",
              "    </tr>\n",
              "    <tr>\n",
              "      <th>3</th>\n",
              "      <td>1</td>\n",
              "      <td>0</td>\n",
              "      <td>0</td>\n",
              "      <td>0</td>\n",
              "      <td>0</td>\n",
              "      <td>0</td>\n",
              "      <td>0</td>\n",
              "      <td>0</td>\n",
              "      <td>0</td>\n",
              "      <td>1</td>\n",
              "      <td>0</td>\n",
              "      <td>0</td>\n",
              "      <td>0</td>\n",
              "      <td>0</td>\n",
              "      <td>0</td>\n",
              "      <td>0</td>\n",
              "      <td>0</td>\n",
              "      <td>0</td>\n",
              "      <td>0</td>\n",
              "      <td>0</td>\n",
              "      <td>0</td>\n",
              "      <td>0</td>\n",
              "    </tr>\n",
              "    <tr>\n",
              "      <th>4</th>\n",
              "      <td>0</td>\n",
              "      <td>1</td>\n",
              "      <td>1</td>\n",
              "      <td>0</td>\n",
              "      <td>1</td>\n",
              "      <td>0</td>\n",
              "      <td>0</td>\n",
              "      <td>0</td>\n",
              "      <td>0</td>\n",
              "      <td>0</td>\n",
              "      <td>1</td>\n",
              "      <td>0</td>\n",
              "      <td>0</td>\n",
              "      <td>0</td>\n",
              "      <td>0</td>\n",
              "      <td>0</td>\n",
              "      <td>0</td>\n",
              "      <td>0</td>\n",
              "      <td>0</td>\n",
              "      <td>0</td>\n",
              "      <td>0</td>\n",
              "      <td>0</td>\n",
              "    </tr>\n",
              "    <tr>\n",
              "      <th>...</th>\n",
              "      <td>...</td>\n",
              "      <td>...</td>\n",
              "      <td>...</td>\n",
              "      <td>...</td>\n",
              "      <td>...</td>\n",
              "      <td>...</td>\n",
              "      <td>...</td>\n",
              "      <td>...</td>\n",
              "      <td>...</td>\n",
              "      <td>...</td>\n",
              "      <td>...</td>\n",
              "      <td>...</td>\n",
              "      <td>...</td>\n",
              "      <td>...</td>\n",
              "      <td>...</td>\n",
              "      <td>...</td>\n",
              "      <td>...</td>\n",
              "      <td>...</td>\n",
              "      <td>...</td>\n",
              "      <td>...</td>\n",
              "      <td>...</td>\n",
              "      <td>...</td>\n",
              "    </tr>\n",
              "    <tr>\n",
              "      <th>322052</th>\n",
              "      <td>0</td>\n",
              "      <td>0</td>\n",
              "      <td>0</td>\n",
              "      <td>0</td>\n",
              "      <td>0</td>\n",
              "      <td>0</td>\n",
              "      <td>0</td>\n",
              "      <td>0</td>\n",
              "      <td>0</td>\n",
              "      <td>0</td>\n",
              "      <td>0</td>\n",
              "      <td>0</td>\n",
              "      <td>0</td>\n",
              "      <td>0</td>\n",
              "      <td>0</td>\n",
              "      <td>0</td>\n",
              "      <td>1</td>\n",
              "      <td>0</td>\n",
              "      <td>1</td>\n",
              "      <td>0</td>\n",
              "      <td>0</td>\n",
              "      <td>0</td>\n",
              "    </tr>\n",
              "    <tr>\n",
              "      <th>322053</th>\n",
              "      <td>1</td>\n",
              "      <td>0</td>\n",
              "      <td>0</td>\n",
              "      <td>0</td>\n",
              "      <td>0</td>\n",
              "      <td>0</td>\n",
              "      <td>0</td>\n",
              "      <td>0</td>\n",
              "      <td>0</td>\n",
              "      <td>0</td>\n",
              "      <td>1</td>\n",
              "      <td>0</td>\n",
              "      <td>0</td>\n",
              "      <td>0</td>\n",
              "      <td>0</td>\n",
              "      <td>0</td>\n",
              "      <td>0</td>\n",
              "      <td>0</td>\n",
              "      <td>1</td>\n",
              "      <td>0</td>\n",
              "      <td>0</td>\n",
              "      <td>0</td>\n",
              "    </tr>\n",
              "    <tr>\n",
              "      <th>322054</th>\n",
              "      <td>1</td>\n",
              "      <td>0</td>\n",
              "      <td>1</td>\n",
              "      <td>0</td>\n",
              "      <td>0</td>\n",
              "      <td>0</td>\n",
              "      <td>0</td>\n",
              "      <td>0</td>\n",
              "      <td>0</td>\n",
              "      <td>0</td>\n",
              "      <td>0</td>\n",
              "      <td>0</td>\n",
              "      <td>0</td>\n",
              "      <td>1</td>\n",
              "      <td>0</td>\n",
              "      <td>0</td>\n",
              "      <td>0</td>\n",
              "      <td>0</td>\n",
              "      <td>1</td>\n",
              "      <td>0</td>\n",
              "      <td>0</td>\n",
              "      <td>0</td>\n",
              "    </tr>\n",
              "    <tr>\n",
              "      <th>322055</th>\n",
              "      <td>1</td>\n",
              "      <td>0</td>\n",
              "      <td>1</td>\n",
              "      <td>0</td>\n",
              "      <td>1</td>\n",
              "      <td>0</td>\n",
              "      <td>0</td>\n",
              "      <td>0</td>\n",
              "      <td>0</td>\n",
              "      <td>0</td>\n",
              "      <td>0</td>\n",
              "      <td>0</td>\n",
              "      <td>0</td>\n",
              "      <td>1</td>\n",
              "      <td>0</td>\n",
              "      <td>0</td>\n",
              "      <td>0</td>\n",
              "      <td>0</td>\n",
              "      <td>1</td>\n",
              "      <td>0</td>\n",
              "      <td>0</td>\n",
              "      <td>0</td>\n",
              "    </tr>\n",
              "    <tr>\n",
              "      <th>322056</th>\n",
              "      <td>0</td>\n",
              "      <td>0</td>\n",
              "      <td>0</td>\n",
              "      <td>0</td>\n",
              "      <td>1</td>\n",
              "      <td>0</td>\n",
              "      <td>0</td>\n",
              "      <td>0</td>\n",
              "      <td>0</td>\n",
              "      <td>0</td>\n",
              "      <td>1</td>\n",
              "      <td>0</td>\n",
              "      <td>0</td>\n",
              "      <td>0</td>\n",
              "      <td>0</td>\n",
              "      <td>0</td>\n",
              "      <td>0</td>\n",
              "      <td>0</td>\n",
              "      <td>1</td>\n",
              "      <td>0</td>\n",
              "      <td>0</td>\n",
              "      <td>0</td>\n",
              "    </tr>\n",
              "  </tbody>\n",
              "</table>\n",
              "<p>322057 rows × 22 columns</p>\n",
              "</div>"
            ],
            "text/plain": [
              "       SEXO GESTANTE FEBRE  ... PROFISSIONAL_SAUDE PES_PRIV_LIBERDADE HOSPITALIZADO\n",
              "0         0        0     0  ...                  0                  0             0\n",
              "1         1        0     0  ...                  0                  0             0\n",
              "2         0        0     0  ...                  0                  0             0\n",
              "3         1        0     0  ...                  0                  0             0\n",
              "4         0        1     1  ...                  0                  0             0\n",
              "...     ...      ...   ...  ...                ...                ...           ...\n",
              "322052    0        0     0  ...                  0                  0             0\n",
              "322053    1        0     0  ...                  0                  0             0\n",
              "322054    1        0     1  ...                  0                  0             0\n",
              "322055    1        0     1  ...                  0                  0             0\n",
              "322056    0        0     0  ...                  0                  0             0\n",
              "\n",
              "[322057 rows x 22 columns]"
            ]
          },
          "metadata": {
            "tags": []
          },
          "execution_count": 45
        }
      ]
    },
    {
      "cell_type": "markdown",
      "metadata": {
        "id": "4vtLZqpIZnfk"
      },
      "source": [
        "\n",
        "#3 Treinamento\n",
        "\n",
        "\n"
      ]
    },
    {
      "cell_type": "markdown",
      "metadata": {
        "id": "ihgVBlPXrU4H"
      },
      "source": [
        "###3.1 Conferindo total de registros de acordo com o atributo alvo: HOSPITALIZADO "
      ]
    },
    {
      "cell_type": "code",
      "metadata": {
        "id": "oNi81IRV9RC_",
        "colab": {
          "base_uri": "https://localhost:8080/"
        },
        "outputId": "4b015a98-9ac4-427e-9e59-9eec70a9c5f5"
      },
      "source": [
        "dados['HOSPITALIZADO']= dados['HOSPITALIZADO'].astype(int)\n",
        "nhosp = (dados['HOSPITALIZADO'].count()) -(dados['HOSPITALIZADO'].sum())\n",
        "print (\"Total de registros: \", dados['HOSPITALIZADO'].count(), \n",
        "       \"\\nNão Hospitalizados: \", nhosp,\n",
        "       \"\\nHospitalizados....: \", dados['HOSPITALIZADO'].sum())"
      ],
      "execution_count": 46,
      "outputs": [
        {
          "output_type": "stream",
          "text": [
            "Total de registros:  322057 \n",
            "Não Hospitalizados:  297900 \n",
            "Hospitalizados....:  24157\n"
          ],
          "name": "stdout"
        }
      ]
    },
    {
      "cell_type": "markdown",
      "metadata": {
        "id": "6TQI_jnG8MVW"
      },
      "source": [
        "###3.2 Dividindo os dados em treino e teste"
      ]
    },
    {
      "cell_type": "markdown",
      "metadata": {
        "id": "-1yUAjNhrk4N"
      },
      "source": [
        "O método `train_test_split` será utilizado para separação dos conjuntos, considerando 20% de dados de teste\n"
      ]
    },
    {
      "cell_type": "code",
      "metadata": {
        "id": "b1eUoHVUr0M-",
        "colab": {
          "base_uri": "https://localhost:8080/"
        },
        "outputId": "50e81068-f03a-447e-8503-b6b2ff194e84"
      },
      "source": [
        "from sklearn.model_selection import train_test_split # Separa dados de treinamento e teste\n",
        "\n",
        "treino, teste = train_test_split(dados, test_size=0.2)\n",
        "print(\"Treino:\", len(treino)) \n",
        "print(\"Teste.:\", len(teste)) "
      ],
      "execution_count": 47,
      "outputs": [
        {
          "output_type": "stream",
          "text": [
            "Treino: 257645\n",
            "Teste.: 64412\n"
          ],
          "name": "stdout"
        }
      ]
    },
    {
      "cell_type": "code",
      "metadata": {
        "id": "tJJHmvsOmPyd"
      },
      "source": [
        "# Carregando os atributos e classes dos dados de treino\n",
        "X_treino = treino.drop('HOSPITALIZADO', axis='columns')\n",
        "y_treino = treino['HOSPITALIZADO']\n",
        "\n",
        "# Carregando os atributos e classes dos dados de teste\n",
        "X_teste = teste.drop('HOSPITALIZADO', axis='columns')\n",
        "y_teste = teste['HOSPITALIZADO']"
      ],
      "execution_count": 48,
      "outputs": []
    },
    {
      "cell_type": "markdown",
      "metadata": {
        "id": "6oju4WxjRNgY"
      },
      "source": [
        "###3.3 Modelos selecionados"
      ]
    },
    {
      "cell_type": "markdown",
      "metadata": {
        "id": "C10v9MTBRYQq"
      },
      "source": [
        "**... vamos começar o treinamento**\n",
        "\n",
        "Foram utilizados os modelos de classificação abaixo para prever o valor da variável destino:\n",
        "\n",
        "\n",
        "> 3.3.1. Árvore de Decisão (Decision Tree)\n",
        "\n",
        "> 3.3.2. Random Forest\n",
        "\n",
        "> 3.3.3. Classificador de Regressão Logística\n",
        "\n",
        "Na sequência, segue a aplicação dos modelos selecionados e a sua avaliação."
      ]
    },
    {
      "cell_type": "markdown",
      "metadata": {
        "id": "Yr0nplm0is7T"
      },
      "source": [
        "#####3.3.1 Treinando com Árvores de decisão (Decision Tree)\n",
        "\n",
        "Este método de aprendizado supervisionado não paramétrico é usado para classificação e regressão, que aprende a partir de regras de decisão simples inferidas dos recursos de dados."
      ]
    },
    {
      "cell_type": "code",
      "metadata": {
        "id": "4rPcYRBLu4Sx"
      },
      "source": [
        "# DecisionTreeClassifier é uma classe capaz de realizar classificação multiclasse em um conjunto de dados.\n",
        "from sklearn.tree import DecisionTreeClassifier  # Modelo utilizado\n",
        "\n",
        "modelo = DecisionTreeClassifier(random_state=0, criterion=\"entropy\")\n",
        "\n",
        "# A função fit recebe como primeiro parâmetro uma matriz CxN, com C colunas e N linhas, onde cada linha especifica um exemplo\n",
        "# O segundo parâmetro é um vetor com N posições, indicando os rótulos das linhas da matriz no primeiro parâmetro\n",
        "modelo_treinado = modelo.fit(X_treino, y_treino)"
      ],
      "execution_count": 49,
      "outputs": []
    },
    {
      "cell_type": "markdown",
      "metadata": {
        "id": "CeSL8nx2FK67"
      },
      "source": [
        "**Avaliação do modelo**\n",
        "\n",
        "Com o modelo treinado, temos que avaliá-lo no conjunto de teste. O sklearn implementa boa parte das métricas, bem como permite mostrar a matriz de confusão completa. Alguns dos módulos do sklearn são acrescentados para comparar os modelos."
      ]
    },
    {
      "cell_type": "code",
      "metadata": {
        "id": "Jv4GVeW3xuGq",
        "colab": {
          "base_uri": "https://localhost:8080/"
        },
        "outputId": "37df19c9-affa-418e-f00c-0628b9f85db6"
      },
      "source": [
        "from sklearn.metrics import accuracy_score # Metricas para calcular accuracy score\n",
        "\n",
        "# Passamos os exemplos sem classe pelo primeiro modelo treinado, que retorna a predicao em um vetor\n",
        "predicoes = modelo_treinado.predict(X_teste)\n",
        "\n",
        "# Com as predicoes, podemos calcular as métricas. Abaixo, a acurácia.\n",
        "acuracia = accuracy_score(y_teste, predicoes) # Observe que sempre passamos os valores verdadeiros (y_teste) e depois as predicoes\n",
        "print(\"Acurácia do modelo: \", f\"{acuracia:.1%}\")\n",
        "print(\"Acurácia do modelo diz quanto o modelo acertou das previsões possíveis\")"
      ],
      "execution_count": 50,
      "outputs": [
        {
          "output_type": "stream",
          "text": [
            "Acurácia do modelo:  94.7%\n",
            "Acurácia do modelo diz quanto o modelo acertou das previsões possíveis\n"
          ],
          "name": "stdout"
        }
      ]
    },
    {
      "cell_type": "markdown",
      "metadata": {
        "id": "YhBCauoj7SJc"
      },
      "source": [
        "> **Matriz de Confusão**\n",
        "\n",
        "1. A métrica `precision` identifica qual a proporção de identificações positivas foi realmente correta. Em outras palavras, o qual bem meu modelo trabalhou.\n",
        "\n",
        "2. A métrica `recall` identifica qual a proporção de positivos foram identificados corretamente. Ou seja, avalia o quão bom meu modelo é para prever positivos, sendo positivo entendido como a classe que se quer prever, no nosso contexto, se é um indivíduo não hospitalizado.\n",
        "\n",
        "3. A métrica `f1-score` mostra o balanço entre a `precision` e o `recall` do  modelo.\n",
        "\n"
      ]
    },
    {
      "cell_type": "code",
      "metadata": {
        "id": "hCZLA3SA-JLb",
        "colab": {
          "base_uri": "https://localhost:8080/"
        },
        "outputId": "db28c705-536e-4ef8-e551-69eed2b67228"
      },
      "source": [
        "from sklearn.metrics import classification_report\n",
        "\n",
        "# 0 para NAO HOSPTALIZADO, 1 para HOSPTALIZADO\n",
        "relatorio = classification_report(y_teste, predicoes)\n",
        "print(relatorio)"
      ],
      "execution_count": 51,
      "outputs": [
        {
          "output_type": "stream",
          "text": [
            "              precision    recall  f1-score   support\n",
            "\n",
            "           0       0.96      0.98      0.97     59733\n",
            "           1       0.69      0.47      0.56      4679\n",
            "\n",
            "    accuracy                           0.95     64412\n",
            "   macro avg       0.83      0.73      0.77     64412\n",
            "weighted avg       0.94      0.95      0.94     64412\n",
            "\n"
          ],
          "name": "stdout"
        }
      ]
    },
    {
      "cell_type": "markdown",
      "metadata": {
        "id": "xFwGPaMEfVJn"
      },
      "source": [
        "O modelo apresentou precisão de **96%** para os casos que não demandam hospitalização '**0**', considerado melhor para os casos que demandam de hospitalização '**1**', que apresentou precisão de **69%**. Com a matriz de confusão, acurácia obtida foi de **95%**. "
      ]
    },
    {
      "cell_type": "markdown",
      "metadata": {
        "id": "_5EuYUqLxOJI"
      },
      "source": [
        "Assim, este modelo:\n",
        "\n",
        "Previu `NAO HOSPITALIZADO` **98%** corretamente\n",
        "\n",
        "Previu `HOSPITALIZADO` **47%** corretamente\n",
        "\n",
        "Previu `NAO HOSPITALIZADO` **1%** incorretamente\n",
        "\n",
        "Previu `HOSPITALIZADO` **53%** incorretamente\n"
      ]
    },
    {
      "cell_type": "code",
      "metadata": {
        "id": "6s7Pyhr4KKrU",
        "colab": {
          "base_uri": "https://localhost:8080/",
          "height": 296
        },
        "outputId": "495f51b6-df94-40f5-e665-6813edfd88cf"
      },
      "source": [
        "from sklearn.metrics import plot_confusion_matrix\n",
        "\n",
        "plot_confusion_matrix(modelo_treinado, X_teste, y_teste, normalize='true')"
      ],
      "execution_count": 52,
      "outputs": [
        {
          "output_type": "execute_result",
          "data": {
            "text/plain": [
              "<sklearn.metrics._plot.confusion_matrix.ConfusionMatrixDisplay at 0x7f53f647c898>"
            ]
          },
          "metadata": {
            "tags": []
          },
          "execution_count": 52
        },
        {
          "output_type": "display_data",
          "data": {
            "image/png": "[encoded data removed]",
            "text/plain": [
              "<Figure size 432x288 with 2 Axes>"
            ]
          },
          "metadata": {
            "tags": [],
            "needs_background": "light"
          }
        }
      ]
    },
    {
      "cell_type": "markdown",
      "metadata": {
        "id": "_gGFahgjjgcd"
      },
      "source": [
        "> **Análise de desempenho do modelo**\n",
        "\n",
        "ROC é uma curva de probabilidade. Ela é criada traçando a taxa `verdadeiro-positivo` contra a taxa de `falsos-positivos`. Ou seja, número de vezes que o classificador acertou a predição conta o número de vezes que o classificador errou a predição.\n",
        "\n",
        "O AUC representa o grau ou medida de separabilidade. Quanto maior o AUC, melhor o modelo está em prever 0s como 0s e 1s como 1s. Por exemplo, quanto maior a AUC, melhor o modelo está em distinguir entre pacientes com doença e pacientes sem doença"
      ]
    },
    {
      "cell_type": "code",
      "metadata": {
        "id": "4qlwHOCNi1qc",
        "colab": {
          "base_uri": "https://localhost:8080/",
          "height": 296
        },
        "outputId": "c1397bf5-2e1c-4c5c-c76b-b6683a6b46ae"
      },
      "source": [
        "from sklearn.metrics import plot_roc_curve # recurso para imprimir a curva ROC e AUC \n",
        "plot_roc_curve(modelo_treinado, X_teste, y_teste)"
      ],
      "execution_count": 53,
      "outputs": [
        {
          "output_type": "execute_result",
          "data": {
            "text/plain": [
              "<sklearn.metrics._plot.roc_curve.RocCurveDisplay at 0x7f53f647ccf8>"
            ]
          },
          "metadata": {
            "tags": []
          },
          "execution_count": 53
        },
        {
          "output_type": "display_data",
          "data": {
            "image/png": "[encoded data removed]",
            "text/plain": [
              "<Figure size 432x288 with 1 Axes>"
            ]
          },
          "metadata": {
            "tags": [],
            "needs_background": "light"
          }
        }
      ]
    },
    {
      "cell_type": "markdown",
      "metadata": {
        "id": "wGWxsQbKi6PU"
      },
      "source": [
        "> **Método Bootstrapping**\n",
        "\n",
        "A validação cruzada é uma técnica para avaliar a capacidade de generalização de um modelo. É amplamente empregada em problemas onde o objetivo da modelagem é a predição. Busca-se então estimar o quão preciso é este modelo na prática, ou seja, o seu desempenho para um novo conjunto de dados."
      ]
    },
    {
      "cell_type": "code",
      "metadata": {
        "id": "Hq079eVBL84Y"
      },
      "source": [
        "from sklearn.model_selection import ShuffleSplit\n",
        "\n",
        "# Vamos criar 10 separações (considerado o padrão), mantendo 20% de teste em cada uma\n",
        "rs = ShuffleSplit(n_splits=10, test_size=.2)\n",
        "\n",
        "X = dados.drop('HOSPITALIZADO', axis='columns')\n",
        "y = dados['HOSPITALIZADO']\n",
        "\n",
        "# Array para armazernamos as acurácias de cada modelo\n",
        "acuracias = []"
      ],
      "execution_count": 54,
      "outputs": []
    },
    {
      "cell_type": "markdown",
      "metadata": {
        "id": "gx3lcpZUITyB"
      },
      "source": [
        "Agora iteramos por cada separação e treinamos o modelo"
      ]
    },
    {
      "cell_type": "code",
      "metadata": {
        "id": "kqMZnbrnHu8z",
        "colab": {
          "base_uri": "https://localhost:8080/"
        },
        "outputId": "07b8df19-e61d-444e-b2ed-bc822cf96747"
      },
      "source": [
        "# O método split retorna índices para o vetor passado como parametro\n",
        "# O .loc é a maneira de indexar tabelas no pandas a partir de índices\n",
        "for train_index, test_index in rs.split(X):\n",
        "  modelo_treinado = modelo.fit(X.loc[train_index], y.loc[train_index])\n",
        "  predicoes = modelo_treinado.predict(X.loc[test_index])\n",
        "  acuracias.append(accuracy_score(y.loc[test_index], predicoes))\n",
        "\n",
        "print(acuracias)\n",
        "print(\"Média das acurácias: \", f\"{sum(acuracias) / len(acuracias):.1%}\")\n",
        "#Uma abordagem seria estratificar a separação entre treino/teste. \n",
        "#A estratificação procura garantir que a distribuição dos dados é semelhante entre os grupos. \n",
        "#Ela pode ser feita tanto para atributos como para rótulos. \n"
      ],
      "execution_count": 55,
      "outputs": [
        {
          "output_type": "stream",
          "text": [
            "[0.9459106998695895, 0.9460349003291312, 0.9466869527417251, 0.9447152704465006, 0.9451189219400111, 0.9467024777991678, 0.9444823945848599, 0.9445134446997454, 0.9461901509035583, 0.9444668695274172]\n",
            "Média das acurácias:  94.5%\n"
          ],
          "name": "stdout"
        }
      ]
    },
    {
      "cell_type": "markdown",
      "metadata": {
        "id": "zXo4B8NmVtIY"
      },
      "source": [
        "O resultado acima representa a pontuação média do modelo que é avaliada a partir das médias dos valores de cada interação. A acurácia média obtida se manteve equivalente ao produzido pelo SKLearn: **94,5%.**\n",
        "\n",
        "> **3.3 K-Fold**\n",
        "\n",
        "O Cross Validation serve para ajudar nessa validação do modelo. A validação cruzada *k-fold*, embaralha os dados separando-os em *k* partições, onde cada uma passa pelo treinamento contendo dados distintos. Nesse experimento, houve um divisão em 10 partes, com isso haverá 10 resultados no final, a media deles é a métrica de eficiência do modelo."
      ]
    },
    {
      "cell_type": "code",
      "metadata": {
        "id": "t4RMiPy-TDn4",
        "colab": {
          "base_uri": "https://localhost:8080/"
        },
        "outputId": "856689db-5fc8-4f63-aa0c-dfd4a9227038"
      },
      "source": [
        "from sklearn.model_selection import cross_val_score\n",
        "\n",
        "# O parâmetro cv indica quantas partições criaremos\n",
        "scores = cross_val_score(modelo, X, y, cv=10)\n",
        "print(\"Acurácia média: \", f\"{scores.mean():.1%}\")"
      ],
      "execution_count": 56,
      "outputs": [
        {
          "output_type": "stream",
          "text": [
            "Acurácia média:  94.5%\n"
          ],
          "name": "stdout"
        }
      ]
    },
    {
      "cell_type": "markdown",
      "metadata": {
        "id": "Ll_gEKGeS06n"
      },
      "source": [
        "####3.1.2 Treinando com Randon Forest\n",
        "\n",
        "O algoritmo Random Forest é um tipo de *ensemble learning*, método que gera muitos classificadores e combina o seu resultado. No caso do Random Forest, ele gera vários *decision trees*, cada um com suas particularidades e combinada o resultado da classificação de todos eles."
      ]
    },
    {
      "cell_type": "code",
      "metadata": {
        "id": "uOrl6JEhkj4F"
      },
      "source": [
        "from sklearn.ensemble import RandomForestClassifier\n",
        "modelo2 = RandomForestClassifier(max_depth=10, random_state=0)\n",
        "modelo_treinado2 = modelo2.fit(X_treino, y_treino)"
      ],
      "execution_count": 58,
      "outputs": []
    },
    {
      "cell_type": "markdown",
      "metadata": {
        "id": "kPT9YHQ9k9D_"
      },
      "source": [
        "Avaliando desempenho do modelo\n",
        "\n",
        ">*Para facilitar a exibição dos resultados, foi definida uma função chamada `resultado_modelo`.*"
      ]
    },
    {
      "cell_type": "code",
      "metadata": {
        "id": "cB8pzj0DlAA3"
      },
      "source": [
        "def resultado_modelo(modelo_treinado, X_teste, y_teste):\n",
        "    predicoes = modelo_treinado.predict(X_teste)\n",
        "    acuracia = accuracy_score(y_teste, predicoes)\n",
        "    print(\"Acurácia do modelo: \", f\"{acuracia:.1%}\")\n",
        "\n",
        "    relatorio = classification_report(y_teste, predicoes)\n",
        "    print(relatorio)\n",
        "\n",
        "    plot_confusion_matrix(modelo_treinado, X_teste, y_teste, normalize=\"true\")\n",
        "\n",
        "    plot_roc_curve(modelo_treinado, X_teste, y_teste)"
      ],
      "execution_count": 59,
      "outputs": []
    },
    {
      "cell_type": "code",
      "metadata": {
        "colab": {
          "base_uri": "https://localhost:8080/",
          "height": 711
        },
        "id": "aYLDMZqG1y_j",
        "outputId": "c6bbcbed-8dad-4ece-a03c-ff0ab3f4804b"
      },
      "source": [
        "resultado_modelo(modelo_treinado2, X_teste, y_teste)"
      ],
      "execution_count": 28,
      "outputs": [
        {
          "output_type": "stream",
          "text": [
            "Acurácia do modelo:  93.4%\n",
            "              precision    recall  f1-score   support\n",
            "\n",
            "           0       0.95      0.98      0.97     59587\n",
            "           1       0.60      0.36      0.45      4825\n",
            "\n",
            "    accuracy                           0.93     64412\n",
            "   macro avg       0.78      0.67      0.71     64412\n",
            "weighted avg       0.92      0.93      0.93     64412\n",
            "\n"
          ],
          "name": "stdout"
        },
        {
          "output_type": "display_data",
          "data": {
            "image/png": "[encoded data removed]",
            "text/plain": [
              "<Figure size 432x288 with 2 Axes>"
            ]
          },
          "metadata": {
            "tags": [],
            "needs_background": "light"
          }
        },
        {
          "output_type": "display_data",
          "data": {
            "image/png": "[encoded data removed]",
            "text/plain": [
              "<Figure size 432x288 with 1 Axes>"
            ]
          },
          "metadata": {
            "tags": [],
            "needs_background": "light"
          }
        }
      ]
    },
    {
      "cell_type": "markdown",
      "metadata": {
        "id": "MX_uMOPlSQXQ"
      },
      "source": [
        "Avaliando desempenho do modelo"
      ]
    },
    {
      "cell_type": "markdown",
      "metadata": {
        "id": "leY3LOTsltyD"
      },
      "source": [
        "####3.1.3 Treinando com Classificador de Regressão Logística\n",
        "\n",
        "Este algoritmo encontra um modelo de regressão que calcula a probabilidade de um dado ponto ter classificação 0 ou 1 (que chamaremos também de classificações negativa e positiva, respectivamente)"
      ]
    },
    {
      "cell_type": "code",
      "metadata": {
        "id": "AVWq1MYJXd4h"
      },
      "source": [
        "from sklearn.linear_model import LogisticRegression\n",
        "modelo3 = LogisticRegression(random_state=0, max_iter=1000)\n",
        "modelo_treinado3 = modelo3.fit(X_treino, y_treino)"
      ],
      "execution_count": 60,
      "outputs": []
    },
    {
      "cell_type": "markdown",
      "metadata": {
        "id": "u9atXGy3XdFx"
      },
      "source": [
        "Avaliando o modelo\n",
        "\n"
      ]
    },
    {
      "cell_type": "code",
      "metadata": {
        "id": "jhm3VfltXeiV",
        "colab": {
          "base_uri": "https://localhost:8080/",
          "height": 711
        },
        "outputId": "9fe44594-211c-4074-decd-06ce42c09b67"
      },
      "source": [
        "resultado_modelo(modelo_treinado3, X_teste, y_teste)"
      ],
      "execution_count": 61,
      "outputs": [
        {
          "output_type": "stream",
          "text": [
            "Acurácia do modelo:  94.6%\n",
            "              precision    recall  f1-score   support\n",
            "\n",
            "           0       0.96      0.98      0.97     59733\n",
            "           1       0.69      0.47      0.56      4679\n",
            "\n",
            "    accuracy                           0.95     64412\n",
            "   macro avg       0.82      0.73      0.76     64412\n",
            "weighted avg       0.94      0.95      0.94     64412\n",
            "\n"
          ],
          "name": "stdout"
        },
        {
          "output_type": "display_data",
          "data": {
            "image/png": "[encoded data removed]",
            "text/plain": [
              "<Figure size 432x288 with 2 Axes>"
            ]
          },
          "metadata": {
            "tags": [],
            "needs_background": "light"
          }
        },
        {
          "output_type": "display_data",
          "data": {
            "image/png": "[encoded data removed]",
            "text/plain": [
              "<Figure size 432x288 with 1 Axes>"
            ]
          },
          "metadata": {
            "tags": [],
            "needs_background": "light"
          }
        }
      ]
    },
    {
      "cell_type": "markdown",
      "metadata": {
        "id": "H4qBS7y1-_Id"
      },
      "source": [
        "#4 Considerações preliminares\n",
        "\n",
        "Para o conjunto de dados analisados, as técnicas utilizadas para treinamento, teste e validação, apresentaram resultados muito próximos, com acurácia entre 93% e 95%. Tendo como atributo alvo a necessidade de hospitalização do paciente 'HOSPITALIZADO'. \n",
        "\n",
        "Os demais atributos selecionados nesta análise foram oportunos e ajudaram na precisão do modelo. \n",
        "\n",
        "Já atributos relacionados a condições, região e evolução do quadro do paciente foram descartados, visto que em testes preliminares a correlação foi fraca ou haviam muitos dados faltantes. "
      ]
    },
    {
      "cell_type": "markdown",
      "metadata": {
        "id": "YfTpCMlSr5rg"
      },
      "source": [
        "Com o modelo treinado, podemos testar com dados fictícios:"
      ]
    },
    {
      "cell_type": "code",
      "metadata": {
        "id": "-Vdl2_DT7jgn",
        "colab": {
          "base_uri": "https://localhost:8080/"
        },
        "outputId": "3408b907-b338-4768-92d4-991bd65abae2"
      },
      "source": [
        "inferencia = modelo_treinado.predict([[0,0,0,0,0,1,0,0,0,0,0,0,0,0,0,0,0,0,0,0,0]]) # Árvore de Decisão\n",
        "print (\"Com DISPNEIA\")\n",
        "if inferencia == 0 : \n",
        "  print (\"NAO HOSPITALIZADO\") \n",
        "else: \n",
        "  print (\"HOSPITALIZADO\") "
      ],
      "execution_count": 65,
      "outputs": [
        {
          "output_type": "stream",
          "text": [
            "Com DISPNEIA\n",
            "HOSPITALIZADO\n"
          ],
          "name": "stdout"
        }
      ]
    },
    {
      "cell_type": "code",
      "metadata": {
        "colab": {
          "base_uri": "https://localhost:8080/"
        },
        "id": "4uVZjajz-Oj0",
        "outputId": "57954cd3-4f39-4bee-c8a1-167d5a311046"
      },
      "source": [
        "inferencia = modelo_treinado2.predict([[0,0,0,0,0,1,0,0,0,0,0,0,0,0,0,0,0,0,0,0,0]]) # Randon Forest\n",
        "print (\"Com DISPNEIA\")\n",
        "if inferencia == 0 : \n",
        "  print (\"NAO HOSPITALIZADO\") \n",
        "else: \n",
        "  print (\"HOSPITALIZADO\")"
      ],
      "execution_count": 66,
      "outputs": [
        {
          "output_type": "stream",
          "text": [
            "Com DISPNEIA\n",
            "NAO HOSPITALIZADO\n"
          ],
          "name": "stdout"
        }
      ]
    },
    {
      "cell_type": "code",
      "metadata": {
        "colab": {
          "base_uri": "https://localhost:8080/"
        },
        "id": "HeWBL5Nl-ROA",
        "outputId": "a4b3afde-db4f-4258-85c1-8e9c290e360b"
      },
      "source": [
        "inferencia = modelo_treinado3.predict([[0,0,0,0,0,1,0,0,0,0,0,0,0,0,0,0,0,0,0,0,0]]) # Regressão Logística\n",
        "print (\"Com DISPNEIA\")\n",
        "if inferencia == 0 : \n",
        "  print (\"NAO HOSPITALIZADO\") \n",
        "else: \n",
        "  print (\"HOSPITALIZADO\")"
      ],
      "execution_count": 67,
      "outputs": [
        {
          "output_type": "stream",
          "text": [
            "Com DISPNEIA\n",
            "NAO HOSPITALIZADO\n"
          ],
          "name": "stdout"
        }
      ]
    },
    {
      "cell_type": "code",
      "metadata": {
        "id": "NrYvgVRRvqvR",
        "colab": {
          "base_uri": "https://localhost:8080/"
        },
        "outputId": "0d3fbb76-ba5f-4209-e8e9-805c7c02a4d4"
      },
      "source": [
        "inferencia = modelo_treinado3.predict([[0,0,1,0,0,1,0,0,0,0,0,0,0,0,0,0,0,0,0,0,0]]) # Regressão Logística\n",
        "print (\"Com FEBRE e DISPNEIA\")\n",
        "if inferencia == 0 : \n",
        "  print (\"NAO HOSPITALIZADO\") \n",
        "else: \n",
        "  print (\"HOSPITALIZADO\") "
      ],
      "execution_count": 75,
      "outputs": [
        {
          "output_type": "stream",
          "text": [
            "Com FEBRE e DISPNEIA\n",
            "NAO HOSPITALIZADO\n"
          ],
          "name": "stdout"
        }
      ]
    },
    {
      "cell_type": "code",
      "metadata": {
        "id": "aKVpEn3WwwRg",
        "colab": {
          "base_uri": "https://localhost:8080/"
        },
        "outputId": "85406ed0-5504-4bb8-d738-8e49d2c5eb3a"
      },
      "source": [
        "inferencia = modelo_treinado3.predict([[0,0,1,1,0,1,0,0,0,0,0,0,0,0,0,0,0,0,0,0,0]]) # Regressão Logística\n",
        "print (\"Com FEBRE, TOSSE e DISPNEIA\")\n",
        "if inferencia == 0 : \n",
        "  print (\"NAO HOSPITALIZADO\") \n",
        "else: \n",
        "  print (\"HOSPITALIZADO\") "
      ],
      "execution_count": 72,
      "outputs": [
        {
          "output_type": "stream",
          "text": [
            "Com FEBRE, TOSSE e DISPNEIA\n",
            "HOSPITALIZADO\n"
          ],
          "name": "stdout"
        }
      ]
    },
    {
      "cell_type": "code",
      "metadata": {
        "id": "nRF1jhuIww6F",
        "colab": {
          "base_uri": "https://localhost:8080/"
        },
        "outputId": "2d3f7eb3-4df1-41f4-bfb1-2e32c2af313d"
      },
      "source": [
        "inferencia = modelo_treinado3.predict([[0,0,1,1,1,1,0,0,0,0,0,0,0,0,0,0,0,0,0,0,0]]) # Regressão Logística\n",
        "print (\"Com FEBRE, TOSSE, GARGANTA e DISPNEIA\")\n",
        "if inferencia == 0 : \n",
        "  print (\"NAO HOSPITALIZADO\") \n",
        "else: \n",
        "  print (\"HOSPITALIZADO\") "
      ],
      "execution_count": 76,
      "outputs": [
        {
          "output_type": "stream",
          "text": [
            "Com FEBRE, TOSSE, GARGANTA e DISPNEIA\n",
            "NAO HOSPITALIZADO\n"
          ],
          "name": "stdout"
        }
      ]
    },
    {
      "cell_type": "code",
      "metadata": {
        "id": "RkXrs_r7x7rp",
        "colab": {
          "base_uri": "https://localhost:8080/"
        },
        "outputId": "4f4b4177-a0fc-48f2-f04f-fb826f579fdc"
      },
      "source": [
        "inferencia = modelo_treinado.predict([[0,0,1,1,1,1,0,0,0,0,0,0,0,0,0,0,0,0,0,0,0]]) #àrvore de decisão\n",
        "print (\"Com FEBRE, TOSSE, GARGANTA, DISPNEIA e PROFISSIONAL_SAUDE\")\n",
        "if inferencia == 0 : \n",
        "  print (\"NAO HOSPITALIZADO\") \n",
        "else: \n",
        "  print (\"HOSPITALIZADO\") "
      ],
      "execution_count": 79,
      "outputs": [
        {
          "output_type": "stream",
          "text": [
            "Com FEBRE, TOSSE, GARGANTA, DISPNEIA e PROFISSIONAL_SAUDE\n",
            "NAO HOSPITALIZADO\n"
          ],
          "name": "stdout"
        }
      ]
    },
    {
      "cell_type": "code",
      "metadata": {
        "id": "dqQ3hclhyLrU",
        "colab": {
          "base_uri": "https://localhost:8080/"
        },
        "outputId": "1d9bb046-4056-4dda-cf99-9dbdb9e0027a"
      },
      "source": [
        "inferencia = modelo_treinado2.predict([[0,0,0,0,0,0,1,0,0,0,0,0,0,0,0,0,0,0,0,0,0]])\n",
        "print (\"Com FEBRE, TOSSE, GARGANTA, DISPNEIA, PROFISSIONAL_SAUDE e OUTROS\")\n",
        "if inferencia == 0 : \n",
        "  print (\"NAO HOSPITALIZADO\") \n",
        "else: \n",
        "  print (\"HOSPITALIZADO\") "
      ],
      "execution_count": 86,
      "outputs": [
        {
          "output_type": "stream",
          "text": [
            "Com FEBRE, TOSSE, GARGANTA, DISPNEIA, PROFISSIONAL_SAUDE e OUTROS\n",
            "NAO HOSPITALIZADO\n"
          ],
          "name": "stdout"
        }
      ]
    },
    {
      "cell_type": "markdown",
      "metadata": {
        "id": "bFu9Tn8Syk5v"
      },
      "source": [
        "Com as inferência acima, é possível verificar que a presença de `DISPNEIA` no modelo de classificação Árvore de Decisão, correspondendo ao valor mais determinante para a hospitalização do paciente. Para o modelo de classificação de Regressão Logistica, a combinação `FEBRE, TOSSE e DISPNEIA` resultam na combinação para hospitalização. O modelo de classificação Randon Forest, que apresentou a menor acurácia entre os três modelos avaliados, não apresentou um resultado igual ou parecido com os dois anteriores."
      ]
    },
    {
      "cell_type": "code",
      "metadata": {
        "id": "mQ2RNemPQpVn"
      },
      "source": [
        ""
      ],
      "execution_count": null,
      "outputs": []
    }
  ]
}