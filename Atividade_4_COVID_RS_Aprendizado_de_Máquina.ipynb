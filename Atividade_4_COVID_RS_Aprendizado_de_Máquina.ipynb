{
  "nbformat": 4,
  "nbformat_minor": 0,
  "metadata": {
    "colab": {
      "name": "Atividade 4 COVID/RS - Aprendizado de Máquina",
      "provenance": [],
      "collapsed_sections": [],
      "toc_visible": true,
      "include_colab_link": true
    },
    "kernelspec": {
      "name": "python3",
      "display_name": "Python 3"
    }
  },
  "cells": [
    {
      "cell_type": "markdown",
      "metadata": {
        "id": "view-in-github",
        "colab_type": "text"
      },
      "source": [
        "<a href=\"https://colab.research.google.com/github/bruno2siqueira/Machine_Learning/blob/main/Atividade_4_COVID_RS_Aprendizado_de_M%C3%A1quina.ipynb\" target=\"_parent\"><img src=\"https://colab.research.google.com/assets/colab-badge.svg\" alt=\"Open In Colab\"/></a>"
      ]
    },
    {
      "cell_type": "markdown",
      "metadata": {
        "id": "pHtUCa-sC7B0"
      },
      "source": [
        "## **Atividade 4 - Aprendizado de Máquina: COVID-19**\n",
        "\n",
        "* Por: Bruno Siqueira da Silva <<bruno.siqueira@inf.ufpel.edu.br>>\n",
        "* Data: 05 de novembro de 2020\n",
        "\n",
        "Abaixo as etapas do trabalho:"
      ]
    },
    {
      "cell_type": "markdown",
      "metadata": {
        "id": "OxxcDmyIZecG"
      },
      "source": [
        "# 1 Preparação do ambiente\n",
        "\n",
        "###1.1 Importação das bibliotecas\n",
        "\n"
      ]
    },
    {
      "cell_type": "code",
      "metadata": {
        "id": "dBqal9X0RUWo",
        "outputId": "507acc8b-fb63-4518-ff62-a5a5b20e9595",
        "colab": {
          "base_uri": "https://localhost:8080/"
        }
      },
      "source": [
        "import matplotlib.pyplot as pt\n",
        "import pandas as pd\n",
        "import numpy as np\n",
        "from sklearn.preprocessing import LabelBinarizer\n",
        "from unicodedata import normalize\n",
        "from google.colab import drive\n",
        "drive.mount('/content/drive')"
      ],
      "execution_count": 130,
      "outputs": [
        {
          "output_type": "stream",
          "text": [
            "Drive already mounted at /content/drive; to attempt to forcibly remount, call drive.mount(\"/content/drive\", force_remount=True).\n"
          ],
          "name": "stdout"
        }
      ]
    },
    {
      "cell_type": "markdown",
      "metadata": {
        "id": "0Slehnql5n4Y"
      },
      "source": [
        "### 1.2 Carregamento do arquivo\n",
        "\n",
        "a.   Dados epidemiológicos da COVID-19 no Rio Grande do Sul, Secretaria Estadual de Saúde - SES\n",
        "\n",
        "b. Disponível em: https://ti.saude.rs.gov.br/covid19/\n"
      ]
    },
    {
      "cell_type": "markdown",
      "metadata": {
        "id": "A4qKgdb75fg9"
      },
      "source": [
        "####1.2.1 Fonte de dados obtidos da Secretaria Estadual de Saúde do RS"
      ]
    },
    {
      "cell_type": "code",
      "metadata": {
        "id": "-_LlhG14Jgfp",
        "outputId": "ce9c1233-75a9-4701-a8a9-45c01f4b509b",
        "colab": {
          "base_uri": "https://localhost:8080/",
          "height": 905
        }
      },
      "source": [
        "#Baixando diretamente da fonte.\n",
        "\n",
        "!wget https://ti.saude.rs.gov.br/covid19/download\n",
        "!mv download dados_covid_rs.csv  #disponibiliza no ambiente de produção\n",
        "\n",
        "dados = pd.read_csv('/content/dados_covid_rs.csv', delimiter=';')\n",
        "dados"
      ],
      "execution_count": 131,
      "outputs": [
        {
          "output_type": "stream",
          "text": [
            "--2020-11-05 23:25:58--  https://ti.saude.rs.gov.br/covid19/download\n",
            "Resolving ti.saude.rs.gov.br (ti.saude.rs.gov.br)... 200.198.173.170\n",
            "Connecting to ti.saude.rs.gov.br (ti.saude.rs.gov.br)|200.198.173.170|:443... connected.\n",
            "HTTP request sent, awaiting response... 200 OK\n",
            "Length: unspecified [text/csv]\n",
            "Saving to: ‘download’\n",
            "\n",
            "download                [  <=>               ]  51.19M  6.49MB/s    in 9.1s    \n",
            "\n",
            "2020-11-05 23:26:09 (5.64 MB/s) - ‘download’ saved [53676731]\n",
            "\n"
          ],
          "name": "stdout"
        },
        {
          "output_type": "execute_result",
          "data": {
            "text/html": [
              "<div>\n",
              "<style scoped>\n",
              "    .dataframe tbody tr th:only-of-type {\n",
              "        vertical-align: middle;\n",
              "    }\n",
              "\n",
              "    .dataframe tbody tr th {\n",
              "        vertical-align: top;\n",
              "    }\n",
              "\n",
              "    .dataframe thead th {\n",
              "        text-align: right;\n",
              "    }\n",
              "</style>\n",
              "<table border=\"1\" class=\"dataframe\">\n",
              "  <thead>\n",
              "    <tr style=\"text-align: right;\">\n",
              "      <th></th>\n",
              "      <th>COD_IBGE</th>\n",
              "      <th>MUNICIPIO</th>\n",
              "      <th>COD_REGIAO_COVID</th>\n",
              "      <th>REGIAO_COVID</th>\n",
              "      <th>SEXO</th>\n",
              "      <th>FAIXAETARIA</th>\n",
              "      <th>CRITERIO</th>\n",
              "      <th>DATA_CONFIRMACAO</th>\n",
              "      <th>DATA_SINTOMAS</th>\n",
              "      <th>DATA_EVOLUCAO</th>\n",
              "      <th>EVOLUCAO</th>\n",
              "      <th>HOSPITALIZADO</th>\n",
              "      <th>FEBRE</th>\n",
              "      <th>TOSSE</th>\n",
              "      <th>GARGANTA</th>\n",
              "      <th>DISPNEIA</th>\n",
              "      <th>OUTROS</th>\n",
              "      <th>CONDICOES</th>\n",
              "      <th>GESTANTE</th>\n",
              "      <th>DATA_INCLUSAO_OBITO</th>\n",
              "      <th>DATA_EVOLUCAO_ESTIMADA</th>\n",
              "      <th>RACA_COR</th>\n",
              "      <th>ETNIA_INDIGENA</th>\n",
              "      <th>PROFISSIONAL_SAUDE</th>\n",
              "      <th>BAIRRO</th>\n",
              "      <th>HOSPITALIZACAO_SRAG</th>\n",
              "      <th>FONTE_INFORMACAO</th>\n",
              "      <th>PAIS_NASCIMENTO</th>\n",
              "      <th>PES_PRIV_LIBERDADE</th>\n",
              "    </tr>\n",
              "  </thead>\n",
              "  <tbody>\n",
              "    <tr>\n",
              "      <th>0</th>\n",
              "      <td>430003</td>\n",
              "      <td>ACEGUÁ</td>\n",
              "      <td>16</td>\n",
              "      <td>BAGE - R22</td>\n",
              "      <td>Feminino</td>\n",
              "      <td>20 a 29</td>\n",
              "      <td>RT-PCR</td>\n",
              "      <td>11/09/2020</td>\n",
              "      <td>08/09/2020</td>\n",
              "      <td>NaN</td>\n",
              "      <td>RECUPERADO</td>\n",
              "      <td>NAO</td>\n",
              "      <td>SIM</td>\n",
              "      <td>NAO</td>\n",
              "      <td>SIM</td>\n",
              "      <td>NAO</td>\n",
              "      <td>NAO</td>\n",
              "      <td>Gestante</td>\n",
              "      <td>SIM</td>\n",
              "      <td>NaN</td>\n",
              "      <td>22/09/2020</td>\n",
              "      <td>NAO INFORMADO</td>\n",
              "      <td>NAO ENCONTRADO</td>\n",
              "      <td>NAO INFORMADO</td>\n",
              "      <td>NaN</td>\n",
              "      <td>NAO</td>\n",
              "      <td>E-SUS</td>\n",
              "      <td>BRASIL</td>\n",
              "      <td>NAO</td>\n",
              "    </tr>\n",
              "    <tr>\n",
              "      <th>1</th>\n",
              "      <td>430003</td>\n",
              "      <td>ACEGUÁ</td>\n",
              "      <td>16</td>\n",
              "      <td>BAGE - R22</td>\n",
              "      <td>Feminino</td>\n",
              "      <td>50 a 59</td>\n",
              "      <td>TESTE RÁPIDO</td>\n",
              "      <td>19/10/2020</td>\n",
              "      <td>05/10/2020</td>\n",
              "      <td>NaN</td>\n",
              "      <td>RECUPERADO</td>\n",
              "      <td>NAO</td>\n",
              "      <td>NAO</td>\n",
              "      <td>NAO</td>\n",
              "      <td>NAO</td>\n",
              "      <td>NAO</td>\n",
              "      <td>NAO</td>\n",
              "      <td>NaN</td>\n",
              "      <td>NAO</td>\n",
              "      <td>NaN</td>\n",
              "      <td>19/10/2020</td>\n",
              "      <td>BRANCA</td>\n",
              "      <td>NAO ENCONTRADO</td>\n",
              "      <td>NAO</td>\n",
              "      <td>ZONA RURAL</td>\n",
              "      <td>NAO</td>\n",
              "      <td>E-SUS</td>\n",
              "      <td>BRASIL</td>\n",
              "      <td>NAO</td>\n",
              "    </tr>\n",
              "    <tr>\n",
              "      <th>2</th>\n",
              "      <td>430003</td>\n",
              "      <td>ACEGUÁ</td>\n",
              "      <td>16</td>\n",
              "      <td>BAGE - R22</td>\n",
              "      <td>Masculino</td>\n",
              "      <td>15 a 19</td>\n",
              "      <td>RT-PCR</td>\n",
              "      <td>06/10/2020</td>\n",
              "      <td>06/10/2020</td>\n",
              "      <td>NaN</td>\n",
              "      <td>RECUPERADO</td>\n",
              "      <td>NAO</td>\n",
              "      <td>NAO</td>\n",
              "      <td>NAO</td>\n",
              "      <td>NAO</td>\n",
              "      <td>NAO</td>\n",
              "      <td>NAO</td>\n",
              "      <td>NaN</td>\n",
              "      <td>NAO</td>\n",
              "      <td>NaN</td>\n",
              "      <td>20/10/2020</td>\n",
              "      <td>BRANCA</td>\n",
              "      <td>NAO ENCONTRADO</td>\n",
              "      <td>NAO</td>\n",
              "      <td>ZONA RURAL</td>\n",
              "      <td>NAO</td>\n",
              "      <td>E-SUS</td>\n",
              "      <td>BRASIL</td>\n",
              "      <td>NAO</td>\n",
              "    </tr>\n",
              "    <tr>\n",
              "      <th>3</th>\n",
              "      <td>430003</td>\n",
              "      <td>ACEGUÁ</td>\n",
              "      <td>16</td>\n",
              "      <td>BAGE - R22</td>\n",
              "      <td>Feminino</td>\n",
              "      <td>40 a 49</td>\n",
              "      <td>RT-PCR</td>\n",
              "      <td>05/10/2020</td>\n",
              "      <td>29/09/2020</td>\n",
              "      <td>NaN</td>\n",
              "      <td>RECUPERADO</td>\n",
              "      <td>NAO</td>\n",
              "      <td>NAO</td>\n",
              "      <td>NAO</td>\n",
              "      <td>NAO</td>\n",
              "      <td>NAO</td>\n",
              "      <td>NAO</td>\n",
              "      <td>NaN</td>\n",
              "      <td>NAO</td>\n",
              "      <td>NaN</td>\n",
              "      <td>13/10/2020</td>\n",
              "      <td>BRANCA</td>\n",
              "      <td>NAO ENCONTRADO</td>\n",
              "      <td>NAO</td>\n",
              "      <td>ZONA RURAL</td>\n",
              "      <td>NAO</td>\n",
              "      <td>E-SUS</td>\n",
              "      <td>BRASIL</td>\n",
              "      <td>NAO</td>\n",
              "    </tr>\n",
              "    <tr>\n",
              "      <th>4</th>\n",
              "      <td>430005</td>\n",
              "      <td>ÁGUA SANTA</td>\n",
              "      <td>14</td>\n",
              "      <td>PASSO FUNDO - R17 R18 R19</td>\n",
              "      <td>Feminino</td>\n",
              "      <td>30 a 39</td>\n",
              "      <td>TESTE RÁPIDO</td>\n",
              "      <td>30/07/2020</td>\n",
              "      <td>26/07/2020</td>\n",
              "      <td>NaN</td>\n",
              "      <td>RECUPERADO</td>\n",
              "      <td>NAO</td>\n",
              "      <td>NAO</td>\n",
              "      <td>SIM</td>\n",
              "      <td>SIM</td>\n",
              "      <td>NAO</td>\n",
              "      <td>NAO</td>\n",
              "      <td>Portador de doenças cromossômicas ou estado de...</td>\n",
              "      <td>NAO</td>\n",
              "      <td>NaN</td>\n",
              "      <td>09/08/2020</td>\n",
              "      <td>BRANCA</td>\n",
              "      <td>NAO ENCONTRADO</td>\n",
              "      <td>NAO</td>\n",
              "      <td>CENTRO</td>\n",
              "      <td>NAO</td>\n",
              "      <td>E-SUS</td>\n",
              "      <td>BRASIL</td>\n",
              "      <td>NAO</td>\n",
              "    </tr>\n",
              "    <tr>\n",
              "      <th>...</th>\n",
              "      <td>...</td>\n",
              "      <td>...</td>\n",
              "      <td>...</td>\n",
              "      <td>...</td>\n",
              "      <td>...</td>\n",
              "      <td>...</td>\n",
              "      <td>...</td>\n",
              "      <td>...</td>\n",
              "      <td>...</td>\n",
              "      <td>...</td>\n",
              "      <td>...</td>\n",
              "      <td>...</td>\n",
              "      <td>...</td>\n",
              "      <td>...</td>\n",
              "      <td>...</td>\n",
              "      <td>...</td>\n",
              "      <td>...</td>\n",
              "      <td>...</td>\n",
              "      <td>...</td>\n",
              "      <td>...</td>\n",
              "      <td>...</td>\n",
              "      <td>...</td>\n",
              "      <td>...</td>\n",
              "      <td>...</td>\n",
              "      <td>...</td>\n",
              "      <td>...</td>\n",
              "      <td>...</td>\n",
              "      <td>...</td>\n",
              "      <td>...</td>\n",
              "    </tr>\n",
              "    <tr>\n",
              "      <th>254823</th>\n",
              "      <td>432380</td>\n",
              "      <td>XANGRI-LÁ</td>\n",
              "      <td>3</td>\n",
              "      <td>CAPAO DA CANOA - R04 R05</td>\n",
              "      <td>Feminino</td>\n",
              "      <td>80 e mais</td>\n",
              "      <td>TESTE RÁPIDO</td>\n",
              "      <td>16/08/2020</td>\n",
              "      <td>16/08/2020</td>\n",
              "      <td>NaN</td>\n",
              "      <td>RECUPERADO</td>\n",
              "      <td>NAO</td>\n",
              "      <td>NAO</td>\n",
              "      <td>NAO</td>\n",
              "      <td>NAO</td>\n",
              "      <td>NAO</td>\n",
              "      <td>SIM</td>\n",
              "      <td>NaN</td>\n",
              "      <td>NAO</td>\n",
              "      <td>NaN</td>\n",
              "      <td>30/08/2020</td>\n",
              "      <td>BRANCA</td>\n",
              "      <td>NAO ENCONTRADO</td>\n",
              "      <td>NAO</td>\n",
              "      <td>CENTRO</td>\n",
              "      <td>NAO</td>\n",
              "      <td>E-SUS</td>\n",
              "      <td>BRASIL</td>\n",
              "      <td>NAO</td>\n",
              "    </tr>\n",
              "    <tr>\n",
              "      <th>254824</th>\n",
              "      <td>432380</td>\n",
              "      <td>XANGRI-LÁ</td>\n",
              "      <td>3</td>\n",
              "      <td>CAPAO DA CANOA - R04 R05</td>\n",
              "      <td>Masculino</td>\n",
              "      <td>20 a 29</td>\n",
              "      <td>TESTE RÁPIDO</td>\n",
              "      <td>20/08/2020</td>\n",
              "      <td>20/08/2020</td>\n",
              "      <td>NaN</td>\n",
              "      <td>RECUPERADO</td>\n",
              "      <td>NAO</td>\n",
              "      <td>NAO</td>\n",
              "      <td>NAO</td>\n",
              "      <td>NAO</td>\n",
              "      <td>NAO</td>\n",
              "      <td>SIM</td>\n",
              "      <td>NaN</td>\n",
              "      <td>NAO</td>\n",
              "      <td>NaN</td>\n",
              "      <td>03/09/2020</td>\n",
              "      <td>BRANCA</td>\n",
              "      <td>NAO ENCONTRADO</td>\n",
              "      <td>NAO</td>\n",
              "      <td>ATLANTIDA</td>\n",
              "      <td>NAO</td>\n",
              "      <td>E-SUS</td>\n",
              "      <td>BRASIL</td>\n",
              "      <td>NAO</td>\n",
              "    </tr>\n",
              "    <tr>\n",
              "      <th>254825</th>\n",
              "      <td>432380</td>\n",
              "      <td>XANGRI-LÁ</td>\n",
              "      <td>3</td>\n",
              "      <td>CAPAO DA CANOA - R04 R05</td>\n",
              "      <td>Masculino</td>\n",
              "      <td>50 a 59</td>\n",
              "      <td>RT-PCR</td>\n",
              "      <td>07/08/2020</td>\n",
              "      <td>02/08/2020</td>\n",
              "      <td>NaN</td>\n",
              "      <td>RECUPERADO</td>\n",
              "      <td>NAO</td>\n",
              "      <td>SIM</td>\n",
              "      <td>NAO</td>\n",
              "      <td>NAO</td>\n",
              "      <td>NAO</td>\n",
              "      <td>SIM</td>\n",
              "      <td>NaN</td>\n",
              "      <td>NAO</td>\n",
              "      <td>NaN</td>\n",
              "      <td>16/08/2020</td>\n",
              "      <td>PRETA</td>\n",
              "      <td>NAO ENCONTRADO</td>\n",
              "      <td>NAO</td>\n",
              "      <td>RAINHA DO MAR</td>\n",
              "      <td>NAO</td>\n",
              "      <td>E-SUS</td>\n",
              "      <td>BRASIL</td>\n",
              "      <td>NAO</td>\n",
              "    </tr>\n",
              "    <tr>\n",
              "      <th>254826</th>\n",
              "      <td>432380</td>\n",
              "      <td>XANGRI-LÁ</td>\n",
              "      <td>3</td>\n",
              "      <td>CAPAO DA CANOA - R04 R05</td>\n",
              "      <td>Masculino</td>\n",
              "      <td>50 a 59</td>\n",
              "      <td>RT-PCR</td>\n",
              "      <td>10/08/2020</td>\n",
              "      <td>02/08/2020</td>\n",
              "      <td>NaN</td>\n",
              "      <td>RECUPERADO</td>\n",
              "      <td>NAO</td>\n",
              "      <td>SIM</td>\n",
              "      <td>NAO</td>\n",
              "      <td>SIM</td>\n",
              "      <td>NAO</td>\n",
              "      <td>SIM</td>\n",
              "      <td>NaN</td>\n",
              "      <td>NAO</td>\n",
              "      <td>NaN</td>\n",
              "      <td>16/08/2020</td>\n",
              "      <td>BRANCA</td>\n",
              "      <td>NAO ENCONTRADO</td>\n",
              "      <td>NAO</td>\n",
              "      <td>GUARA</td>\n",
              "      <td>NAO</td>\n",
              "      <td>E-SUS</td>\n",
              "      <td>BRASIL</td>\n",
              "      <td>NAO</td>\n",
              "    </tr>\n",
              "    <tr>\n",
              "      <th>254827</th>\n",
              "      <td>432380</td>\n",
              "      <td>XANGRI-LÁ</td>\n",
              "      <td>3</td>\n",
              "      <td>CAPAO DA CANOA - R04 R05</td>\n",
              "      <td>Feminino</td>\n",
              "      <td>20 a 29</td>\n",
              "      <td>RT-PCR</td>\n",
              "      <td>03/08/2020</td>\n",
              "      <td>30/07/2020</td>\n",
              "      <td>NaN</td>\n",
              "      <td>RECUPERADO</td>\n",
              "      <td>NAO</td>\n",
              "      <td>NAO</td>\n",
              "      <td>NAO</td>\n",
              "      <td>SIM</td>\n",
              "      <td>NAO</td>\n",
              "      <td>SIM</td>\n",
              "      <td>NaN</td>\n",
              "      <td>NAO</td>\n",
              "      <td>NaN</td>\n",
              "      <td>13/08/2020</td>\n",
              "      <td>BRANCA</td>\n",
              "      <td>NAO ENCONTRADO</td>\n",
              "      <td>NAO</td>\n",
              "      <td>CENTRO</td>\n",
              "      <td>NAO</td>\n",
              "      <td>E-SUS</td>\n",
              "      <td>BRASIL</td>\n",
              "      <td>NAO</td>\n",
              "    </tr>\n",
              "  </tbody>\n",
              "</table>\n",
              "<p>254828 rows × 29 columns</p>\n",
              "</div>"
            ],
            "text/plain": [
              "        COD_IBGE   MUNICIPIO  ...  PAIS_NASCIMENTO PES_PRIV_LIBERDADE\n",
              "0         430003      ACEGUÁ  ...           BRASIL                NAO\n",
              "1         430003      ACEGUÁ  ...           BRASIL                NAO\n",
              "2         430003      ACEGUÁ  ...           BRASIL                NAO\n",
              "3         430003      ACEGUÁ  ...           BRASIL                NAO\n",
              "4         430005  ÁGUA SANTA  ...           BRASIL                NAO\n",
              "...          ...         ...  ...              ...                ...\n",
              "254823    432380   XANGRI-LÁ  ...           BRASIL                NAO\n",
              "254824    432380   XANGRI-LÁ  ...           BRASIL                NAO\n",
              "254825    432380   XANGRI-LÁ  ...           BRASIL                NAO\n",
              "254826    432380   XANGRI-LÁ  ...           BRASIL                NAO\n",
              "254827    432380   XANGRI-LÁ  ...           BRASIL                NAO\n",
              "\n",
              "[254828 rows x 29 columns]"
            ]
          },
          "metadata": {
            "tags": []
          },
          "execution_count": 131
        }
      ]
    },
    {
      "cell_type": "markdown",
      "metadata": {
        "id": "YFEtfTzVCtCv"
      },
      "source": [
        "# 2 Preparação dos dados\n",
        "\n",
        "Nessa etapa, foi preciso converter os atributos categóricos para numéricos, ajustando o conteúdo dos atributos às restrições dos modelos utilizados no processo de Aprendizado de Máquina."
      ]
    },
    {
      "cell_type": "markdown",
      "metadata": {
        "id": "E6g7YmIRFPTW"
      },
      "source": [
        "### 2.1 Tratando dados faltantes ou não-numéricos\n",
        "Algumas colunas possuem \"NaN\" (Not a Number) ou \"NaT\" (Not a Time), indicando que são valores faltantes. Além disso, há colunas com tipos variados de registros, que não podem ser binarizados. \n",
        "\n",
        "*Ressalta-se que esta etapa considerou apenas dados potenciais utilizados no experimento.*\n",
        "\n"
      ]
    },
    {
      "cell_type": "markdown",
      "metadata": {
        "id": "zhI_oNGdL6RY"
      },
      "source": [
        "####2.1.1 Tratando colunas `FEBRE, TOSSE, GARGANTA e DISPENEIA`[texto do link](https://)"
      ]
    },
    {
      "cell_type": "code",
      "metadata": {
        "id": "j-uk96MPKBKX",
        "outputId": "4b09b5dd-f0b7-42b4-9582-332b78c43356",
        "colab": {
          "base_uri": "https://localhost:8080/",
          "height": 437
        }
      },
      "source": [
        "rows = []\n",
        "for column in dados.columns:\n",
        "  row = {'coluna': column, 'nans': dados[column].isnull().sum(), 'frac_nans': dados[column].isnull().sum() / dados.shape[0]}\n",
        "  rows.append(row)\n",
        "res = pd.DataFrame(rows)\n",
        "res[res.nans>0].sort_values('nans', ascending=False)"
      ],
      "execution_count": 132,
      "outputs": [
        {
          "output_type": "execute_result",
          "data": {
            "text/html": [
              "<div>\n",
              "<style scoped>\n",
              "    .dataframe tbody tr th:only-of-type {\n",
              "        vertical-align: middle;\n",
              "    }\n",
              "\n",
              "    .dataframe tbody tr th {\n",
              "        vertical-align: top;\n",
              "    }\n",
              "\n",
              "    .dataframe thead th {\n",
              "        text-align: right;\n",
              "    }\n",
              "</style>\n",
              "<table border=\"1\" class=\"dataframe\">\n",
              "  <thead>\n",
              "    <tr style=\"text-align: right;\">\n",
              "      <th></th>\n",
              "      <th>coluna</th>\n",
              "      <th>nans</th>\n",
              "      <th>frac_nans</th>\n",
              "    </tr>\n",
              "  </thead>\n",
              "  <tbody>\n",
              "    <tr>\n",
              "      <th>19</th>\n",
              "      <td>DATA_INCLUSAO_OBITO</td>\n",
              "      <td>248874</td>\n",
              "      <td>0.976635</td>\n",
              "    </tr>\n",
              "    <tr>\n",
              "      <th>9</th>\n",
              "      <td>DATA_EVOLUCAO</td>\n",
              "      <td>235978</td>\n",
              "      <td>0.926029</td>\n",
              "    </tr>\n",
              "    <tr>\n",
              "      <th>17</th>\n",
              "      <td>CONDICOES</td>\n",
              "      <td>214755</td>\n",
              "      <td>0.842745</td>\n",
              "    </tr>\n",
              "    <tr>\n",
              "      <th>20</th>\n",
              "      <td>DATA_EVOLUCAO_ESTIMADA</td>\n",
              "      <td>28088</td>\n",
              "      <td>0.110223</td>\n",
              "    </tr>\n",
              "    <tr>\n",
              "      <th>27</th>\n",
              "      <td>PAIS_NASCIMENTO</td>\n",
              "      <td>11946</td>\n",
              "      <td>0.046879</td>\n",
              "    </tr>\n",
              "    <tr>\n",
              "      <th>22</th>\n",
              "      <td>ETNIA_INDIGENA</td>\n",
              "      <td>11592</td>\n",
              "      <td>0.045490</td>\n",
              "    </tr>\n",
              "    <tr>\n",
              "      <th>24</th>\n",
              "      <td>BAIRRO</td>\n",
              "      <td>4966</td>\n",
              "      <td>0.019488</td>\n",
              "    </tr>\n",
              "    <tr>\n",
              "      <th>15</th>\n",
              "      <td>DISPNEIA</td>\n",
              "      <td>3033</td>\n",
              "      <td>0.011902</td>\n",
              "    </tr>\n",
              "    <tr>\n",
              "      <th>12</th>\n",
              "      <td>FEBRE</td>\n",
              "      <td>20</td>\n",
              "      <td>0.000078</td>\n",
              "    </tr>\n",
              "    <tr>\n",
              "      <th>13</th>\n",
              "      <td>TOSSE</td>\n",
              "      <td>20</td>\n",
              "      <td>0.000078</td>\n",
              "    </tr>\n",
              "    <tr>\n",
              "      <th>14</th>\n",
              "      <td>GARGANTA</td>\n",
              "      <td>20</td>\n",
              "      <td>0.000078</td>\n",
              "    </tr>\n",
              "    <tr>\n",
              "      <th>16</th>\n",
              "      <td>OUTROS</td>\n",
              "      <td>20</td>\n",
              "      <td>0.000078</td>\n",
              "    </tr>\n",
              "    <tr>\n",
              "      <th>26</th>\n",
              "      <td>FONTE_INFORMACAO</td>\n",
              "      <td>14</td>\n",
              "      <td>0.000055</td>\n",
              "    </tr>\n",
              "  </tbody>\n",
              "</table>\n",
              "</div>"
            ],
            "text/plain": [
              "                    coluna    nans  frac_nans\n",
              "19     DATA_INCLUSAO_OBITO  248874   0.976635\n",
              "9            DATA_EVOLUCAO  235978   0.926029\n",
              "17               CONDICOES  214755   0.842745\n",
              "20  DATA_EVOLUCAO_ESTIMADA   28088   0.110223\n",
              "27         PAIS_NASCIMENTO   11946   0.046879\n",
              "22          ETNIA_INDIGENA   11592   0.045490\n",
              "24                  BAIRRO    4966   0.019488\n",
              "15                DISPNEIA    3033   0.011902\n",
              "12                   FEBRE      20   0.000078\n",
              "13                   TOSSE      20   0.000078\n",
              "14                GARGANTA      20   0.000078\n",
              "16                  OUTROS      20   0.000078\n",
              "26        FONTE_INFORMACAO      14   0.000055"
            ]
          },
          "metadata": {
            "tags": []
          },
          "execution_count": 132
        }
      ]
    },
    {
      "cell_type": "markdown",
      "metadata": {
        "id": "awao2FmWLhra"
      },
      "source": [
        "a) Tratando a coluna `DISPNEIA`, com 3033 (1%) dos valores faltantes, preenchendo com valores aleatórios, mas que seguem a distribuição dos dados."
      ]
    },
    {
      "cell_type": "code",
      "metadata": {
        "id": "z-SvumWbLSMZ",
        "outputId": "2fade28a-7ce0-469d-d271-508b484405be",
        "colab": {
          "base_uri": "https://localhost:8080/"
        }
      },
      "source": [
        "dist = dados[\"DISPNEIA\"].value_counts(normalize=True)\n",
        "faltantes = dados['DISPNEIA'].isnull()\n",
        "dados.loc[faltantes,'DISPNEIA'] = np.random.choice(dist.index, size=len(dados[faltantes]), p=dist.values)\n",
        "\n",
        "# Testando para ver se não há mais valores faltantes\n",
        "dados[\"DISPNEIA\"].isnull().any()"
      ],
      "execution_count": 133,
      "outputs": [
        {
          "output_type": "execute_result",
          "data": {
            "text/plain": [
              "False"
            ]
          },
          "metadata": {
            "tags": []
          },
          "execution_count": 133
        }
      ]
    },
    {
      "cell_type": "markdown",
      "metadata": {
        "id": "p7VOGUT0QLac"
      },
      "source": [
        "b) Tratando a coluna `FEBRE`, preenchendo os dados faltantes com valores aleatórios."
      ]
    },
    {
      "cell_type": "code",
      "metadata": {
        "id": "Bjzo3b8CV_hb",
        "outputId": "e453bb8e-0f1e-4e45-ef4f-66f321d43112",
        "colab": {
          "base_uri": "https://localhost:8080/"
        }
      },
      "source": [
        "dist = dados[\"FEBRE\"].value_counts(normalize=True)\n",
        "faltantes = dados['FEBRE'].isnull()\n",
        "dados.loc[faltantes,'FEBRE'] = np.random.choice(dist.index, size=len(dados[faltantes]), p=dist.values)\n",
        "\n",
        "# Testando para ver se não há mais valores faltantes\n",
        "dados[\"FEBRE\"].isnull().any()"
      ],
      "execution_count": 139,
      "outputs": [
        {
          "output_type": "execute_result",
          "data": {
            "text/plain": [
              "False"
            ]
          },
          "metadata": {
            "tags": []
          },
          "execution_count": 139
        }
      ]
    },
    {
      "cell_type": "markdown",
      "metadata": {
        "id": "q_vmuGtNQ3iX"
      },
      "source": [
        "c) Tratando a coluna `TOSSE`, preenchendo os dados faltantes com valores aleatórios."
      ]
    },
    {
      "cell_type": "code",
      "metadata": {
        "id": "SjveUT6jWFVL",
        "outputId": "391cacff-655f-4c27-b11a-a13e4d676077",
        "colab": {
          "base_uri": "https://localhost:8080/"
        }
      },
      "source": [
        "dist = dados[\"TOSSE\"].value_counts(normalize=True)\n",
        "faltantes = dados['TOSSE'].isnull()\n",
        "dados.loc[faltantes,'TOSSE'] = np.random.choice(dist.index, size=len(dados[faltantes]), p=dist.values)\n",
        "\n",
        "# Testando para ver se não há mais valores faltantes\n",
        "dados[\"TOSSE\"].isnull().any()"
      ],
      "execution_count": 140,
      "outputs": [
        {
          "output_type": "execute_result",
          "data": {
            "text/plain": [
              "False"
            ]
          },
          "metadata": {
            "tags": []
          },
          "execution_count": 140
        }
      ]
    },
    {
      "cell_type": "markdown",
      "metadata": {
        "id": "1xMJMjBTQ7uA"
      },
      "source": [
        "d) Tratando a coluna `GARGANTA`, preenchendo os dados faltantes com valores aleatórios"
      ]
    },
    {
      "cell_type": "code",
      "metadata": {
        "id": "JsAcctG8WV00",
        "outputId": "d9d3adb5-4c5c-423a-d65e-11c1a3f6e71f",
        "colab": {
          "base_uri": "https://localhost:8080/"
        }
      },
      "source": [
        "dist = dados[\"GARGANTA\"].value_counts(normalize=True)\n",
        "faltantes = dados['GARGANTA'].isnull()\n",
        "dados.loc[faltantes,'GARGANTA'] = np.random.choice(dist.index, size=len(dados[faltantes]), p=dist.values)\n",
        "\n",
        "# Testando para ver se não há mais valores faltantes\n",
        "dados[\"GARGANTA\"].isnull().any()"
      ],
      "execution_count": 142,
      "outputs": [
        {
          "output_type": "execute_result",
          "data": {
            "text/plain": [
              "False"
            ]
          },
          "metadata": {
            "tags": []
          },
          "execution_count": 142
        }
      ]
    },
    {
      "cell_type": "markdown",
      "metadata": {
        "id": "3toyGr0Xujdv"
      },
      "source": [
        "e) Tratando a coluna `OUTROS`, preenchendo os dados faltantes com valores aleatórios"
      ]
    },
    {
      "cell_type": "code",
      "metadata": {
        "id": "AHpT5JzHuqd_",
        "outputId": "bfd1d7a1-6c92-4029-a5e8-77a8ff1f05ae",
        "colab": {
          "base_uri": "https://localhost:8080/"
        }
      },
      "source": [
        "dist = dados[\"OUTROS\"].value_counts(normalize=True)\n",
        "faltantes = dados['OUTROS'].isnull()\n",
        "dados.loc[faltantes,'OUTROS'] = np.random.choice(dist.index, size=len(dados[faltantes]), p=dist.values)\n",
        "\n",
        "# Testando para ver se não há mais valores faltantes\n",
        "dados[\"OUTROS\"].isnull().any()"
      ],
      "execution_count": 143,
      "outputs": [
        {
          "output_type": "execute_result",
          "data": {
            "text/plain": [
              "False"
            ]
          },
          "metadata": {
            "tags": []
          },
          "execution_count": 143
        }
      ]
    },
    {
      "cell_type": "markdown",
      "metadata": {
        "id": "-0KP1KHyKj28"
      },
      "source": [
        "####2.1.2 Tratando coluna `PROFISSIONAL_SAUDE`, com registros SIM, NAO e NAO INFORMADO "
      ]
    },
    {
      "cell_type": "markdown",
      "metadata": {
        "id": "X-m-iNrKc_ia"
      },
      "source": [
        "Optou-se por esta coluna, considerando que os `Profissionais da Saúde` são indivíduos que circulam em espaços onde é realizado o atendimento de pacientes infectadas, com isso, podem ter maior chances de serem infectados."
      ]
    },
    {
      "cell_type": "code",
      "metadata": {
        "id": "LX_BVYYHKi-W",
        "outputId": "a565304f-5269-4ad7-9a18-8e49b084aafc",
        "colab": {
          "base_uri": "https://localhost:8080/"
        }
      },
      "source": [
        "dados['PROFISSIONAL_SAUDE']"
      ],
      "execution_count": 144,
      "outputs": [
        {
          "output_type": "execute_result",
          "data": {
            "text/plain": [
              "0         NAO INFORMADO\n",
              "1                   NAO\n",
              "2                   NAO\n",
              "3                   NAO\n",
              "4                   NAO\n",
              "              ...      \n",
              "254823              NAO\n",
              "254824              NAO\n",
              "254825              NAO\n",
              "254826              NAO\n",
              "254827              NAO\n",
              "Name: PROFISSIONAL_SAUDE, Length: 254828, dtype: object"
            ]
          },
          "metadata": {
            "tags": []
          },
          "execution_count": 144
        }
      ]
    },
    {
      "cell_type": "code",
      "metadata": {
        "id": "RWS1f3x7Wjgq",
        "outputId": "e2df3814-23b5-4024-bf6c-3ea08392191e",
        "colab": {
          "base_uri": "https://localhost:8080/"
        }
      },
      "source": [
        "dados[\"PROFISSIONAL_SAUDE\"] = dados[\"PROFISSIONAL_SAUDE\"].apply(lambda x: '1' if x=='SIM' else '0')\n",
        "\n",
        "# Testando para ver se não há mais valores faltantes\n",
        "dados[\"PROFISSIONAL_SAUDE\"].isnull().any()"
      ],
      "execution_count": 147,
      "outputs": [
        {
          "output_type": "execute_result",
          "data": {
            "text/plain": [
              "False"
            ]
          },
          "metadata": {
            "tags": []
          },
          "execution_count": 147
        }
      ]
    },
    {
      "cell_type": "markdown",
      "metadata": {
        "id": "1UtnC3XUXGQa"
      },
      "source": [
        "##2.2 Tranformando outro valores de String para Valores numéricos\n",
        "\n"
      ]
    },
    {
      "cell_type": "code",
      "metadata": {
        "id": "tuzxxgpGINVk",
        "outputId": "e640e26c-e413-404f-e1d3-5e9215584076",
        "colab": {
          "base_uri": "https://localhost:8080/",
          "height": 442
        }
      },
      "source": [
        "#Problemas de ML trabalham melhor com dados numéricos\n",
        "\n",
        "dados[\"SEXO\"]= dados[\"SEXO\"].apply(lambda x: '1' if x=='Masculino' else '0')\n",
        "dados[\"FEBRE\"]= dados[\"FEBRE\"].apply(lambda x: '1' if x=='SIM' else '0')\n",
        "dados[\"GARGANTA\"]= dados[\"GARGANTA\"].apply(lambda x: '1' if x=='SIM' else '0')\n",
        "dados[\"TOSSE\"]= dados[\"TOSSE\"].apply(lambda x: '1' if x=='SIM' else '0')\n",
        "dados[\"DISPNEIA\"]= dados[\"DISPNEIA\"].apply(lambda x: '1' if x=='SIM' else '0')\n",
        "dados[\"HOSPITALIZADO\"]= dados[\"HOSPITALIZADO\"].apply(lambda x: '1' if x=='SIM' else '0')\n",
        "dados[\"OUTROS\"] = dados[\"OUTROS\"].apply(lambda x: '1' if x=='SIM' else '0')\n",
        "\n",
        "#Fitro com dados definidos como importantes para o modelo\n",
        "dados = dados[['SEXO', 'FEBRE', 'TOSSE', 'GARGANTA',\n",
        "               'DISPNEIA', 'PROFISSIONAL_SAUDE', 'OUTROS', 'HOSPITALIZADO']].reset_index(drop=True)\n",
        "\n",
        "print (\"Valores ajustados e atributos considerados selecionados!\\n\")\n",
        "dados"
      ],
      "execution_count": 148,
      "outputs": [
        {
          "output_type": "stream",
          "text": [
            "Valores ajustados e atributos considerados selecionados!\n",
            "\n"
          ],
          "name": "stdout"
        },
        {
          "output_type": "execute_result",
          "data": {
            "text/html": [
              "<div>\n",
              "<style scoped>\n",
              "    .dataframe tbody tr th:only-of-type {\n",
              "        vertical-align: middle;\n",
              "    }\n",
              "\n",
              "    .dataframe tbody tr th {\n",
              "        vertical-align: top;\n",
              "    }\n",
              "\n",
              "    .dataframe thead th {\n",
              "        text-align: right;\n",
              "    }\n",
              "</style>\n",
              "<table border=\"1\" class=\"dataframe\">\n",
              "  <thead>\n",
              "    <tr style=\"text-align: right;\">\n",
              "      <th></th>\n",
              "      <th>SEXO</th>\n",
              "      <th>FEBRE</th>\n",
              "      <th>TOSSE</th>\n",
              "      <th>GARGANTA</th>\n",
              "      <th>DISPNEIA</th>\n",
              "      <th>PROFISSIONAL_SAUDE</th>\n",
              "      <th>OUTROS</th>\n",
              "      <th>HOSPITALIZADO</th>\n",
              "    </tr>\n",
              "  </thead>\n",
              "  <tbody>\n",
              "    <tr>\n",
              "      <th>0</th>\n",
              "      <td>0</td>\n",
              "      <td>1</td>\n",
              "      <td>0</td>\n",
              "      <td>1</td>\n",
              "      <td>0</td>\n",
              "      <td>0</td>\n",
              "      <td>0</td>\n",
              "      <td>0</td>\n",
              "    </tr>\n",
              "    <tr>\n",
              "      <th>1</th>\n",
              "      <td>0</td>\n",
              "      <td>0</td>\n",
              "      <td>0</td>\n",
              "      <td>0</td>\n",
              "      <td>0</td>\n",
              "      <td>0</td>\n",
              "      <td>0</td>\n",
              "      <td>0</td>\n",
              "    </tr>\n",
              "    <tr>\n",
              "      <th>2</th>\n",
              "      <td>1</td>\n",
              "      <td>0</td>\n",
              "      <td>0</td>\n",
              "      <td>0</td>\n",
              "      <td>0</td>\n",
              "      <td>0</td>\n",
              "      <td>0</td>\n",
              "      <td>0</td>\n",
              "    </tr>\n",
              "    <tr>\n",
              "      <th>3</th>\n",
              "      <td>0</td>\n",
              "      <td>0</td>\n",
              "      <td>0</td>\n",
              "      <td>0</td>\n",
              "      <td>0</td>\n",
              "      <td>0</td>\n",
              "      <td>0</td>\n",
              "      <td>0</td>\n",
              "    </tr>\n",
              "    <tr>\n",
              "      <th>4</th>\n",
              "      <td>0</td>\n",
              "      <td>0</td>\n",
              "      <td>1</td>\n",
              "      <td>1</td>\n",
              "      <td>0</td>\n",
              "      <td>0</td>\n",
              "      <td>0</td>\n",
              "      <td>0</td>\n",
              "    </tr>\n",
              "    <tr>\n",
              "      <th>...</th>\n",
              "      <td>...</td>\n",
              "      <td>...</td>\n",
              "      <td>...</td>\n",
              "      <td>...</td>\n",
              "      <td>...</td>\n",
              "      <td>...</td>\n",
              "      <td>...</td>\n",
              "      <td>...</td>\n",
              "    </tr>\n",
              "    <tr>\n",
              "      <th>254823</th>\n",
              "      <td>0</td>\n",
              "      <td>0</td>\n",
              "      <td>0</td>\n",
              "      <td>0</td>\n",
              "      <td>0</td>\n",
              "      <td>0</td>\n",
              "      <td>0</td>\n",
              "      <td>0</td>\n",
              "    </tr>\n",
              "    <tr>\n",
              "      <th>254824</th>\n",
              "      <td>1</td>\n",
              "      <td>0</td>\n",
              "      <td>0</td>\n",
              "      <td>0</td>\n",
              "      <td>0</td>\n",
              "      <td>0</td>\n",
              "      <td>0</td>\n",
              "      <td>0</td>\n",
              "    </tr>\n",
              "    <tr>\n",
              "      <th>254825</th>\n",
              "      <td>1</td>\n",
              "      <td>1</td>\n",
              "      <td>0</td>\n",
              "      <td>0</td>\n",
              "      <td>0</td>\n",
              "      <td>0</td>\n",
              "      <td>0</td>\n",
              "      <td>0</td>\n",
              "    </tr>\n",
              "    <tr>\n",
              "      <th>254826</th>\n",
              "      <td>1</td>\n",
              "      <td>1</td>\n",
              "      <td>0</td>\n",
              "      <td>1</td>\n",
              "      <td>0</td>\n",
              "      <td>0</td>\n",
              "      <td>0</td>\n",
              "      <td>0</td>\n",
              "    </tr>\n",
              "    <tr>\n",
              "      <th>254827</th>\n",
              "      <td>0</td>\n",
              "      <td>0</td>\n",
              "      <td>0</td>\n",
              "      <td>1</td>\n",
              "      <td>0</td>\n",
              "      <td>0</td>\n",
              "      <td>0</td>\n",
              "      <td>0</td>\n",
              "    </tr>\n",
              "  </tbody>\n",
              "</table>\n",
              "<p>254828 rows × 8 columns</p>\n",
              "</div>"
            ],
            "text/plain": [
              "       SEXO FEBRE TOSSE  ... PROFISSIONAL_SAUDE OUTROS HOSPITALIZADO\n",
              "0         0     1     0  ...                  0      0             0\n",
              "1         0     0     0  ...                  0      0             0\n",
              "2         1     0     0  ...                  0      0             0\n",
              "3         0     0     0  ...                  0      0             0\n",
              "4         0     0     1  ...                  0      0             0\n",
              "...     ...   ...   ...  ...                ...    ...           ...\n",
              "254823    0     0     0  ...                  0      0             0\n",
              "254824    1     0     0  ...                  0      0             0\n",
              "254825    1     1     0  ...                  0      0             0\n",
              "254826    1     1     0  ...                  0      0             0\n",
              "254827    0     0     0  ...                  0      0             0\n",
              "\n",
              "[254828 rows x 8 columns]"
            ]
          },
          "metadata": {
            "tags": []
          },
          "execution_count": 148
        }
      ]
    },
    {
      "cell_type": "markdown",
      "metadata": {
        "id": "4vtLZqpIZnfk"
      },
      "source": [
        "\n",
        "#3 Treinamento\n",
        "\n",
        "a. Atributo alvo: 'HOSPITALIZADO'\n"
      ]
    },
    {
      "cell_type": "code",
      "metadata": {
        "id": "oNi81IRV9RC_",
        "outputId": "639f6f2a-5d50-4a5d-d757-7563e3f9dc56",
        "colab": {
          "base_uri": "https://localhost:8080/"
        }
      },
      "source": [
        "dados['HOSPITALIZADO']= dados['HOSPITALIZADO'].astype(int)\n",
        "nhosp = (dados['HOSPITALIZADO'].count()) -(dados['HOSPITALIZADO'].sum())\n",
        "print (\"Total de registros: \", dados['HOSPITALIZADO'].count(), \n",
        "       \"\\nNão Hospitalizados: \", nhosp,\n",
        "       \"\\nHospitalizados:\\t     \", dados['HOSPITALIZADO'].sum())"
      ],
      "execution_count": 149,
      "outputs": [
        {
          "output_type": "stream",
          "text": [
            "Total de registros:  254828 \n",
            "Não Hospitalizados:  234299 \n",
            "Hospitalizados:\t      20529\n"
          ],
          "name": "stdout"
        }
      ]
    },
    {
      "cell_type": "markdown",
      "metadata": {
        "id": "6TQI_jnG8MVW"
      },
      "source": [
        "###3.1 Método SKLearn"
      ]
    },
    {
      "cell_type": "code",
      "metadata": {
        "id": "b1eUoHVUr0M-"
      },
      "source": [
        "# O método train_test_split será utilizado para separação dos conjuntos, considerando 20% de dados de teste\n",
        "from sklearn.model_selection import train_test_split\n",
        "\n",
        "treino, teste = train_test_split(dados, test_size=0.2)\n"
      ],
      "execution_count": 162,
      "outputs": []
    },
    {
      "cell_type": "markdown",
      "metadata": {
        "id": "Yr0nplm0is7T"
      },
      "source": [
        "####3.1.1 Árvores de decisão (Decision Tree)\n",
        "\n",
        "Este foi o modelo utilizado para prever o valor da variável destinométo. Trata-se de uma método de aprendizado supervisionado não paramétrico usado para classificação e regressão, que aprende a partir de regras de decisão simples inferidas dos recursos de dados.\n",
        "\n",
        "Fonte: https://scikit-learn.org/stable/modules/tree.html"
      ]
    },
    {
      "cell_type": "code",
      "metadata": {
        "id": "4rPcYRBLu4Sx",
        "outputId": "a25dabdb-f2bd-42b9-8edb-37824432c0b2",
        "colab": {
          "base_uri": "https://localhost:8080/"
        }
      },
      "source": [
        "# DecisionTreeClassifier é uma classe capaz de realizar classificação multiclasse em um conjunto de dados.\n",
        "from sklearn.tree import DecisionTreeClassifier \n",
        "\n",
        "modelo = DecisionTreeClassifier(random_state=0, criterion=\"entropy\")\n",
        "\n",
        "X_treino = treino.drop('HOSPITALIZADO', axis='columns')\n",
        "y_treino = treino['HOSPITALIZADO']\n",
        "\n",
        "print (\"X Colunas selecionadas:\\n\", X_treino)\n",
        "print (\"Y Linhas selecionadas:\\n\", y_treino)\n",
        "\n",
        "modelo_treinado = modelo.fit(X_treino, y_treino)\n",
        "\n",
        "print (\"\\n\\nModelo de treinamento:\\n\", modelo_treinado)"
      ],
      "execution_count": 163,
      "outputs": [
        {
          "output_type": "stream",
          "text": [
            "X Colunas selecionadas:\n",
            "        SEXO FEBRE TOSSE GARGANTA DISPNEIA PROFISSIONAL_SAUDE OUTROS\n",
            "83073     1     0     0        0        0                  0      0\n",
            "148807    1     1     1        1        0                  0      0\n",
            "227787    0     1     0        1        0                  0      0\n",
            "105242    0     0     0        0        0                  0      0\n",
            "25077     0     0     1        1        0                  0      0\n",
            "...     ...   ...   ...      ...      ...                ...    ...\n",
            "102013    1     1     1        1        0                  0      0\n",
            "13317     1     0     0        1        0                  0      0\n",
            "25978     1     0     0        0        0                  0      0\n",
            "176108    1     0     0        0        0                  0      0\n",
            "136034    1     0     0        0        1                  0      0\n",
            "\n",
            "[203862 rows x 7 columns]\n",
            "Y Linhas selecionadas:\n",
            " 83073     0\n",
            "148807    0\n",
            "227787    0\n",
            "105242    0\n",
            "25077     0\n",
            "         ..\n",
            "102013    0\n",
            "13317     0\n",
            "25978     0\n",
            "176108    0\n",
            "136034    0\n",
            "Name: HOSPITALIZADO, Length: 203862, dtype: int64\n",
            "\n",
            "\n",
            "Modelo de treinamento:\n",
            " DecisionTreeClassifier(ccp_alpha=0.0, class_weight=None, criterion='entropy',\n",
            "                       max_depth=None, max_features=None, max_leaf_nodes=None,\n",
            "                       min_impurity_decrease=0.0, min_impurity_split=None,\n",
            "                       min_samples_leaf=1, min_samples_split=2,\n",
            "                       min_weight_fraction_leaf=0.0, presort='deprecated',\n",
            "                       random_state=0, splitter='best')\n"
          ],
          "name": "stdout"
        }
      ]
    },
    {
      "cell_type": "markdown",
      "metadata": {
        "id": "e0I9bcs6l0yr"
      },
      "source": [
        "Depois de treinado, pode-se plotar a árvore com a função `plot_tree`. \n",
        "\n",
        "Techo abaixo foi comentado, pois é apenas ilustrativo."
      ]
    },
    {
      "cell_type": "code",
      "metadata": {
        "id": "kAlcPDahlPhA"
      },
      "source": [
        "from sklearn import tree\n",
        "#tree.plot_tree(modelo_treinado) "
      ],
      "execution_count": 106,
      "outputs": []
    },
    {
      "cell_type": "markdown",
      "metadata": {
        "id": "CeSL8nx2FK67"
      },
      "source": [
        "###3.2 Avaliação do modelo\n",
        "\n",
        "Com o modelo treinado, temos que avaliá-lo no conjunto de teste. O sklearn implementa boa parte das métricas, bem como permite mostrar a matriz de confusão completa (CM). \n",
        "\n",
        "*CM mostra as frequências de classificação para cada classe do modelo*."
      ]
    },
    {
      "cell_type": "code",
      "metadata": {
        "id": "Jv4GVeW3xuGq",
        "outputId": "5199c4ad-3625-4496-fd93-8d3fc7699723",
        "colab": {
          "base_uri": "https://localhost:8080/"
        }
      },
      "source": [
        "from sklearn.metrics import accuracy_score\n",
        "\n",
        "# Separando os atributos e classes dos dados de teste\n",
        "X_teste = teste.drop('HOSPITALIZADO', axis='columns')\n",
        "y_teste = teste['HOSPITALIZADO']\n",
        "\n",
        "# Passamos os exemplos sem classe pelo modelo treinado, que retorna a predicao em um vetor\n",
        "predicoes = modelo_treinado.predict(X_teste)\n",
        "\n",
        "# Com as predicoes, podemos calcular as métricas. Abaixo, a acurácia.\n",
        "# Observe que sempre passamos os valores verdadeiros (y_teste) e depois as predicoes\n",
        "acuracia = accuracy_score(y_teste, predicoes)\n",
        "print(\"Acurácia do modelo: \", f\"{acuracia:.1%}\")\n",
        "print(\"Diz quanto o meu modelo acertou das previsões possíveis\")"
      ],
      "execution_count": 165,
      "outputs": [
        {
          "output_type": "stream",
          "text": [
            "Acurácia do modelo:  92.1%\n",
            "Diz quanto o meu modelo acertou das previsões possíveis\n"
          ],
          "name": "stdout"
        }
      ]
    },
    {
      "cell_type": "markdown",
      "metadata": {
        "id": "YhBCauoj7SJc"
      },
      "source": [
        "###3.1.2 Matriz de Confusão\n",
        "\n",
        " A matriz de confusão apresenta uma precisão de **94%** para os casos que não demandam hospitalização '**0**', considerado melhor para os casos que demandam de hospitalização '**1**', que apresentou precisão de **52%**, conforme demonstrado abaixo. \n",
        "\n",
        "1. A métrica `precision` identifica qual a proporção de identificações positivas foi realmente correta. Em outras palavras, o qual bem meu modelo trabalhou.\n",
        "\n",
        "2. A métrica `recall` identifica qual a proporção de positivos foram identificados corretamente. Ou seja, avalia o quão bom meu modelo é para prever positivos, sendo positivo entendido como a classe que se quer prever, no nosso contexto, se é um indivíduo não hospitalizado.\n",
        "\n",
        "3. A métrica `f1-score` mostra o balanço entre a `precision` e o `recall` do  modelo.\n",
        "\n"
      ]
    },
    {
      "cell_type": "code",
      "metadata": {
        "id": "hCZLA3SA-JLb",
        "outputId": "56899b51-1b27-4560-e950-722a908c98d8",
        "colab": {
          "base_uri": "https://localhost:8080/"
        }
      },
      "source": [
        "from sklearn.metrics import classification_report\n",
        "\n",
        "# 0 para NAO HOSPTALIZADO, 1 para HOSPTALIZADO\n",
        "relatorio = classification_report(y_teste, predicoes)\n",
        "print(relatorio)"
      ],
      "execution_count": 168,
      "outputs": [
        {
          "output_type": "stream",
          "text": [
            "              precision    recall  f1-score   support\n",
            "\n",
            "           0       0.94      0.97      0.96     46810\n",
            "           1       0.52      0.32      0.39      4156\n",
            "\n",
            "    accuracy                           0.92     50966\n",
            "   macro avg       0.73      0.64      0.68     50966\n",
            "weighted avg       0.91      0.92      0.91     50966\n",
            "\n"
          ],
          "name": "stdout"
        }
      ]
    },
    {
      "cell_type": "markdown",
      "metadata": {
        "id": "_5EuYUqLxOJI"
      },
      "source": [
        "Assim, este modelo:\n",
        "\n",
        "Previu 0 `NAO HOSPITALIZADO` **97%** corretamente\n",
        "\n",
        "Previu 1 `HOSPITALIZADO` **32%** corretamente\n",
        "\n",
        "Previu 0 `NAO HOSPITALIZADO` **2%** incorretamente\n",
        "\n",
        "Previu 1 `HOSPITALIZADO` **68%** incorretamente"
      ]
    },
    {
      "cell_type": "code",
      "metadata": {
        "id": "6s7Pyhr4KKrU",
        "outputId": "fa50eabc-28c4-4041-c75f-820386b10936",
        "colab": {
          "base_uri": "https://localhost:8080/",
          "height": 296
        }
      },
      "source": [
        "from sklearn.metrics import plot_confusion_matrix\n",
        "\n",
        "plot_confusion_matrix(modelo_treinado, X_teste, y_teste, normalize='true')"
      ],
      "execution_count": 204,
      "outputs": [
        {
          "output_type": "execute_result",
          "data": {
            "text/plain": [
              "<sklearn.metrics._plot.confusion_matrix.ConfusionMatrixDisplay at 0x7f6d0dcb7f28>"
            ]
          },
          "metadata": {
            "tags": []
          },
          "execution_count": 204
        },
        {
          "output_type": "display_data",
          "data": {
            "image/png": "[encoded data removed]",
            "text/plain": [
              "<Figure size 432x288 with 2 Axes>"
            ]
          },
          "metadata": {
            "tags": [],
            "needs_background": "light"
          }
        }
      ]
    },
    {
      "cell_type": "markdown",
      "metadata": {
        "id": "wGWxsQbKi6PU"
      },
      "source": [
        "###3.3 Método Bootstrapping\n",
        "\n",
        "Técnica de validação cruzada"
      ]
    },
    {
      "cell_type": "code",
      "metadata": {
        "id": "Hq079eVBL84Y"
      },
      "source": [
        "from sklearn.model_selection import ShuffleSplit\n",
        "\n",
        "X = dados.drop('HOSPITALIZADO', axis='columns')\n",
        "y = dados['HOSPITALIZADO']\n",
        "\n",
        "# Vamos criar 10 separações, mantendo 20% de teste em cada uma\n",
        "rs = ShuffleSplit(n_splits=10, test_size=.2)\n",
        "\n",
        "# List para armazernamos as acurácias de cada modelo\n",
        "acuracias = []"
      ],
      "execution_count": 205,
      "outputs": []
    },
    {
      "cell_type": "markdown",
      "metadata": {
        "id": "gx3lcpZUITyB"
      },
      "source": [
        "####3.2.1 Avaliação do Modelo"
      ]
    },
    {
      "cell_type": "code",
      "metadata": {
        "id": "kqMZnbrnHu8z",
        "outputId": "c8fa6791-2b12-4e13-dd27-4c207128b199",
        "colab": {
          "base_uri": "https://localhost:8080/"
        }
      },
      "source": [
        "# Agora iteramos por cada separação e treinamos um modelo\n",
        "# O método split retorna índices para o vetor passado como parametro\n",
        "# O .loc é a maneira de indexar tabelas no pandas a partir de índices\n",
        "for train_index, test_index in rs.split(X):\n",
        "  modelo_treinado = modelo.fit(X.loc[train_index], y.loc[train_index])\n",
        "  predicoes = modelo_treinado.predict(X.loc[test_index])\n",
        "  acuracias.append(accuracy_score(y.loc[test_index], predicoes))\n",
        "\n",
        "print(acuracias)\n",
        "print(\"Média das acurácias: \", sum(acuracias) / len(acuracias))\n",
        "#Uma abordagem seria estratificar a separação entre treino/teste. \n",
        "#A estratificação procura garantir que a distribuição dos dados é semelhante entre os grupos. \n",
        "#Ela pode ser feita tanto para atributos como para rótulos. \n"
      ],
      "execution_count": 206,
      "outputs": [
        {
          "output_type": "stream",
          "text": [
            "[0.9202605658674411, 0.9201624612486756, 0.9198289055448731, 0.920476396028725, 0.9215947886826512, 0.9232037044304046, 0.9208295726562806, 0.9192991406035396, 0.9209669191225522, 0.9212219911313425]\n",
            "Média das acurácias:  0.9207844445316488\n"
          ],
          "name": "stdout"
        }
      ]
    },
    {
      "cell_type": "markdown",
      "metadata": {
        "id": "zXo4B8NmVtIY"
      },
      "source": [
        "A acurácia média obtida se manteve equivalente ao produzido pelo SKLearn.\n",
        "\n",
        "###3.3 K-Fold\n",
        "\n",
        "A validação cruzada *k-fold*, embaralha os dados separando-os em *k* partições, onde cada uma passa pelo treinamento contendo dados distintos. A função 'cross_val_score' disponível no SKLearn foi utilizada para gerar as médias dos modelos."
      ]
    },
    {
      "cell_type": "code",
      "metadata": {
        "id": "t4RMiPy-TDn4",
        "outputId": "958c483d-b653-4567-9849-1071baafcd5a",
        "colab": {
          "base_uri": "https://localhost:8080/"
        }
      },
      "source": [
        "from sklearn.model_selection import cross_val_score\n",
        "\n",
        "# O parâmetro cv indica quantas partições criaremos\n",
        "scores = cross_val_score(modelo, X, y, cv=10)\n",
        "print(\"Acurácia média: \", f\"{scores.mean():.1%}\")"
      ],
      "execution_count": 160,
      "outputs": [
        {
          "output_type": "stream",
          "text": [
            "Acurácia média:  92.0%\n"
          ],
          "name": "stdout"
        }
      ]
    },
    {
      "cell_type": "markdown",
      "metadata": {
        "id": "H4qBS7y1-_Id"
      },
      "source": [
        "#4 Considerações Parciais\n",
        "\n",
        "Para o conjunto de dados analisados, as técnicas utilizadas para treinamento,teste e validação, apresentaram resultados muito próximos, com acurácia acima de 92%. Tendo como atributo alvo a necessidade de hospitalização do paciente 'HOSPITALIZADO'. \n",
        "\n",
        "Os demais atributos selecionados nesta análise foram oportunos e ajudaram na precisão do modelo. \n",
        "\n",
        "Já atributos relacionados a faixa etária, sexo, região e evolução do quadro do paciente foram descartados, visto que em testes preliminares a correlação foi fraca. "
      ]
    }
  ]
}