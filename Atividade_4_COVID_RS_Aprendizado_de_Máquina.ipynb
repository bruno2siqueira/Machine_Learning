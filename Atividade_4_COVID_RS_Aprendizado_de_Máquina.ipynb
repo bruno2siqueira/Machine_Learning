{
  "nbformat": 4,
  "nbformat_minor": 0,
  "metadata": {
    "colab": {
      "name": "Atividade 4 COVID/RS - Aprendizado de Máquina",
      "provenance": [],
      "collapsed_sections": [],
      "toc_visible": true,
      "include_colab_link": true
    },
    "kernelspec": {
      "name": "python3",
      "display_name": "Python 3"
    }
  },
  "cells": [
    {
      "cell_type": "markdown",
      "metadata": {
        "id": "view-in-github",
        "colab_type": "text"
      },
      "source": [
        "<a href=\"https://colab.research.google.com/github/bruno2siqueira/Machine_Learning/blob/main/Atividade_4_COVID_RS_Aprendizado_de_M%C3%A1quina.ipynb\" target=\"_parent\"><img src=\"https://colab.research.google.com/assets/colab-badge.svg\" alt=\"Open In Colab\"/></a>"
      ]
    },
    {
      "cell_type": "markdown",
      "metadata": {
        "id": "pHtUCa-sC7B0"
      },
      "source": [
        "## **Atividade 4 - Aprendizado de Máquina: COVID-19**\n",
        "\n",
        "* Por: Bruno Siqueira da Silva <<bruno.siqueira@inf.ufpel.edu.br>>\n",
        "* Data: 07 de novembro de 2020\n",
        "\n",
        "Abaixo as etapas do trabalho:"
      ]
    },
    {
      "cell_type": "markdown",
      "metadata": {
        "id": "OxxcDmyIZecG"
      },
      "source": [
        "# 1 Preparação do ambiente\n",
        "\n",
        "###1.1 Importação das bibliotecas\n",
        "\n"
      ]
    },
    {
      "cell_type": "code",
      "metadata": {
        "id": "dBqal9X0RUWo",
        "outputId": "44e2b34d-3166-43dd-a603-c36c3e309ab7",
        "colab": {
          "base_uri": "https://localhost:8080/"
        }
      },
      "source": [
        "import matplotlib.pyplot as pt\n",
        "import pandas as pd\n",
        "import numpy as np\n",
        "from sklearn.preprocessing import LabelBinarizer\n",
        "from unicodedata import normalize\n",
        "from google.colab import drive\n",
        "drive.mount('/content/drive')"
      ],
      "execution_count": 1,
      "outputs": [
        {
          "output_type": "stream",
          "text": [
            "Mounted at /content/drive\n"
          ],
          "name": "stdout"
        }
      ]
    },
    {
      "cell_type": "markdown",
      "metadata": {
        "id": "0Slehnql5n4Y"
      },
      "source": [
        "### 1.2 Carregamento do arquivo\n",
        "\n",
        "a.   Dados epidemiológicos da COVID-19 no Rio Grande do Sul, Secretaria Estadual de Saúde - SES\n",
        "\n",
        "b. Disponível em: https://ti.saude.rs.gov.br/covid19/\n"
      ]
    },
    {
      "cell_type": "markdown",
      "metadata": {
        "id": "A4qKgdb75fg9"
      },
      "source": [
        "####1.2.1 Fonte de dados obtidos da Secretaria Estadual de Saúde do RS"
      ]
    },
    {
      "cell_type": "code",
      "metadata": {
        "id": "-_LlhG14Jgfp",
        "outputId": "76e57187-c19a-435c-9cd1-b924f8e8e3d5",
        "colab": {
          "base_uri": "https://localhost:8080/",
          "height": 888
        }
      },
      "source": [
        "#Baixando diretamente da fonte.\n",
        "\n",
        "!wget https://ti.saude.rs.gov.br/covid19/download\n",
        "!mv download dados_covid_rs.csv  #disponibiliza no ambiente de produção\n",
        "\n",
        "dados = pd.read_csv('/content/dados_covid_rs.csv', delimiter=';')\n",
        "dados"
      ],
      "execution_count": 2,
      "outputs": [
        {
          "output_type": "stream",
          "text": [
            "--2020-11-07 17:02:14--  https://ti.saude.rs.gov.br/covid19/download\n",
            "Resolving ti.saude.rs.gov.br (ti.saude.rs.gov.br)... 200.198.173.170\n",
            "Connecting to ti.saude.rs.gov.br (ti.saude.rs.gov.br)|200.198.173.170|:443... connected.\n",
            "HTTP request sent, awaiting response... 200 OK\n",
            "Length: unspecified [text/csv]\n",
            "Saving to: ‘download’\n",
            "\n",
            "download                [ <=>                ]  52.24M  7.36MB/s    in 8.2s    \n",
            "\n",
            "2020-11-07 17:02:23 (6.40 MB/s) - ‘download’ saved [54774434]\n",
            "\n"
          ],
          "name": "stdout"
        },
        {
          "output_type": "execute_result",
          "data": {
            "text/html": [
              "<div>\n",
              "<style scoped>\n",
              "    .dataframe tbody tr th:only-of-type {\n",
              "        vertical-align: middle;\n",
              "    }\n",
              "\n",
              "    .dataframe tbody tr th {\n",
              "        vertical-align: top;\n",
              "    }\n",
              "\n",
              "    .dataframe thead th {\n",
              "        text-align: right;\n",
              "    }\n",
              "</style>\n",
              "<table border=\"1\" class=\"dataframe\">\n",
              "  <thead>\n",
              "    <tr style=\"text-align: right;\">\n",
              "      <th></th>\n",
              "      <th>COD_IBGE</th>\n",
              "      <th>MUNICIPIO</th>\n",
              "      <th>COD_REGIAO_COVID</th>\n",
              "      <th>REGIAO_COVID</th>\n",
              "      <th>SEXO</th>\n",
              "      <th>FAIXAETARIA</th>\n",
              "      <th>CRITERIO</th>\n",
              "      <th>DATA_CONFIRMACAO</th>\n",
              "      <th>DATA_SINTOMAS</th>\n",
              "      <th>DATA_EVOLUCAO</th>\n",
              "      <th>EVOLUCAO</th>\n",
              "      <th>HOSPITALIZADO</th>\n",
              "      <th>FEBRE</th>\n",
              "      <th>TOSSE</th>\n",
              "      <th>GARGANTA</th>\n",
              "      <th>DISPNEIA</th>\n",
              "      <th>OUTROS</th>\n",
              "      <th>CONDICOES</th>\n",
              "      <th>GESTANTE</th>\n",
              "      <th>DATA_INCLUSAO_OBITO</th>\n",
              "      <th>DATA_EVOLUCAO_ESTIMADA</th>\n",
              "      <th>RACA_COR</th>\n",
              "      <th>ETNIA_INDIGENA</th>\n",
              "      <th>PROFISSIONAL_SAUDE</th>\n",
              "      <th>BAIRRO</th>\n",
              "      <th>HOSPITALIZACAO_SRAG</th>\n",
              "      <th>FONTE_INFORMACAO</th>\n",
              "      <th>PAIS_NASCIMENTO</th>\n",
              "      <th>PES_PRIV_LIBERDADE</th>\n",
              "    </tr>\n",
              "  </thead>\n",
              "  <tbody>\n",
              "    <tr>\n",
              "      <th>0</th>\n",
              "      <td>430003</td>\n",
              "      <td>ACEGUÁ</td>\n",
              "      <td>16</td>\n",
              "      <td>BAGE - R22</td>\n",
              "      <td>Feminino</td>\n",
              "      <td>40 a 49</td>\n",
              "      <td>RT-PCR</td>\n",
              "      <td>05/10/2020</td>\n",
              "      <td>29/09/2020</td>\n",
              "      <td>NaN</td>\n",
              "      <td>RECUPERADO</td>\n",
              "      <td>NAO</td>\n",
              "      <td>NAO</td>\n",
              "      <td>NAO</td>\n",
              "      <td>NAO</td>\n",
              "      <td>NAO</td>\n",
              "      <td>NAO</td>\n",
              "      <td>NaN</td>\n",
              "      <td>NAO</td>\n",
              "      <td>NaN</td>\n",
              "      <td>13/10/2020</td>\n",
              "      <td>BRANCA</td>\n",
              "      <td>NAO ENCONTRADO</td>\n",
              "      <td>NAO</td>\n",
              "      <td>ZONA RURAL</td>\n",
              "      <td>NAO</td>\n",
              "      <td>E-SUS</td>\n",
              "      <td>BRASIL</td>\n",
              "      <td>NAO</td>\n",
              "    </tr>\n",
              "    <tr>\n",
              "      <th>1</th>\n",
              "      <td>430003</td>\n",
              "      <td>ACEGUÁ</td>\n",
              "      <td>16</td>\n",
              "      <td>BAGE - R22</td>\n",
              "      <td>Masculino</td>\n",
              "      <td>15 a 19</td>\n",
              "      <td>RT-PCR</td>\n",
              "      <td>06/10/2020</td>\n",
              "      <td>06/10/2020</td>\n",
              "      <td>NaN</td>\n",
              "      <td>RECUPERADO</td>\n",
              "      <td>NAO</td>\n",
              "      <td>NAO</td>\n",
              "      <td>NAO</td>\n",
              "      <td>NAO</td>\n",
              "      <td>NAO</td>\n",
              "      <td>NAO</td>\n",
              "      <td>NaN</td>\n",
              "      <td>NAO</td>\n",
              "      <td>NaN</td>\n",
              "      <td>20/10/2020</td>\n",
              "      <td>BRANCA</td>\n",
              "      <td>NAO ENCONTRADO</td>\n",
              "      <td>NAO</td>\n",
              "      <td>ZONA RURAL</td>\n",
              "      <td>NAO</td>\n",
              "      <td>E-SUS</td>\n",
              "      <td>BRASIL</td>\n",
              "      <td>NAO</td>\n",
              "    </tr>\n",
              "    <tr>\n",
              "      <th>2</th>\n",
              "      <td>430003</td>\n",
              "      <td>ACEGUÁ</td>\n",
              "      <td>16</td>\n",
              "      <td>BAGE - R22</td>\n",
              "      <td>Feminino</td>\n",
              "      <td>50 a 59</td>\n",
              "      <td>TESTE RÁPIDO</td>\n",
              "      <td>19/10/2020</td>\n",
              "      <td>05/10/2020</td>\n",
              "      <td>NaN</td>\n",
              "      <td>RECUPERADO</td>\n",
              "      <td>NAO</td>\n",
              "      <td>NAO</td>\n",
              "      <td>NAO</td>\n",
              "      <td>NAO</td>\n",
              "      <td>NAO</td>\n",
              "      <td>NAO</td>\n",
              "      <td>NaN</td>\n",
              "      <td>NAO</td>\n",
              "      <td>NaN</td>\n",
              "      <td>19/10/2020</td>\n",
              "      <td>BRANCA</td>\n",
              "      <td>NAO ENCONTRADO</td>\n",
              "      <td>NAO</td>\n",
              "      <td>ZONA RURAL</td>\n",
              "      <td>NAO</td>\n",
              "      <td>E-SUS</td>\n",
              "      <td>BRASIL</td>\n",
              "      <td>NAO</td>\n",
              "    </tr>\n",
              "    <tr>\n",
              "      <th>3</th>\n",
              "      <td>430003</td>\n",
              "      <td>ACEGUÁ</td>\n",
              "      <td>16</td>\n",
              "      <td>BAGE - R22</td>\n",
              "      <td>Feminino</td>\n",
              "      <td>20 a 29</td>\n",
              "      <td>RT-PCR</td>\n",
              "      <td>11/09/2020</td>\n",
              "      <td>08/09/2020</td>\n",
              "      <td>NaN</td>\n",
              "      <td>RECUPERADO</td>\n",
              "      <td>NAO</td>\n",
              "      <td>SIM</td>\n",
              "      <td>NAO</td>\n",
              "      <td>SIM</td>\n",
              "      <td>NAO</td>\n",
              "      <td>NAO</td>\n",
              "      <td>Gestante</td>\n",
              "      <td>SIM</td>\n",
              "      <td>NaN</td>\n",
              "      <td>22/09/2020</td>\n",
              "      <td>NAO INFORMADO</td>\n",
              "      <td>NAO ENCONTRADO</td>\n",
              "      <td>NAO INFORMADO</td>\n",
              "      <td>NaN</td>\n",
              "      <td>NAO</td>\n",
              "      <td>E-SUS</td>\n",
              "      <td>BRASIL</td>\n",
              "      <td>NAO</td>\n",
              "    </tr>\n",
              "    <tr>\n",
              "      <th>4</th>\n",
              "      <td>430003</td>\n",
              "      <td>ACEGUÁ</td>\n",
              "      <td>16</td>\n",
              "      <td>BAGE - R22</td>\n",
              "      <td>Feminino</td>\n",
              "      <td>40 a 49</td>\n",
              "      <td>RT-PCR</td>\n",
              "      <td>03/11/2020</td>\n",
              "      <td>30/10/2020</td>\n",
              "      <td>NaN</td>\n",
              "      <td>EM ACOMPANHAMENTO</td>\n",
              "      <td>NAO</td>\n",
              "      <td>SIM</td>\n",
              "      <td>SIM</td>\n",
              "      <td>NAO</td>\n",
              "      <td>NAO</td>\n",
              "      <td>NAO</td>\n",
              "      <td>NaN</td>\n",
              "      <td>NAO</td>\n",
              "      <td>NaN</td>\n",
              "      <td>NaN</td>\n",
              "      <td>BRANCA</td>\n",
              "      <td>NaN</td>\n",
              "      <td>NAO</td>\n",
              "      <td>ZONA RURAL</td>\n",
              "      <td>NAO</td>\n",
              "      <td>E-SUS</td>\n",
              "      <td>NaN</td>\n",
              "      <td>NAO</td>\n",
              "    </tr>\n",
              "    <tr>\n",
              "      <th>...</th>\n",
              "      <td>...</td>\n",
              "      <td>...</td>\n",
              "      <td>...</td>\n",
              "      <td>...</td>\n",
              "      <td>...</td>\n",
              "      <td>...</td>\n",
              "      <td>...</td>\n",
              "      <td>...</td>\n",
              "      <td>...</td>\n",
              "      <td>...</td>\n",
              "      <td>...</td>\n",
              "      <td>...</td>\n",
              "      <td>...</td>\n",
              "      <td>...</td>\n",
              "      <td>...</td>\n",
              "      <td>...</td>\n",
              "      <td>...</td>\n",
              "      <td>...</td>\n",
              "      <td>...</td>\n",
              "      <td>...</td>\n",
              "      <td>...</td>\n",
              "      <td>...</td>\n",
              "      <td>...</td>\n",
              "      <td>...</td>\n",
              "      <td>...</td>\n",
              "      <td>...</td>\n",
              "      <td>...</td>\n",
              "      <td>...</td>\n",
              "      <td>...</td>\n",
              "    </tr>\n",
              "    <tr>\n",
              "      <th>260183</th>\n",
              "      <td>432380</td>\n",
              "      <td>XANGRI-LÁ</td>\n",
              "      <td>3</td>\n",
              "      <td>CAPAO DA CANOA - R04 R05</td>\n",
              "      <td>Masculino</td>\n",
              "      <td>30 a 39</td>\n",
              "      <td>RT-PCR</td>\n",
              "      <td>16/10/2020</td>\n",
              "      <td>18/10/2020</td>\n",
              "      <td>NaN</td>\n",
              "      <td>RECUPERADO</td>\n",
              "      <td>NAO</td>\n",
              "      <td>NAO</td>\n",
              "      <td>NAO</td>\n",
              "      <td>NAO</td>\n",
              "      <td>NAO</td>\n",
              "      <td>SIM</td>\n",
              "      <td>NaN</td>\n",
              "      <td>NAO</td>\n",
              "      <td>NaN</td>\n",
              "      <td>01/11/2020</td>\n",
              "      <td>BRANCA</td>\n",
              "      <td>NAO ENCONTRADO</td>\n",
              "      <td>NAO</td>\n",
              "      <td>GUARÁ</td>\n",
              "      <td>NAO</td>\n",
              "      <td>E-SUS</td>\n",
              "      <td>BRASIL</td>\n",
              "      <td>NAO</td>\n",
              "    </tr>\n",
              "    <tr>\n",
              "      <th>260184</th>\n",
              "      <td>432380</td>\n",
              "      <td>XANGRI-LÁ</td>\n",
              "      <td>3</td>\n",
              "      <td>CAPAO DA CANOA - R04 R05</td>\n",
              "      <td>Masculino</td>\n",
              "      <td>50 a 59</td>\n",
              "      <td>RT-PCR</td>\n",
              "      <td>17/10/2020</td>\n",
              "      <td>12/10/2020</td>\n",
              "      <td>30/10/2020</td>\n",
              "      <td>RECUPERADO</td>\n",
              "      <td>SIM</td>\n",
              "      <td>SIM</td>\n",
              "      <td>SIM</td>\n",
              "      <td>NAO</td>\n",
              "      <td>SIM</td>\n",
              "      <td>NAO</td>\n",
              "      <td>Doença Cardiovascular Crônica</td>\n",
              "      <td>NAO</td>\n",
              "      <td>NaN</td>\n",
              "      <td>NaN</td>\n",
              "      <td>BRANCA</td>\n",
              "      <td>NAO ENCONTRADO</td>\n",
              "      <td>NAO INFORMADO</td>\n",
              "      <td>MARINA</td>\n",
              "      <td>SIM</td>\n",
              "      <td>SIVEP HOSP</td>\n",
              "      <td>BRASIL</td>\n",
              "      <td>NAO</td>\n",
              "    </tr>\n",
              "    <tr>\n",
              "      <th>260185</th>\n",
              "      <td>432380</td>\n",
              "      <td>XANGRI-LÁ</td>\n",
              "      <td>3</td>\n",
              "      <td>CAPAO DA CANOA - R04 R05</td>\n",
              "      <td>Feminino</td>\n",
              "      <td>70 a 79</td>\n",
              "      <td>RT-PCR</td>\n",
              "      <td>24/10/2020</td>\n",
              "      <td>17/10/2020</td>\n",
              "      <td>22/10/2020</td>\n",
              "      <td>OBITO</td>\n",
              "      <td>SIM</td>\n",
              "      <td>SIM</td>\n",
              "      <td>NAO</td>\n",
              "      <td>NAO</td>\n",
              "      <td>NAO</td>\n",
              "      <td>NAO</td>\n",
              "      <td>Diabetes mellitus, Doença Renal Crônica</td>\n",
              "      <td>NAO</td>\n",
              "      <td>27/10/2020</td>\n",
              "      <td>NaN</td>\n",
              "      <td>BRANCA</td>\n",
              "      <td>NAO ENCONTRADO</td>\n",
              "      <td>NAO INFORMADO</td>\n",
              "      <td>RAINHA DO MAR</td>\n",
              "      <td>SIM</td>\n",
              "      <td>SIVEP HOSP</td>\n",
              "      <td>BRASIL</td>\n",
              "      <td>NAO</td>\n",
              "    </tr>\n",
              "    <tr>\n",
              "      <th>260186</th>\n",
              "      <td>432380</td>\n",
              "      <td>XANGRI-LÁ</td>\n",
              "      <td>3</td>\n",
              "      <td>CAPAO DA CANOA - R04 R05</td>\n",
              "      <td>Masculino</td>\n",
              "      <td>30 a 39</td>\n",
              "      <td>RT-PCR</td>\n",
              "      <td>26/10/2020</td>\n",
              "      <td>26/10/2020</td>\n",
              "      <td>NaN</td>\n",
              "      <td>EM ACOMPANHAMENTO</td>\n",
              "      <td>NAO</td>\n",
              "      <td>NAO</td>\n",
              "      <td>NAO</td>\n",
              "      <td>NAO</td>\n",
              "      <td>NAO</td>\n",
              "      <td>SIM</td>\n",
              "      <td>NaN</td>\n",
              "      <td>NAO</td>\n",
              "      <td>NaN</td>\n",
              "      <td>NaN</td>\n",
              "      <td>BRANCA</td>\n",
              "      <td>NAO ENCONTRADO</td>\n",
              "      <td>NAO</td>\n",
              "      <td>REMANSO</td>\n",
              "      <td>NAO</td>\n",
              "      <td>E-SUS</td>\n",
              "      <td>BRASIL</td>\n",
              "      <td>NAO</td>\n",
              "    </tr>\n",
              "    <tr>\n",
              "      <th>260187</th>\n",
              "      <td>432380</td>\n",
              "      <td>XANGRI-LÁ</td>\n",
              "      <td>3</td>\n",
              "      <td>CAPAO DA CANOA - R04 R05</td>\n",
              "      <td>Masculino</td>\n",
              "      <td>20 a 29</td>\n",
              "      <td>TESTE RÁPIDO</td>\n",
              "      <td>01/09/2020</td>\n",
              "      <td>16/08/2020</td>\n",
              "      <td>NaN</td>\n",
              "      <td>RECUPERADO</td>\n",
              "      <td>NAO</td>\n",
              "      <td>SIM</td>\n",
              "      <td>SIM</td>\n",
              "      <td>SIM</td>\n",
              "      <td>SIM</td>\n",
              "      <td>NAO</td>\n",
              "      <td>Doenças respiratórias crônicas descompensadas</td>\n",
              "      <td>NAO</td>\n",
              "      <td>NaN</td>\n",
              "      <td>30/08/2020</td>\n",
              "      <td>BRANCA</td>\n",
              "      <td>NAO ENCONTRADO</td>\n",
              "      <td>NAO</td>\n",
              "      <td>GUARA</td>\n",
              "      <td>NAO</td>\n",
              "      <td>E-SUS</td>\n",
              "      <td>BRASIL</td>\n",
              "      <td>NAO</td>\n",
              "    </tr>\n",
              "  </tbody>\n",
              "</table>\n",
              "<p>260188 rows × 29 columns</p>\n",
              "</div>"
            ],
            "text/plain": [
              "        COD_IBGE  MUNICIPIO  ...  PAIS_NASCIMENTO PES_PRIV_LIBERDADE\n",
              "0         430003     ACEGUÁ  ...           BRASIL                NAO\n",
              "1         430003     ACEGUÁ  ...           BRASIL                NAO\n",
              "2         430003     ACEGUÁ  ...           BRASIL                NAO\n",
              "3         430003     ACEGUÁ  ...           BRASIL                NAO\n",
              "4         430003     ACEGUÁ  ...              NaN                NAO\n",
              "...          ...        ...  ...              ...                ...\n",
              "260183    432380  XANGRI-LÁ  ...           BRASIL                NAO\n",
              "260184    432380  XANGRI-LÁ  ...           BRASIL                NAO\n",
              "260185    432380  XANGRI-LÁ  ...           BRASIL                NAO\n",
              "260186    432380  XANGRI-LÁ  ...           BRASIL                NAO\n",
              "260187    432380  XANGRI-LÁ  ...           BRASIL                NAO\n",
              "\n",
              "[260188 rows x 29 columns]"
            ]
          },
          "metadata": {
            "tags": []
          },
          "execution_count": 2
        }
      ]
    },
    {
      "cell_type": "markdown",
      "metadata": {
        "id": "YFEtfTzVCtCv"
      },
      "source": [
        "# 2 Preparação dos dados\n",
        "\n",
        "Nessa etapa, foi preciso converter os atributos categóricos para numéricos, ajustando o conteúdo dos atributos às restrições dos modelos utilizados no processo de Aprendizado de Máquina."
      ]
    },
    {
      "cell_type": "markdown",
      "metadata": {
        "id": "E6g7YmIRFPTW"
      },
      "source": [
        "### 2.1 Tratando dados faltantes ou não-numéricos\n",
        "Algumas colunas possuem \"NaN\" (Not a Number) ou \"NaT\" (Not a Time), indicando que são valores faltantes. Além disso, há colunas com tipos variados de registros, que não podem ser binarizados. \n",
        "\n",
        "*Ressalta-se que esta etapa considerou apenas dados potenciais utilizados no experimento.*\n",
        "\n"
      ]
    },
    {
      "cell_type": "markdown",
      "metadata": {
        "id": "zhI_oNGdL6RY"
      },
      "source": [
        "####2.1.1 Tratando colunas `FEBRE, TOSSE, GARGANTA e DISPENEIA`"
      ]
    },
    {
      "cell_type": "code",
      "metadata": {
        "id": "j-uk96MPKBKX",
        "outputId": "91423ebc-3eaa-4924-ea27-e827aeacb4c4",
        "colab": {
          "base_uri": "https://localhost:8080/",
          "height": 437
        }
      },
      "source": [
        "rows = []\n",
        "for column in dados.columns:\n",
        "  row = {'coluna': column, 'nans': dados[column].isnull().sum(), 'frac_nans': dados[column].isnull().sum() / dados.shape[0]}\n",
        "  rows.append(row)\n",
        "res = pd.DataFrame(rows)\n",
        "res[res.nans>0].sort_values('nans', ascending=False)"
      ],
      "execution_count": 3,
      "outputs": [
        {
          "output_type": "execute_result",
          "data": {
            "text/html": [
              "<div>\n",
              "<style scoped>\n",
              "    .dataframe tbody tr th:only-of-type {\n",
              "        vertical-align: middle;\n",
              "    }\n",
              "\n",
              "    .dataframe tbody tr th {\n",
              "        vertical-align: top;\n",
              "    }\n",
              "\n",
              "    .dataframe thead th {\n",
              "        text-align: right;\n",
              "    }\n",
              "</style>\n",
              "<table border=\"1\" class=\"dataframe\">\n",
              "  <thead>\n",
              "    <tr style=\"text-align: right;\">\n",
              "      <th></th>\n",
              "      <th>coluna</th>\n",
              "      <th>nans</th>\n",
              "      <th>frac_nans</th>\n",
              "    </tr>\n",
              "  </thead>\n",
              "  <tbody>\n",
              "    <tr>\n",
              "      <th>19</th>\n",
              "      <td>DATA_INCLUSAO_OBITO</td>\n",
              "      <td>254198</td>\n",
              "      <td>0.976978</td>\n",
              "    </tr>\n",
              "    <tr>\n",
              "      <th>9</th>\n",
              "      <td>DATA_EVOLUCAO</td>\n",
              "      <td>241133</td>\n",
              "      <td>0.926764</td>\n",
              "    </tr>\n",
              "    <tr>\n",
              "      <th>17</th>\n",
              "      <td>CONDICOES</td>\n",
              "      <td>219542</td>\n",
              "      <td>0.843782</td>\n",
              "    </tr>\n",
              "    <tr>\n",
              "      <th>20</th>\n",
              "      <td>DATA_EVOLUCAO_ESTIMADA</td>\n",
              "      <td>29307</td>\n",
              "      <td>0.112638</td>\n",
              "    </tr>\n",
              "    <tr>\n",
              "      <th>27</th>\n",
              "      <td>PAIS_NASCIMENTO</td>\n",
              "      <td>12751</td>\n",
              "      <td>0.049007</td>\n",
              "    </tr>\n",
              "    <tr>\n",
              "      <th>22</th>\n",
              "      <td>ETNIA_INDIGENA</td>\n",
              "      <td>12397</td>\n",
              "      <td>0.047646</td>\n",
              "    </tr>\n",
              "    <tr>\n",
              "      <th>24</th>\n",
              "      <td>BAIRRO</td>\n",
              "      <td>4977</td>\n",
              "      <td>0.019128</td>\n",
              "    </tr>\n",
              "    <tr>\n",
              "      <th>15</th>\n",
              "      <td>DISPNEIA</td>\n",
              "      <td>3037</td>\n",
              "      <td>0.011672</td>\n",
              "    </tr>\n",
              "    <tr>\n",
              "      <th>12</th>\n",
              "      <td>FEBRE</td>\n",
              "      <td>20</td>\n",
              "      <td>0.000077</td>\n",
              "    </tr>\n",
              "    <tr>\n",
              "      <th>13</th>\n",
              "      <td>TOSSE</td>\n",
              "      <td>20</td>\n",
              "      <td>0.000077</td>\n",
              "    </tr>\n",
              "    <tr>\n",
              "      <th>14</th>\n",
              "      <td>GARGANTA</td>\n",
              "      <td>20</td>\n",
              "      <td>0.000077</td>\n",
              "    </tr>\n",
              "    <tr>\n",
              "      <th>16</th>\n",
              "      <td>OUTROS</td>\n",
              "      <td>20</td>\n",
              "      <td>0.000077</td>\n",
              "    </tr>\n",
              "    <tr>\n",
              "      <th>26</th>\n",
              "      <td>FONTE_INFORMACAO</td>\n",
              "      <td>14</td>\n",
              "      <td>0.000054</td>\n",
              "    </tr>\n",
              "  </tbody>\n",
              "</table>\n",
              "</div>"
            ],
            "text/plain": [
              "                    coluna    nans  frac_nans\n",
              "19     DATA_INCLUSAO_OBITO  254198   0.976978\n",
              "9            DATA_EVOLUCAO  241133   0.926764\n",
              "17               CONDICOES  219542   0.843782\n",
              "20  DATA_EVOLUCAO_ESTIMADA   29307   0.112638\n",
              "27         PAIS_NASCIMENTO   12751   0.049007\n",
              "22          ETNIA_INDIGENA   12397   0.047646\n",
              "24                  BAIRRO    4977   0.019128\n",
              "15                DISPNEIA    3037   0.011672\n",
              "12                   FEBRE      20   0.000077\n",
              "13                   TOSSE      20   0.000077\n",
              "14                GARGANTA      20   0.000077\n",
              "16                  OUTROS      20   0.000077\n",
              "26        FONTE_INFORMACAO      14   0.000054"
            ]
          },
          "metadata": {
            "tags": []
          },
          "execution_count": 3
        }
      ]
    },
    {
      "cell_type": "markdown",
      "metadata": {
        "id": "awao2FmWLhra"
      },
      "source": [
        "a) Tratando a coluna `DISPNEIA`, com cerca de 1% dos valores faltantes, preenchendo com valores aleatórios, mas que seguem a distribuição dos dados."
      ]
    },
    {
      "cell_type": "code",
      "metadata": {
        "id": "z-SvumWbLSMZ",
        "outputId": "6b9cfb02-11a2-40e5-b1cd-899968f5e0e3",
        "colab": {
          "base_uri": "https://localhost:8080/"
        }
      },
      "source": [
        "dist = dados[\"DISPNEIA\"].value_counts(normalize=True)\n",
        "faltantes = dados['DISPNEIA'].isnull()\n",
        "dados.loc[faltantes,'DISPNEIA'] = np.random.choice(dist.index, size=len(dados[faltantes]), p=dist.values)\n",
        "\n",
        "# Testando para ver se não há mais valores faltantes\n",
        "dados[\"DISPNEIA\"].isnull().any()"
      ],
      "execution_count": 4,
      "outputs": [
        {
          "output_type": "execute_result",
          "data": {
            "text/plain": [
              "False"
            ]
          },
          "metadata": {
            "tags": []
          },
          "execution_count": 4
        }
      ]
    },
    {
      "cell_type": "markdown",
      "metadata": {
        "id": "p7VOGUT0QLac"
      },
      "source": [
        "b) Tratando a coluna `FEBRE`, preenchendo os dados faltantes com valores aleatórios."
      ]
    },
    {
      "cell_type": "code",
      "metadata": {
        "id": "Bjzo3b8CV_hb",
        "outputId": "7116b1f0-f109-4860-dee6-c9c1e227c0c6",
        "colab": {
          "base_uri": "https://localhost:8080/"
        }
      },
      "source": [
        "dist = dados[\"FEBRE\"].value_counts(normalize=True)\n",
        "faltantes = dados['FEBRE'].isnull()\n",
        "dados.loc[faltantes,'FEBRE'] = np.random.choice(dist.index, size=len(dados[faltantes]), p=dist.values)\n",
        "\n",
        "# Testando para ver se não há mais valores faltantes\n",
        "dados[\"FEBRE\"].isnull().any()"
      ],
      "execution_count": 5,
      "outputs": [
        {
          "output_type": "execute_result",
          "data": {
            "text/plain": [
              "False"
            ]
          },
          "metadata": {
            "tags": []
          },
          "execution_count": 5
        }
      ]
    },
    {
      "cell_type": "markdown",
      "metadata": {
        "id": "q_vmuGtNQ3iX"
      },
      "source": [
        "c) Tratando a coluna `TOSSE`, preenchendo os dados faltantes com valores aleatórios."
      ]
    },
    {
      "cell_type": "code",
      "metadata": {
        "id": "SjveUT6jWFVL",
        "outputId": "d991a4b6-51b1-4755-a717-dd22bcf20a14",
        "colab": {
          "base_uri": "https://localhost:8080/"
        }
      },
      "source": [
        "dist = dados[\"TOSSE\"].value_counts(normalize=True)\n",
        "faltantes = dados['TOSSE'].isnull()\n",
        "dados.loc[faltantes,'TOSSE'] = np.random.choice(dist.index, size=len(dados[faltantes]), p=dist.values)\n",
        "\n",
        "# Testando para ver se não há mais valores faltantes\n",
        "dados[\"TOSSE\"].isnull().any()"
      ],
      "execution_count": 6,
      "outputs": [
        {
          "output_type": "execute_result",
          "data": {
            "text/plain": [
              "False"
            ]
          },
          "metadata": {
            "tags": []
          },
          "execution_count": 6
        }
      ]
    },
    {
      "cell_type": "markdown",
      "metadata": {
        "id": "1xMJMjBTQ7uA"
      },
      "source": [
        "d) Tratando a coluna `GARGANTA`, preenchendo os dados faltantes com valores aleatórios"
      ]
    },
    {
      "cell_type": "code",
      "metadata": {
        "id": "JsAcctG8WV00",
        "outputId": "bc537857-6ad3-49a3-8813-0e7b077bd4c3",
        "colab": {
          "base_uri": "https://localhost:8080/"
        }
      },
      "source": [
        "dist = dados[\"GARGANTA\"].value_counts(normalize=True)\n",
        "faltantes = dados['GARGANTA'].isnull()\n",
        "dados.loc[faltantes,'GARGANTA'] = np.random.choice(dist.index, size=len(dados[faltantes]), p=dist.values)\n",
        "\n",
        "# Testando para ver se não há mais valores faltantes\n",
        "dados[\"GARGANTA\"].isnull().any()"
      ],
      "execution_count": 7,
      "outputs": [
        {
          "output_type": "execute_result",
          "data": {
            "text/plain": [
              "False"
            ]
          },
          "metadata": {
            "tags": []
          },
          "execution_count": 7
        }
      ]
    },
    {
      "cell_type": "markdown",
      "metadata": {
        "id": "3toyGr0Xujdv"
      },
      "source": [
        "e) Tratando a coluna `OUTROS`, preenchendo os dados faltantes com valores aleatórios"
      ]
    },
    {
      "cell_type": "code",
      "metadata": {
        "id": "AHpT5JzHuqd_",
        "outputId": "13d2bf62-f828-4a31-ffdd-b1e91e288326",
        "colab": {
          "base_uri": "https://localhost:8080/"
        }
      },
      "source": [
        "dist = dados[\"OUTROS\"].value_counts(normalize=True)\n",
        "faltantes = dados['OUTROS'].isnull()\n",
        "dados.loc[faltantes,'OUTROS'] = np.random.choice(dist.index, size=len(dados[faltantes]), p=dist.values)\n",
        "\n",
        "# Testando para ver se não há mais valores faltantes\n",
        "dados[\"OUTROS\"].isnull().any()"
      ],
      "execution_count": 8,
      "outputs": [
        {
          "output_type": "execute_result",
          "data": {
            "text/plain": [
              "False"
            ]
          },
          "metadata": {
            "tags": []
          },
          "execution_count": 8
        }
      ]
    },
    {
      "cell_type": "markdown",
      "metadata": {
        "id": "-0KP1KHyKj28"
      },
      "source": [
        "####2.1.2 Tratando coluna `PROFISSIONAL_SAUDE`, com registros SIM, NAO e NAO INFORMADO "
      ]
    },
    {
      "cell_type": "markdown",
      "metadata": {
        "id": "X-m-iNrKc_ia"
      },
      "source": [
        "Optou-se por esta coluna, considerando que os `Profissionais da Saúde` são indivíduos que circulam em espaços onde é realizado o atendimento de pacientes infectados, com isso, podem ter maior chances de serem infectados."
      ]
    },
    {
      "cell_type": "code",
      "metadata": {
        "id": "LX_BVYYHKi-W",
        "outputId": "36c6f3cb-37c7-47c9-e295-1eed741c2e29",
        "colab": {
          "base_uri": "https://localhost:8080/"
        }
      },
      "source": [
        "dados['PROFISSIONAL_SAUDE']"
      ],
      "execution_count": 9,
      "outputs": [
        {
          "output_type": "execute_result",
          "data": {
            "text/plain": [
              "0                   NAO\n",
              "1                   NAO\n",
              "2                   NAO\n",
              "3         NAO INFORMADO\n",
              "4                   NAO\n",
              "              ...      \n",
              "260183              NAO\n",
              "260184    NAO INFORMADO\n",
              "260185    NAO INFORMADO\n",
              "260186              NAO\n",
              "260187              NAO\n",
              "Name: PROFISSIONAL_SAUDE, Length: 260188, dtype: object"
            ]
          },
          "metadata": {
            "tags": []
          },
          "execution_count": 9
        }
      ]
    },
    {
      "cell_type": "code",
      "metadata": {
        "id": "RWS1f3x7Wjgq",
        "outputId": "d69b9f71-a558-4b43-81a1-9f91914d56cb",
        "colab": {
          "base_uri": "https://localhost:8080/"
        }
      },
      "source": [
        "dados[\"PROFISSIONAL_SAUDE\"] = dados[\"PROFISSIONAL_SAUDE\"].apply(lambda x: '1' if x=='SIM' else '0')\n",
        "\n",
        "# Testando para ver se não há mais valores faltantes\n",
        "dados[\"PROFISSIONAL_SAUDE\"].isnull().any()"
      ],
      "execution_count": 10,
      "outputs": [
        {
          "output_type": "execute_result",
          "data": {
            "text/plain": [
              "False"
            ]
          },
          "metadata": {
            "tags": []
          },
          "execution_count": 10
        }
      ]
    },
    {
      "cell_type": "markdown",
      "metadata": {
        "id": "1UtnC3XUXGQa"
      },
      "source": [
        "##2.2 Tranformando outro valores de String para Valores numéricos\n",
        "\n"
      ]
    },
    {
      "cell_type": "code",
      "metadata": {
        "id": "tuzxxgpGINVk",
        "outputId": "a12af21b-5b8b-4b9c-a8ee-5091686ce740",
        "colab": {
          "base_uri": "https://localhost:8080/",
          "height": 442
        }
      },
      "source": [
        "#Problemas de ML trabalham melhor com dados numéricos\n",
        "\n",
        "#dados[\"SEXO\"]= dados[\"SEXO\"].apply(lambda x: '1' if x=='Masculino' else '0')\n",
        "dados[\"FEBRE\"]= dados[\"FEBRE\"].apply(lambda x: '1' if x=='SIM' else '0')\n",
        "dados[\"GARGANTA\"]= dados[\"GARGANTA\"].apply(lambda x: '1' if x=='SIM' else '0')\n",
        "dados[\"TOSSE\"]= dados[\"TOSSE\"].apply(lambda x: '1' if x=='SIM' else '0')\n",
        "dados[\"DISPNEIA\"]= dados[\"DISPNEIA\"].apply(lambda x: '1' if x=='SIM' else '0')\n",
        "dados[\"HOSPITALIZADO\"]= dados[\"HOSPITALIZADO\"].apply(lambda x: '1' if x=='SIM' else '0')\n",
        "dados[\"OUTROS\"] = dados[\"OUTROS\"].apply(lambda x: '1' if x=='SIM' else '0')\n",
        "\n",
        "#Fitro com dados definidos como importantes para o modelo\n",
        "dados = dados[['FEBRE', 'TOSSE', 'GARGANTA',\n",
        "               'DISPNEIA', 'PROFISSIONAL_SAUDE', 'OUTROS', 'HOSPITALIZADO']].reset_index(drop=True)\n",
        "\n",
        "print (\"Valores ajustados e atributos considerados selecionados!\\n\")\n",
        "dados"
      ],
      "execution_count": 11,
      "outputs": [
        {
          "output_type": "stream",
          "text": [
            "Valores ajustados e atributos considerados selecionados!\n",
            "\n"
          ],
          "name": "stdout"
        },
        {
          "output_type": "execute_result",
          "data": {
            "text/html": [
              "<div>\n",
              "<style scoped>\n",
              "    .dataframe tbody tr th:only-of-type {\n",
              "        vertical-align: middle;\n",
              "    }\n",
              "\n",
              "    .dataframe tbody tr th {\n",
              "        vertical-align: top;\n",
              "    }\n",
              "\n",
              "    .dataframe thead th {\n",
              "        text-align: right;\n",
              "    }\n",
              "</style>\n",
              "<table border=\"1\" class=\"dataframe\">\n",
              "  <thead>\n",
              "    <tr style=\"text-align: right;\">\n",
              "      <th></th>\n",
              "      <th>FEBRE</th>\n",
              "      <th>TOSSE</th>\n",
              "      <th>GARGANTA</th>\n",
              "      <th>DISPNEIA</th>\n",
              "      <th>PROFISSIONAL_SAUDE</th>\n",
              "      <th>OUTROS</th>\n",
              "      <th>HOSPITALIZADO</th>\n",
              "    </tr>\n",
              "  </thead>\n",
              "  <tbody>\n",
              "    <tr>\n",
              "      <th>0</th>\n",
              "      <td>0</td>\n",
              "      <td>0</td>\n",
              "      <td>0</td>\n",
              "      <td>0</td>\n",
              "      <td>0</td>\n",
              "      <td>0</td>\n",
              "      <td>0</td>\n",
              "    </tr>\n",
              "    <tr>\n",
              "      <th>1</th>\n",
              "      <td>0</td>\n",
              "      <td>0</td>\n",
              "      <td>0</td>\n",
              "      <td>0</td>\n",
              "      <td>0</td>\n",
              "      <td>0</td>\n",
              "      <td>0</td>\n",
              "    </tr>\n",
              "    <tr>\n",
              "      <th>2</th>\n",
              "      <td>0</td>\n",
              "      <td>0</td>\n",
              "      <td>0</td>\n",
              "      <td>0</td>\n",
              "      <td>0</td>\n",
              "      <td>0</td>\n",
              "      <td>0</td>\n",
              "    </tr>\n",
              "    <tr>\n",
              "      <th>3</th>\n",
              "      <td>1</td>\n",
              "      <td>0</td>\n",
              "      <td>1</td>\n",
              "      <td>0</td>\n",
              "      <td>0</td>\n",
              "      <td>0</td>\n",
              "      <td>0</td>\n",
              "    </tr>\n",
              "    <tr>\n",
              "      <th>4</th>\n",
              "      <td>1</td>\n",
              "      <td>1</td>\n",
              "      <td>0</td>\n",
              "      <td>0</td>\n",
              "      <td>0</td>\n",
              "      <td>0</td>\n",
              "      <td>0</td>\n",
              "    </tr>\n",
              "    <tr>\n",
              "      <th>...</th>\n",
              "      <td>...</td>\n",
              "      <td>...</td>\n",
              "      <td>...</td>\n",
              "      <td>...</td>\n",
              "      <td>...</td>\n",
              "      <td>...</td>\n",
              "      <td>...</td>\n",
              "    </tr>\n",
              "    <tr>\n",
              "      <th>260183</th>\n",
              "      <td>0</td>\n",
              "      <td>0</td>\n",
              "      <td>0</td>\n",
              "      <td>0</td>\n",
              "      <td>0</td>\n",
              "      <td>1</td>\n",
              "      <td>0</td>\n",
              "    </tr>\n",
              "    <tr>\n",
              "      <th>260184</th>\n",
              "      <td>1</td>\n",
              "      <td>1</td>\n",
              "      <td>0</td>\n",
              "      <td>1</td>\n",
              "      <td>0</td>\n",
              "      <td>0</td>\n",
              "      <td>1</td>\n",
              "    </tr>\n",
              "    <tr>\n",
              "      <th>260185</th>\n",
              "      <td>1</td>\n",
              "      <td>0</td>\n",
              "      <td>0</td>\n",
              "      <td>0</td>\n",
              "      <td>0</td>\n",
              "      <td>0</td>\n",
              "      <td>1</td>\n",
              "    </tr>\n",
              "    <tr>\n",
              "      <th>260186</th>\n",
              "      <td>0</td>\n",
              "      <td>0</td>\n",
              "      <td>0</td>\n",
              "      <td>0</td>\n",
              "      <td>0</td>\n",
              "      <td>1</td>\n",
              "      <td>0</td>\n",
              "    </tr>\n",
              "    <tr>\n",
              "      <th>260187</th>\n",
              "      <td>1</td>\n",
              "      <td>1</td>\n",
              "      <td>1</td>\n",
              "      <td>1</td>\n",
              "      <td>0</td>\n",
              "      <td>0</td>\n",
              "      <td>0</td>\n",
              "    </tr>\n",
              "  </tbody>\n",
              "</table>\n",
              "<p>260188 rows × 7 columns</p>\n",
              "</div>"
            ],
            "text/plain": [
              "       FEBRE TOSSE GARGANTA DISPNEIA PROFISSIONAL_SAUDE OUTROS HOSPITALIZADO\n",
              "0          0     0        0        0                  0      0             0\n",
              "1          0     0        0        0                  0      0             0\n",
              "2          0     0        0        0                  0      0             0\n",
              "3          1     0        1        0                  0      0             0\n",
              "4          1     1        0        0                  0      0             0\n",
              "...      ...   ...      ...      ...                ...    ...           ...\n",
              "260183     0     0        0        0                  0      1             0\n",
              "260184     1     1        0        1                  0      0             1\n",
              "260185     1     0        0        0                  0      0             1\n",
              "260186     0     0        0        0                  0      1             0\n",
              "260187     1     1        1        1                  0      0             0\n",
              "\n",
              "[260188 rows x 7 columns]"
            ]
          },
          "metadata": {
            "tags": []
          },
          "execution_count": 11
        }
      ]
    },
    {
      "cell_type": "markdown",
      "metadata": {
        "id": "4vtLZqpIZnfk"
      },
      "source": [
        "\n",
        "#3 Treinamento\n",
        "\n",
        "a. Atributo alvo: 'HOSPITALIZADO'\n"
      ]
    },
    {
      "cell_type": "code",
      "metadata": {
        "id": "oNi81IRV9RC_",
        "outputId": "9f537fa7-245e-4bd9-9d3a-f70695917a69",
        "colab": {
          "base_uri": "https://localhost:8080/"
        }
      },
      "source": [
        "dados['HOSPITALIZADO']= dados['HOSPITALIZADO'].astype(int)\n",
        "nhosp = (dados['HOSPITALIZADO'].count()) -(dados['HOSPITALIZADO'].sum())\n",
        "print (\"Total de registros: \", dados['HOSPITALIZADO'].count(), \n",
        "       \"\\nNão Hospitalizados: \", nhosp,\n",
        "       \"\\nHospitalizados....: \", dados['HOSPITALIZADO'].sum())"
      ],
      "execution_count": 12,
      "outputs": [
        {
          "output_type": "stream",
          "text": [
            "Total de registros:  260188 \n",
            "Não Hospitalizados:  239475 \n",
            "Hospitalizados....:  20713\n"
          ],
          "name": "stdout"
        }
      ]
    },
    {
      "cell_type": "markdown",
      "metadata": {
        "id": "6TQI_jnG8MVW"
      },
      "source": [
        "###3.1 Método SKLearn"
      ]
    },
    {
      "cell_type": "code",
      "metadata": {
        "id": "b1eUoHVUr0M-",
        "outputId": "520f3780-004b-4be3-ce2c-3ec7bde414f9",
        "colab": {
          "base_uri": "https://localhost:8080/"
        }
      },
      "source": [
        "# O método train_test_split será utilizado para separação dos conjuntos, considerando 20% de dados de teste\n",
        "from sklearn.model_selection import train_test_split\n",
        "\n",
        "treino, teste = train_test_split(dados, test_size=0.2)\n",
        "print(\"Treino:\", len(treino)) \n",
        "print(\"Teste.:\", len(teste)) "
      ],
      "execution_count": 20,
      "outputs": [
        {
          "output_type": "stream",
          "text": [
            "Treino: 208150\n",
            "Teste.: 52038\n"
          ],
          "name": "stdout"
        }
      ]
    },
    {
      "cell_type": "markdown",
      "metadata": {
        "id": "Yr0nplm0is7T"
      },
      "source": [
        "####3.1.1 Árvores de decisão (Decision Tree)\n",
        "\n",
        "Este foi o modelo utilizado para prever o valor da variável destino. Trata-se de uma método de aprendizado supervisionado não paramétrico usado para classificação e regressão, que aprende a partir de regras de decisão simples inferidas dos recursos de dados.\n",
        "\n",
        "Fonte: https://scikit-learn.org/stable/modules/tree.html"
      ]
    },
    {
      "cell_type": "code",
      "metadata": {
        "id": "4rPcYRBLu4Sx",
        "outputId": "9424ed6f-5169-4507-dafd-d0717a8165d3",
        "colab": {
          "base_uri": "https://localhost:8080/"
        }
      },
      "source": [
        "# DecisionTreeClassifier é uma classe capaz de realizar classificação multiclasse em um conjunto de dados.\n",
        "from sklearn.tree import DecisionTreeClassifier \n",
        "\n",
        "modelo = DecisionTreeClassifier(random_state=0, criterion=\"entropy\")\n",
        "\n",
        "X_treino = treino.drop('HOSPITALIZADO', axis='columns')\n",
        "y_treino = treino['HOSPITALIZADO']\n",
        "\n",
        "print (\"X Colunas selecionadas:\\n\", X_treino)\n",
        "print (\"Y Linhas selecionadas:\\n\", y_treino)\n",
        "\n",
        "modelo_treinado = modelo.fit(X_treino, y_treino)\n",
        "\n",
        "print (\"\\n\\nModelo de treinamento:\\n\", modelo_treinado)"
      ],
      "execution_count": 21,
      "outputs": [
        {
          "output_type": "stream",
          "text": [
            "X Colunas selecionadas:\n",
            "        FEBRE TOSSE GARGANTA DISPNEIA PROFISSIONAL_SAUDE OUTROS\n",
            "48683      0     0        1        1                  0      0\n",
            "228155     0     0        0        0                  0      1\n",
            "150817     0     0        0        0                  0      1\n",
            "66362      1     0        0        0                  1      0\n",
            "15952      0     1        1        0                  0      1\n",
            "...      ...   ...      ...      ...                ...    ...\n",
            "103921     0     0        0        0                  0      1\n",
            "177930     1     1        0        0                  0      1\n",
            "154826     0     0        0        0                  0      1\n",
            "252907     0     0        0        0                  0      1\n",
            "50934      0     0        0        0                  0      0\n",
            "\n",
            "[208150 rows x 6 columns]\n",
            "Y Linhas selecionadas:\n",
            " 48683     0\n",
            "228155    0\n",
            "150817    0\n",
            "66362     0\n",
            "15952     0\n",
            "         ..\n",
            "103921    0\n",
            "177930    1\n",
            "154826    0\n",
            "252907    0\n",
            "50934     0\n",
            "Name: HOSPITALIZADO, Length: 208150, dtype: int64\n",
            "\n",
            "\n",
            "Modelo de treinamento:\n",
            " DecisionTreeClassifier(ccp_alpha=0.0, class_weight=None, criterion='entropy',\n",
            "                       max_depth=None, max_features=None, max_leaf_nodes=None,\n",
            "                       min_impurity_decrease=0.0, min_impurity_split=None,\n",
            "                       min_samples_leaf=1, min_samples_split=2,\n",
            "                       min_weight_fraction_leaf=0.0, presort='deprecated',\n",
            "                       random_state=0, splitter='best')\n"
          ],
          "name": "stdout"
        }
      ]
    },
    {
      "cell_type": "markdown",
      "metadata": {
        "id": "e0I9bcs6l0yr"
      },
      "source": [
        "Depois de treinado, pode-se plotar a árvore com a função `plot_tree`. \n",
        "\n",
        "Techo abaixo foi comentado, pois é apenas ilustrativo."
      ]
    },
    {
      "cell_type": "code",
      "metadata": {
        "id": "kAlcPDahlPhA"
      },
      "source": [
        "from sklearn import tree\n",
        "#tree.plot_tree(modelo_treinado) "
      ],
      "execution_count": 22,
      "outputs": []
    },
    {
      "cell_type": "markdown",
      "metadata": {
        "id": "CeSL8nx2FK67"
      },
      "source": [
        "###3.2 Avaliação do modelo\n",
        "\n",
        "Com o modelo treinado, temos que avaliá-lo no conjunto de teste. O sklearn implementa boa parte das métricas, bem como permite mostrar a matriz de confusão completa (CM). \n",
        "\n",
        "*CM mostra as frequências de classificação para cada classe do modelo*."
      ]
    },
    {
      "cell_type": "code",
      "metadata": {
        "id": "Jv4GVeW3xuGq",
        "outputId": "e0de5c78-9cb6-4d1b-bcf8-feafb0bfdfde",
        "colab": {
          "base_uri": "https://localhost:8080/"
        }
      },
      "source": [
        "from sklearn.metrics import accuracy_score\n",
        "\n",
        "# Separando os atributos e classes dos dados de teste\n",
        "X_teste = teste.drop('HOSPITALIZADO', axis='columns')\n",
        "y_teste = teste['HOSPITALIZADO']\n",
        "\n",
        "# Passamos os exemplos sem classe pelo modelo treinado, que retorna a predicao em um vetor\n",
        "predicoes = modelo_treinado.predict(X_teste)\n",
        "\n",
        "# Com as predicoes, podemos calcular as métricas. Abaixo, a acurácia.\n",
        "# Observe que sempre passamos os valores verdadeiros (y_teste) e depois as predicoes\n",
        "acuracia = accuracy_score(y_teste, predicoes)\n",
        "print(\"Acurácia do modelo: \", f\"{acuracia:.1%}\")\n",
        "print(\"Acurácia do modelo diz quanto o modelo acertou das previsões possíveis\")"
      ],
      "execution_count": 46,
      "outputs": [
        {
          "output_type": "stream",
          "text": [
            "Acurácia do modelo:  93.0%\n",
            "Acurácia do modelo diz quanto o modelo acertou das previsões possíveis\n"
          ],
          "name": "stdout"
        }
      ]
    },
    {
      "cell_type": "markdown",
      "metadata": {
        "id": "YhBCauoj7SJc"
      },
      "source": [
        "###3.1.2 Matriz de Confusão\n",
        "\n",
        " A matriz de confusão apresenta uma precisão de **95%** para os casos que não demandam hospitalização '**0**', considerado melhor para os casos que demandam de hospitalização '**1**', que apresentou precisão de **61%**, conforme demonstrado abaixo. \n",
        "\n",
        "1. A métrica `precision` identifica qual a proporção de identificações positivas foi realmente correta. Em outras palavras, o qual bem meu modelo trabalhou.\n",
        "\n",
        "2. A métrica `recall` identifica qual a proporção de positivos foram identificados corretamente. Ou seja, avalia o quão bom meu modelo é para prever positivos, sendo positivo entendido como a classe que se quer prever, no nosso contexto, se é um indivíduo não hospitalizado.\n",
        "\n",
        "3. A métrica `f1-score` mostra o balanço entre a `precision` e o `recall` do  modelo.\n",
        "\n"
      ]
    },
    {
      "cell_type": "code",
      "metadata": {
        "id": "hCZLA3SA-JLb",
        "outputId": "cfc59894-86b9-422f-f27d-1ddd58df3eea",
        "colab": {
          "base_uri": "https://localhost:8080/"
        }
      },
      "source": [
        "from sklearn.metrics import classification_report\n",
        "\n",
        "# 0 para NAO HOSPTALIZADO, 1 para HOSPTALIZADO\n",
        "relatorio = classification_report(y_teste, predicoes)\n",
        "print(relatorio)"
      ],
      "execution_count": 47,
      "outputs": [
        {
          "output_type": "stream",
          "text": [
            "              precision    recall  f1-score   support\n",
            "\n",
            "           0       0.95      0.98      0.96     47817\n",
            "           1       0.61      0.40      0.48      4221\n",
            "\n",
            "    accuracy                           0.93     52038\n",
            "   macro avg       0.78      0.69      0.72     52038\n",
            "weighted avg       0.92      0.93      0.92     52038\n",
            "\n"
          ],
          "name": "stdout"
        }
      ]
    },
    {
      "cell_type": "markdown",
      "metadata": {
        "id": "_5EuYUqLxOJI"
      },
      "source": [
        "Assim, este modelo:\n",
        "\n",
        "Previu `NAO HOSPITALIZADO` **98%** corretamente\n",
        "\n",
        "Previu `HOSPITALIZADO` **40%** corretamente\n",
        "\n",
        "Previu `NAO HOSPITALIZADO` **2%** incorretamente\n",
        "\n",
        "Previu `HOSPITALIZADO` **61%** incorretamente\n"
      ]
    },
    {
      "cell_type": "code",
      "metadata": {
        "id": "6s7Pyhr4KKrU",
        "outputId": "11602675-12c8-4a4a-a65b-867e55592616",
        "colab": {
          "base_uri": "https://localhost:8080/",
          "height": 296
        }
      },
      "source": [
        "from sklearn.metrics import plot_confusion_matrix\n",
        "\n",
        "plot_confusion_matrix(modelo_treinado, X_teste, y_teste, normalize='true')"
      ],
      "execution_count": 48,
      "outputs": [
        {
          "output_type": "execute_result",
          "data": {
            "text/plain": [
              "<sklearn.metrics._plot.confusion_matrix.ConfusionMatrixDisplay at 0x7f20d8e3ebe0>"
            ]
          },
          "metadata": {
            "tags": []
          },
          "execution_count": 48
        },
        {
          "output_type": "display_data",
          "data": {
            "image/png": "[encoded data removed]",
            "text/plain": [
              "<Figure size 432x288 with 2 Axes>"
            ]
          },
          "metadata": {
            "tags": [],
            "needs_background": "light"
          }
        }
      ]
    },
    {
      "cell_type": "markdown",
      "metadata": {
        "id": "wGWxsQbKi6PU"
      },
      "source": [
        "###3.3 Método Bootstrapping\n",
        "\n",
        "Técnica de validação cruzada"
      ]
    },
    {
      "cell_type": "code",
      "metadata": {
        "id": "Hq079eVBL84Y"
      },
      "source": [
        "from sklearn.model_selection import ShuffleSplit\n",
        "\n",
        "X = dados.drop('HOSPITALIZADO', axis='columns')\n",
        "y = dados['HOSPITALIZADO']\n",
        "\n",
        "# Vamos criar 10 separações (considerado o padrão), mantendo 20% de teste em cada uma\n",
        "rs = ShuffleSplit(n_splits=10, test_size=.2)\n",
        "\n",
        "# List para armazernamos as acurácias de cada modelo\n",
        "acuracias = []"
      ],
      "execution_count": 49,
      "outputs": []
    },
    {
      "cell_type": "markdown",
      "metadata": {
        "id": "gx3lcpZUITyB"
      },
      "source": [
        "####3.2.1 Avaliação do Modelo"
      ]
    },
    {
      "cell_type": "code",
      "metadata": {
        "id": "kqMZnbrnHu8z",
        "outputId": "04c0a4ec-87f2-408b-c4c2-cdf5bf621d5f",
        "colab": {
          "base_uri": "https://localhost:8080/"
        }
      },
      "source": [
        "# Agora iteramos por cada separação e treinamos um modelo\n",
        "# O método split retorna índices para o vetor passado como parametro\n",
        "# O .loc é a maneira de indexar tabelas no pandas a partir de índices\n",
        "for train_index, test_index in rs.split(X):\n",
        "  modelo_treinado = modelo.fit(X.loc[train_index], y.loc[train_index])\n",
        "  predicoes = modelo_treinado.predict(X.loc[test_index])\n",
        "  acuracias.append(accuracy_score(y.loc[test_index], predicoes))\n",
        "\n",
        "print(acuracias)\n",
        "print(\"Média das acurácias: \", f\"{sum(acuracias) / len(acuracias):.1%}\")\n",
        "#Uma abordagem seria estratificar a separação entre treino/teste. \n",
        "#A estratificação procura garantir que a distribuição dos dados é semelhante entre os grupos. \n",
        "#Ela pode ser feita tanto para atributos como para rótulos. \n"
      ],
      "execution_count": 50,
      "outputs": [
        {
          "output_type": "stream",
          "text": [
            "[0.9323379069141781, 0.9303778008378493, 0.9317614051270225, 0.9314155040547293, 0.931223336792344, 0.9294746147046389, 0.9310119528037204, 0.9306468350051885, 0.9314731542334448, 0.9323186901879396]\n",
            "Média das acurácias:  93.1%\n"
          ],
          "name": "stdout"
        }
      ]
    },
    {
      "cell_type": "markdown",
      "metadata": {
        "id": "zXo4B8NmVtIY"
      },
      "source": [
        "A acurácia média obtida se manteve equivalente ao produzido pelo SKLearn: 93,1%.\n",
        "\n",
        "###3.3 K-Fold\n",
        "\n",
        "A validação cruzada *k-fold*, embaralha os dados separando-os em *k* partições, onde cada uma passa pelo treinamento contendo dados distintos. A função 'cross_val_score' disponível no SKLearn foi utilizada para gerar as médias dos modelos."
      ]
    },
    {
      "cell_type": "code",
      "metadata": {
        "id": "t4RMiPy-TDn4",
        "outputId": "1ef5c718-1a7b-4426-dd08-68f7d76be9e4",
        "colab": {
          "base_uri": "https://localhost:8080/"
        }
      },
      "source": [
        "from sklearn.model_selection import cross_val_score\n",
        "\n",
        "# O parâmetro cv indica quantas partições criaremos\n",
        "scores = cross_val_score(modelo, X, y, cv=10)\n",
        "print(\"Acurácia média: \", f\"{scores.mean():.1%}\")"
      ],
      "execution_count": 51,
      "outputs": [
        {
          "output_type": "stream",
          "text": [
            "Acurácia média:  93.1%\n"
          ],
          "name": "stdout"
        }
      ]
    },
    {
      "cell_type": "markdown",
      "metadata": {
        "id": "H4qBS7y1-_Id"
      },
      "source": [
        "#4 Considerações preliminares\n",
        "\n",
        "Para o conjunto de dados analisados, as técnicas utilizadas para treinamento,teste e validação, apresentaram resultados muito próximos, com acurácia acima de 93%. Tendo como atributo alvo a necessidade de hospitalização do paciente 'HOSPITALIZADO'. \n",
        "\n",
        "Os demais atributos selecionados nesta análise foram oportunos e ajudaram na precisão do modelo. \n",
        "\n",
        "Já atributos relacionados a faixa etária, região e evolução do quadro do paciente foram descartados, visto que em testes preliminares a correlação foi fraca. "
      ]
    },
    {
      "cell_type": "markdown",
      "metadata": {
        "id": "YfTpCMlSr5rg"
      },
      "source": [
        "Com o modelo treinado, podemos testar com dados fictícios:"
      ]
    },
    {
      "cell_type": "code",
      "metadata": {
        "id": "-Vdl2_DT7jgn",
        "outputId": "e08396de-e6f3-4796-eb1e-6fb2659da33b",
        "colab": {
          "base_uri": "https://localhost:8080/"
        }
      },
      "source": [
        "inferencia = modelo_treinado.predict([[0,0,0,1,0,0]])\n",
        "print (\"Com DISPNEIA\")\n",
        "if inferencia == 0 : \n",
        "  print (\"NAO HOSPITALIZADO\") \n",
        "else: \n",
        "  print (\"HOSPITALIZADO\") "
      ],
      "execution_count": 70,
      "outputs": [
        {
          "output_type": "stream",
          "text": [
            "Com DISPNEIA\n",
            "HOSPITALIZADO\n"
          ],
          "name": "stdout"
        }
      ]
    },
    {
      "cell_type": "code",
      "metadata": {
        "id": "NrYvgVRRvqvR",
        "outputId": "69bdfb18-0ae1-464b-a304-2bfde3527b23",
        "colab": {
          "base_uri": "https://localhost:8080/"
        }
      },
      "source": [
        "inferencia = modelo_treinado.predict([[1,0,0,1,0,0]])\n",
        "print (\"Com FEBRE e DISPNEIA\")\n",
        "if inferencia == 0 : \n",
        "  print (\"NAO HOSPITALIZADO\") \n",
        "else: \n",
        "  print (\"HOSPITALIZADO\") "
      ],
      "execution_count": 80,
      "outputs": [
        {
          "output_type": "stream",
          "text": [
            "Com FEBRE e DISPNEIA\n",
            "HOSPITALIZADO\n"
          ],
          "name": "stdout"
        }
      ]
    },
    {
      "cell_type": "code",
      "metadata": {
        "id": "aKVpEn3WwwRg",
        "outputId": "c7bab283-ea9b-4599-ae64-8462e31207ea",
        "colab": {
          "base_uri": "https://localhost:8080/"
        }
      },
      "source": [
        "inferencia = modelo_treinado.predict([[1,1,0,1,0,0]])\n",
        "print (\"Com FEBRE, TOSSE e DISPNEIA\")\n",
        "if inferencia == 0 : \n",
        "  print (\"NAO HOSPITALIZADO\") \n",
        "else: \n",
        "  print (\"HOSPITALIZADO\") "
      ],
      "execution_count": 79,
      "outputs": [
        {
          "output_type": "stream",
          "text": [
            "Com FEBRE, TOSSE e DISPNEIA\n",
            "HOSPITALIZADO\n"
          ],
          "name": "stdout"
        }
      ]
    },
    {
      "cell_type": "code",
      "metadata": {
        "id": "nRF1jhuIww6F",
        "outputId": "4b8a8f9f-c692-4089-e2f2-ce85abb438a2",
        "colab": {
          "base_uri": "https://localhost:8080/"
        }
      },
      "source": [
        "inferencia = modelo_treinado.predict([[1,1,1,1,0,0]])\n",
        "print (\"Com FEBRE, TOSSE, GARGANTA e DISPNEIA\")\n",
        "if inferencia == 0 : \n",
        "  print (\"NAO HOSPITALIZADO\") \n",
        "else: \n",
        "  print (\"HOSPITALIZADO\") "
      ],
      "execution_count": 78,
      "outputs": [
        {
          "output_type": "stream",
          "text": [
            "Com FEBRE, TOSSE, GARGANTA e DISPNEIA\n",
            "NAO HOSPITALIZADO\n"
          ],
          "name": "stdout"
        }
      ]
    },
    {
      "cell_type": "code",
      "metadata": {
        "id": "RkXrs_r7x7rp",
        "outputId": "889a7215-de88-430e-d32b-56396c43f4e0",
        "colab": {
          "base_uri": "https://localhost:8080/"
        }
      },
      "source": [
        "inferencia = modelo_treinado.predict([[1,1,1,1,1,0]])\n",
        "print (\"Com FEBRE, TOSSE, GARGANTA, DISPNEIA e PROFISSIONAL_SAUDE\")\n",
        "if inferencia == 0 : \n",
        "  print (\"NAO HOSPITALIZADO\") \n",
        "else: \n",
        "  print (\"HOSPITALIZADO\") "
      ],
      "execution_count": 77,
      "outputs": [
        {
          "output_type": "stream",
          "text": [
            "Com FEBRE, TOSSE, GARGANTA, DISPNEIA e PROFISSIONAL_SAUDE\n",
            "NAO HOSPITALIZADO\n"
          ],
          "name": "stdout"
        }
      ]
    },
    {
      "cell_type": "code",
      "metadata": {
        "id": "dqQ3hclhyLrU",
        "outputId": "cc0bcfad-3d29-4fa0-c039-4a49f30725f2",
        "colab": {
          "base_uri": "https://localhost:8080/"
        }
      },
      "source": [
        "inferencia = modelo_treinado.predict([[1,1,1,1,1,1]])\n",
        "print (\"Com FEBRE, TOSSE, GARGANTA, DISPNEIA, PROFISSIONAL_SAUDE e OUTROS\")\n",
        "if inferencia == 0 : \n",
        "  print (\"NAO HOSPITALIZADO\") \n",
        "else: \n",
        "  print (\"HOSPITALIZADO\") "
      ],
      "execution_count": 76,
      "outputs": [
        {
          "output_type": "stream",
          "text": [
            "Com FEBRE, TOSSE, GARGANTA, DISPNEIA, PROFISSIONAL_SAUDE e OUTROS\n",
            "NAO HOSPITALIZADO\n"
          ],
          "name": "stdout"
        }
      ]
    },
    {
      "cell_type": "markdown",
      "metadata": {
        "id": "bFu9Tn8Syk5v"
      },
      "source": [
        "Com as inferência acima, é possível verificar que a presença de `DISPNEIA` corresponde ao atributo alvo mais determinante para a hospitalização do paciente. "
      ]
    }
  ]
}